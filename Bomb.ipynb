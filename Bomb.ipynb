{
 "cells": [
  {
   "cell_type": "markdown",
   "metadata": {},
   "source": [
    "# Predicting Ljubljana' s real estate prizes"
   ]
  },
  {
   "cell_type": "code",
   "execution_count": 144,
   "metadata": {},
   "outputs": [
    {
     "name": "stdout",
     "output_type": "stream",
     "text": [
      "2.3.0\n"
     ]
    }
   ],
   "source": [
    "import pandas as pd\n",
    "import tensorflow as tf\n",
    "import numpy as np\n",
    "import matplotlib.pyplot as plt\n",
    "print(tf.__version__)"
   ]
  },
  {
   "cell_type": "code",
   "execution_count": 153,
   "metadata": {},
   "outputs": [
    {
     "name": "stdout",
     "output_type": "stream",
     "text": [
      "generated_file.csv\r\n"
     ]
    }
   ],
   "source": [
    "!ls *csv"
   ]
  },
  {
   "cell_type": "code",
   "execution_count": 312,
   "metadata": {},
   "outputs": [
    {
     "data": {
      "text/html": [
       "<div>\n",
       "<style scoped>\n",
       "    .dataframe tbody tr th:only-of-type {\n",
       "        vertical-align: middle;\n",
       "    }\n",
       "\n",
       "    .dataframe tbody tr th {\n",
       "        vertical-align: top;\n",
       "    }\n",
       "\n",
       "    .dataframe thead th {\n",
       "        text-align: right;\n",
       "    }\n",
       "</style>\n",
       "<table border=\"1\" class=\"dataframe\">\n",
       "  <thead>\n",
       "    <tr style=\"text-align: right;\">\n",
       "      <th></th>\n",
       "      <th>title</th>\n",
       "      <th>offer_type</th>\n",
       "      <th>desc</th>\n",
       "      <th>size</th>\n",
       "      <th>price</th>\n",
       "    </tr>\n",
       "  </thead>\n",
       "  <tbody>\n",
       "    <tr>\n",
       "      <th>0</th>\n",
       "      <td>Ne spreglejte</td>\n",
       "      <td>trisobno</td>\n",
       "      <td>74,5 m2, 3-sobno, zgrajeno l. 1964, adaptirano...</td>\n",
       "      <td>74,50 m2</td>\n",
       "      <td>890,00 €/mesec</td>\n",
       "    </tr>\n",
       "    <tr>\n",
       "      <th>1</th>\n",
       "      <td>Ne spreglejte</td>\n",
       "      <td>enosobno</td>\n",
       "      <td>35 m2, 1-sobno, zgrajeno l. 1910, adaptirano l...</td>\n",
       "      <td>35,00 m2</td>\n",
       "      <td>470,00 €/mesec</td>\n",
       "    </tr>\n",
       "    <tr>\n",
       "      <th>2</th>\n",
       "      <td>Ne spreglejte</td>\n",
       "      <td>dvosobno</td>\n",
       "      <td>60 m2, 2-sobno, zgrajeno l. 1935, adaptirano l...</td>\n",
       "      <td>60,00 m2</td>\n",
       "      <td>850,00 €/mesec</td>\n",
       "    </tr>\n",
       "    <tr>\n",
       "      <th>3</th>\n",
       "      <td>Ne spreglejte</td>\n",
       "      <td>enoinpolsobno</td>\n",
       "      <td>43,51 m2, 1,5-sobno, zgrajeno l. 2020, 20 m2 z...</td>\n",
       "      <td>43,51 m2</td>\n",
       "      <td>620,00 €/mesec</td>\n",
       "    </tr>\n",
       "    <tr>\n",
       "      <th>4</th>\n",
       "      <td>BEŽIGRAJSKI DVOR</td>\n",
       "      <td>Soba</td>\n",
       "      <td>15 m2, soba, adaptirana l. 2020, visoko pritli...</td>\n",
       "      <td>15,00 m2</td>\n",
       "      <td>180,00 €/mesec</td>\n",
       "    </tr>\n",
       "  </tbody>\n",
       "</table>\n",
       "</div>"
      ],
      "text/plain": [
       "              title     offer_type  \\\n",
       "0     Ne spreglejte       trisobno   \n",
       "1     Ne spreglejte       enosobno   \n",
       "2     Ne spreglejte       dvosobno   \n",
       "3     Ne spreglejte  enoinpolsobno   \n",
       "4  BEŽIGRAJSKI DVOR           Soba   \n",
       "\n",
       "                                                desc      size           price  \n",
       "0  74,5 m2, 3-sobno, zgrajeno l. 1964, adaptirano...  74,50 m2  890,00 €/mesec  \n",
       "1  35 m2, 1-sobno, zgrajeno l. 1910, adaptirano l...  35,00 m2  470,00 €/mesec  \n",
       "2  60 m2, 2-sobno, zgrajeno l. 1935, adaptirano l...  60,00 m2  850,00 €/mesec  \n",
       "3  43,51 m2, 1,5-sobno, zgrajeno l. 2020, 20 m2 z...  43,51 m2  620,00 €/mesec  \n",
       "4  15 m2, soba, adaptirana l. 2020, visoko pritli...  15,00 m2  180,00 €/mesec  "
      ]
     },
     "execution_count": 312,
     "metadata": {},
     "output_type": "execute_result"
    }
   ],
   "source": [
    "df = pd.read_csv('generated_file.csv', delimiter ='|' )\n",
    "df.head()"
   ]
  },
  {
   "cell_type": "code",
   "execution_count": 313,
   "metadata": {},
   "outputs": [
    {
     "data": {
      "text/plain": [
       "title         1078\n",
       "offer_type    1078\n",
       "desc          1078\n",
       "size          1078\n",
       "price         1078\n",
       "dtype: int64"
      ]
     },
     "execution_count": 313,
     "metadata": {},
     "output_type": "execute_result"
    }
   ],
   "source": [
    "df.count()"
   ]
  },
  {
   "cell_type": "code",
   "execution_count": 314,
   "metadata": {},
   "outputs": [
    {
     "data": {
      "text/plain": [
       "(1078, 5)"
      ]
     },
     "execution_count": 314,
     "metadata": {},
     "output_type": "execute_result"
    }
   ],
   "source": [
    "df.shape"
   ]
  },
  {
   "cell_type": "code",
   "execution_count": 315,
   "metadata": {},
   "outputs": [
    {
     "data": {
      "text/html": [
       "<div>\n",
       "<style scoped>\n",
       "    .dataframe tbody tr th:only-of-type {\n",
       "        vertical-align: middle;\n",
       "    }\n",
       "\n",
       "    .dataframe tbody tr th {\n",
       "        vertical-align: top;\n",
       "    }\n",
       "\n",
       "    .dataframe thead th {\n",
       "        text-align: right;\n",
       "    }\n",
       "</style>\n",
       "<table border=\"1\" class=\"dataframe\">\n",
       "  <thead>\n",
       "    <tr style=\"text-align: right;\">\n",
       "      <th></th>\n",
       "      <th>title</th>\n",
       "      <th>offer_type</th>\n",
       "      <th>desc</th>\n",
       "      <th>size</th>\n",
       "      <th>price</th>\n",
       "    </tr>\n",
       "  </thead>\n",
       "  <tbody>\n",
       "    <tr>\n",
       "      <th>4</th>\n",
       "      <td>BEŽIGRAJSKI DVOR</td>\n",
       "      <td>Soba</td>\n",
       "      <td>15 m2, soba, adaptirana l. 2020, visoko pritli...</td>\n",
       "      <td>15,00 m2</td>\n",
       "      <td>180,00 €/mesec</td>\n",
       "    </tr>\n",
       "    <tr>\n",
       "      <th>5</th>\n",
       "      <td>BEŽIGRAJSKI DVOR, LINHARTOVA CESTA 1</td>\n",
       "      <td>garsonjera</td>\n",
       "      <td>30 m2, garsonjera, zgrajena l. 1970, adaptiran...</td>\n",
       "      <td>30,00 m2</td>\n",
       "      <td>500,00 €/mesec</td>\n",
       "    </tr>\n",
       "    <tr>\n",
       "      <th>6</th>\n",
       "      <td>BEŽIGRAJSKI DVOR, PERIČEVA ULICA</td>\n",
       "      <td>garsonjera</td>\n",
       "      <td>25 m2, garsonjera, zgrajena l. 1996, 2/4 nad.,...</td>\n",
       "      <td>25,00 m2</td>\n",
       "      <td>400,00 €/mesec</td>\n",
       "    </tr>\n",
       "    <tr>\n",
       "      <th>7</th>\n",
       "      <td>BEŽIGRAJSKI DVOR, PERIČEVA ULICA</td>\n",
       "      <td>štirisobno</td>\n",
       "      <td>133 m2, 4-sobno, adaptirano l. 2018, 4/4 nad.,...</td>\n",
       "      <td>133,00 m2</td>\n",
       "      <td>1.800,00 €/mesec</td>\n",
       "    </tr>\n",
       "    <tr>\n",
       "      <th>8</th>\n",
       "      <td>BEŽIGRAJSKI DVOR, PERIČEVA ULICA 1</td>\n",
       "      <td>enosobno</td>\n",
       "      <td>28 m2, 1-sobno, zgrajeno l. 1950, adaptirano l...</td>\n",
       "      <td>28,00 m2</td>\n",
       "      <td>400,00 €/mesec</td>\n",
       "    </tr>\n",
       "  </tbody>\n",
       "</table>\n",
       "</div>"
      ],
      "text/plain": [
       "                                  title  offer_type  \\\n",
       "4                      BEŽIGRAJSKI DVOR        Soba   \n",
       "5  BEŽIGRAJSKI DVOR, LINHARTOVA CESTA 1  garsonjera   \n",
       "6      BEŽIGRAJSKI DVOR, PERIČEVA ULICA  garsonjera   \n",
       "7      BEŽIGRAJSKI DVOR, PERIČEVA ULICA  štirisobno   \n",
       "8    BEŽIGRAJSKI DVOR, PERIČEVA ULICA 1    enosobno   \n",
       "\n",
       "                                                desc       size  \\\n",
       "4  15 m2, soba, adaptirana l. 2020, visoko pritli...   15,00 m2   \n",
       "5  30 m2, garsonjera, zgrajena l. 1970, adaptiran...   30,00 m2   \n",
       "6  25 m2, garsonjera, zgrajena l. 1996, 2/4 nad.,...   25,00 m2   \n",
       "7  133 m2, 4-sobno, adaptirano l. 2018, 4/4 nad.,...  133,00 m2   \n",
       "8  28 m2, 1-sobno, zgrajeno l. 1950, adaptirano l...   28,00 m2   \n",
       "\n",
       "              price  \n",
       "4    180,00 €/mesec  \n",
       "5    500,00 €/mesec  \n",
       "6    400,00 €/mesec  \n",
       "7  1.800,00 €/mesec  \n",
       "8    400,00 €/mesec  "
      ]
     },
     "execution_count": 315,
     "metadata": {},
     "output_type": "execute_result"
    }
   ],
   "source": [
    "index_names = df[df['title'] == 'Ne spreglejte' ].index \n",
    "df.drop(index_names, inplace = True) \n",
    "df.head()"
   ]
  },
  {
   "cell_type": "code",
   "execution_count": 316,
   "metadata": {},
   "outputs": [
    {
     "name": "stdout",
     "output_type": "stream",
     "text": [
      "BEŽIGRAJSKI DVOR\n"
     ]
    },
    {
     "data": {
      "text/plain": [
       "title         1074\n",
       "offer_type    1074\n",
       "desc          1074\n",
       "size          1074\n",
       "price         1074\n",
       "dtype: int64"
      ]
     },
     "execution_count": 316,
     "metadata": {},
     "output_type": "execute_result"
    }
   ],
   "source": [
    "print(df.loc[4].at['title'])\n",
    "df.count()"
   ]
  },
  {
   "cell_type": "code",
   "execution_count": 317,
   "metadata": {},
   "outputs": [
    {
     "data": {
      "text/plain": [
       "count         1074\n",
       "unique          13\n",
       "top       trisobno\n",
       "freq           237\n",
       "Name: offer_type, dtype: object"
      ]
     },
     "execution_count": 317,
     "metadata": {},
     "output_type": "execute_result"
    }
   ],
   "source": [
    "df['offer_type'].describe()"
   ]
  },
  {
   "cell_type": "code",
   "execution_count": 318,
   "metadata": {},
   "outputs": [
    {
     "data": {
      "text/plain": [
       "array(['Soba', 'garsonjera', 'štirisobno', 'enosobno', 'dvoinpolsobno',\n",
       "       'trisobno', 'petsobno', 'dvosobno', 'enoinpolsobno',\n",
       "       'triinpolsobno', 'Apartma', 'Drugo', 'štiriinpolsobno'],\n",
       "      dtype=object)"
      ]
     },
     "execution_count": 318,
     "metadata": {},
     "output_type": "execute_result"
    }
   ],
   "source": [
    "df['offer_type'].unique()"
   ]
  },
  {
   "cell_type": "code",
   "execution_count": 320,
   "metadata": {},
   "outputs": [
    {
     "data": {
      "text/html": [
       "<div>\n",
       "<style scoped>\n",
       "    .dataframe tbody tr th:only-of-type {\n",
       "        vertical-align: middle;\n",
       "    }\n",
       "\n",
       "    .dataframe tbody tr th {\n",
       "        vertical-align: top;\n",
       "    }\n",
       "\n",
       "    .dataframe thead th {\n",
       "        text-align: right;\n",
       "    }\n",
       "</style>\n",
       "<table border=\"1\" class=\"dataframe\">\n",
       "  <thead>\n",
       "    <tr style=\"text-align: right;\">\n",
       "      <th></th>\n",
       "      <th>title</th>\n",
       "      <th>offer_type</th>\n",
       "      <th>desc</th>\n",
       "      <th>size</th>\n",
       "      <th>price</th>\n",
       "    </tr>\n",
       "  </thead>\n",
       "  <tbody>\n",
       "    <tr>\n",
       "      <th>4</th>\n",
       "      <td>BEŽIGRAJSKI DVOR</td>\n",
       "      <td>Soba</td>\n",
       "      <td>15 m2, soba, adaptirana l. 2020, visoko pritli...</td>\n",
       "      <td>15,00 m2</td>\n",
       "      <td>180,00 €/mesec</td>\n",
       "    </tr>\n",
       "    <tr>\n",
       "      <th>5</th>\n",
       "      <td>BEŽIGRAJSKI DVOR, LINHARTOVA CESTA 1</td>\n",
       "      <td>garsonjera</td>\n",
       "      <td>30 m2, garsonjera, zgrajena l. 1970, adaptiran...</td>\n",
       "      <td>30,00 m2</td>\n",
       "      <td>500,00 €/mesec</td>\n",
       "    </tr>\n",
       "    <tr>\n",
       "      <th>6</th>\n",
       "      <td>BEŽIGRAJSKI DVOR, PERIČEVA ULICA</td>\n",
       "      <td>garsonjera</td>\n",
       "      <td>25 m2, garsonjera, zgrajena l. 1996, 2/4 nad.,...</td>\n",
       "      <td>25,00 m2</td>\n",
       "      <td>400,00 €/mesec</td>\n",
       "    </tr>\n",
       "    <tr>\n",
       "      <th>7</th>\n",
       "      <td>BEŽIGRAJSKI DVOR, PERIČEVA ULICA</td>\n",
       "      <td>štirisobno</td>\n",
       "      <td>133 m2, 4-sobno, adaptirano l. 2018, 4/4 nad.,...</td>\n",
       "      <td>133,00 m2</td>\n",
       "      <td>1.800,00 €/mesec</td>\n",
       "    </tr>\n",
       "    <tr>\n",
       "      <th>8</th>\n",
       "      <td>BEŽIGRAJSKI DVOR, PERIČEVA ULICA 1</td>\n",
       "      <td>enosobno</td>\n",
       "      <td>28 m2, 1-sobno, zgrajeno l. 1950, adaptirano l...</td>\n",
       "      <td>28,00 m2</td>\n",
       "      <td>400,00 €/mesec</td>\n",
       "    </tr>\n",
       "  </tbody>\n",
       "</table>\n",
       "</div>"
      ],
      "text/plain": [
       "                                  title  offer_type  \\\n",
       "4                      BEŽIGRAJSKI DVOR        Soba   \n",
       "5  BEŽIGRAJSKI DVOR, LINHARTOVA CESTA 1  garsonjera   \n",
       "6      BEŽIGRAJSKI DVOR, PERIČEVA ULICA  garsonjera   \n",
       "7      BEŽIGRAJSKI DVOR, PERIČEVA ULICA  štirisobno   \n",
       "8    BEŽIGRAJSKI DVOR, PERIČEVA ULICA 1    enosobno   \n",
       "\n",
       "                                                desc       size  \\\n",
       "4  15 m2, soba, adaptirana l. 2020, visoko pritli...   15,00 m2   \n",
       "5  30 m2, garsonjera, zgrajena l. 1970, adaptiran...   30,00 m2   \n",
       "6  25 m2, garsonjera, zgrajena l. 1996, 2/4 nad.,...   25,00 m2   \n",
       "7  133 m2, 4-sobno, adaptirano l. 2018, 4/4 nad.,...  133,00 m2   \n",
       "8  28 m2, 1-sobno, zgrajeno l. 1950, adaptirano l...   28,00 m2   \n",
       "\n",
       "              price  \n",
       "4    180,00 €/mesec  \n",
       "5    500,00 €/mesec  \n",
       "6    400,00 €/mesec  \n",
       "7  1.800,00 €/mesec  \n",
       "8    400,00 €/mesec  "
      ]
     },
     "execution_count": 320,
     "metadata": {},
     "output_type": "execute_result"
    }
   ],
   "source": [
    "index_names = df[df['offer_type'] == 'Drugo' ].index \n",
    "df.drop(index_names, inplace = True) \n",
    "df.head()"
   ]
  },
  {
   "cell_type": "code",
   "execution_count": 321,
   "metadata": {},
   "outputs": [
    {
     "name": "stdout",
     "output_type": "stream",
     "text": [
      "Enosobnih je tulk:  81\n",
      "Dvosobnih je tulk:  209\n",
      "Trisobnih je tulk:  237\n",
      "Štirisobnih je tulk:  101\n",
      "Garsonjera je tulk:  123\n",
      "\n",
      " 751\n"
     ]
    }
   ],
   "source": [
    "enosobno_count = df[df.offer_type=='enosobno'].count()\n",
    "dvosobno_count = df[df.offer_type=='dvosobno'].count()\n",
    "trisobno_count = df[df.offer_type=='trisobno'].count()\n",
    "štirisobno_count = df[df.offer_type=='štirisobno'].count()\n",
    "garsonjera = df[df.offer_type=='garsonjera'].count()\n",
    "\n",
    "\n",
    "print(\"Enosobnih je tulk: \", enosobno_count[0])\n",
    "print(\"Dvosobnih je tulk: \", dvosobno_count[0])\n",
    "print(\"Trisobnih je tulk: \", trisobno_count[0])\n",
    "print(\"Štirisobnih je tulk: \", štirisobno_count[0])\n",
    "print(\"Garsonjera je tulk: \", garsonjera[0])\n",
    "\n",
    "print(\"\\n\",enosobno_count[0]+dvosobno_count[0]+trisobno_count[0]+štirisobno_count[0]+garsonjera[0])\n"
   ]
  },
  {
   "cell_type": "code",
   "execution_count": 322,
   "metadata": {},
   "outputs": [
    {
     "data": {
      "text/html": [
       "<div>\n",
       "<style scoped>\n",
       "    .dataframe tbody tr th:only-of-type {\n",
       "        vertical-align: middle;\n",
       "    }\n",
       "\n",
       "    .dataframe tbody tr th {\n",
       "        vertical-align: top;\n",
       "    }\n",
       "\n",
       "    .dataframe thead th {\n",
       "        text-align: right;\n",
       "    }\n",
       "</style>\n",
       "<table border=\"1\" class=\"dataframe\">\n",
       "  <thead>\n",
       "    <tr style=\"text-align: right;\">\n",
       "      <th></th>\n",
       "      <th>title</th>\n",
       "      <th>offer_type</th>\n",
       "      <th>desc</th>\n",
       "      <th>size</th>\n",
       "      <th>price</th>\n",
       "    </tr>\n",
       "  </thead>\n",
       "  <tbody>\n",
       "    <tr>\n",
       "      <th>4</th>\n",
       "      <td>BEŽIGRAJSKI DVOR</td>\n",
       "      <td>2</td>\n",
       "      <td>15 m2, soba, adaptirana l. 2020, visoko pritli...</td>\n",
       "      <td>15,00 m2</td>\n",
       "      <td>180,00 €/mesec</td>\n",
       "    </tr>\n",
       "    <tr>\n",
       "      <th>5</th>\n",
       "      <td>BEŽIGRAJSKI DVOR, LINHARTOVA CESTA 1</td>\n",
       "      <td>5.5</td>\n",
       "      <td>30 m2, garsonjera, zgrajena l. 1970, adaptiran...</td>\n",
       "      <td>30,00 m2</td>\n",
       "      <td>500,00 €/mesec</td>\n",
       "    </tr>\n",
       "    <tr>\n",
       "      <th>6</th>\n",
       "      <td>BEŽIGRAJSKI DVOR, PERIČEVA ULICA</td>\n",
       "      <td>5.5</td>\n",
       "      <td>25 m2, garsonjera, zgrajena l. 1996, 2/4 nad.,...</td>\n",
       "      <td>25,00 m2</td>\n",
       "      <td>400,00 €/mesec</td>\n",
       "    </tr>\n",
       "    <tr>\n",
       "      <th>7</th>\n",
       "      <td>BEŽIGRAJSKI DVOR, PERIČEVA ULICA</td>\n",
       "      <td>6</td>\n",
       "      <td>133 m2, 4-sobno, adaptirano l. 2018, 4/4 nad.,...</td>\n",
       "      <td>133,00 m2</td>\n",
       "      <td>1.800,00 €/mesec</td>\n",
       "    </tr>\n",
       "    <tr>\n",
       "      <th>8</th>\n",
       "      <td>BEŽIGRAJSKI DVOR, PERIČEVA ULICA 1</td>\n",
       "      <td>3</td>\n",
       "      <td>28 m2, 1-sobno, zgrajeno l. 1950, adaptirano l...</td>\n",
       "      <td>28,00 m2</td>\n",
       "      <td>400,00 €/mesec</td>\n",
       "    </tr>\n",
       "  </tbody>\n",
       "</table>\n",
       "</div>"
      ],
      "text/plain": [
       "                                  title offer_type  \\\n",
       "4                      BEŽIGRAJSKI DVOR          2   \n",
       "5  BEŽIGRAJSKI DVOR, LINHARTOVA CESTA 1        5.5   \n",
       "6      BEŽIGRAJSKI DVOR, PERIČEVA ULICA        5.5   \n",
       "7      BEŽIGRAJSKI DVOR, PERIČEVA ULICA          6   \n",
       "8    BEŽIGRAJSKI DVOR, PERIČEVA ULICA 1          3   \n",
       "\n",
       "                                                desc       size  \\\n",
       "4  15 m2, soba, adaptirana l. 2020, visoko pritli...   15,00 m2   \n",
       "5  30 m2, garsonjera, zgrajena l. 1970, adaptiran...   30,00 m2   \n",
       "6  25 m2, garsonjera, zgrajena l. 1996, 2/4 nad.,...   25,00 m2   \n",
       "7  133 m2, 4-sobno, adaptirano l. 2018, 4/4 nad.,...  133,00 m2   \n",
       "8  28 m2, 1-sobno, zgrajeno l. 1950, adaptirano l...   28,00 m2   \n",
       "\n",
       "              price  \n",
       "4    180,00 €/mesec  \n",
       "5    500,00 €/mesec  \n",
       "6    400,00 €/mesec  \n",
       "7  1.800,00 €/mesec  \n",
       "8    400,00 €/mesec  "
      ]
     },
     "execution_count": 322,
     "metadata": {},
     "output_type": "execute_result"
    }
   ],
   "source": [
    "add = 2 \n",
    "\n",
    "df.loc[df['offer_type'] == 'enosobno', 'offer_type'] = 1 + add\n",
    "df.loc[df['offer_type'] == 'dvosobno', 'offer_type'] = 2 + add\n",
    "df.loc[df['offer_type'] == 'trisobno', 'offer_type'] = 3 + add\n",
    "df.loc[df['offer_type'] == 'štirisobno', 'offer_type'] = 4 + add\n",
    "df.loc[df['offer_type'] == 'Soba', 'offer_type'] = 0 + add\n",
    "df.loc[df['offer_type'] == 'enoinpolsobno', 'offer_type'] = 1.5 + add\n",
    "df.loc[df['offer_type'] == 'dvoinpolsobno', 'offer_type'] = 2.5 + add\n",
    "df.loc[df['offer_type'] == 'štiriinpolsobno', 'offer_type'] = 4.5 + add\n",
    "df.loc[df['offer_type'] == 'triinpolsobno', 'offer_type'] = 3.5 + add\n",
    "df.loc[df['offer_type'] == 'garsonjera', 'offer_type'] = 3.5 + add\n",
    "df.loc[df['offer_type'] == 'petsobno', 'offer_type'] = 5 + add\n",
    "df.loc[df['offer_type'] == 'Apartma', 'offer_type'] = 0 + add\n",
    "\n",
    "\n",
    "\n",
    "df.head()\n"
   ]
  },
  {
   "cell_type": "code",
   "execution_count": 323,
   "metadata": {},
   "outputs": [
    {
     "data": {
      "text/html": [
       "<div>\n",
       "<style scoped>\n",
       "    .dataframe tbody tr th:only-of-type {\n",
       "        vertical-align: middle;\n",
       "    }\n",
       "\n",
       "    .dataframe tbody tr th {\n",
       "        vertical-align: top;\n",
       "    }\n",
       "\n",
       "    .dataframe thead th {\n",
       "        text-align: right;\n",
       "    }\n",
       "</style>\n",
       "<table border=\"1\" class=\"dataframe\">\n",
       "  <thead>\n",
       "    <tr style=\"text-align: right;\">\n",
       "      <th></th>\n",
       "      <th>title</th>\n",
       "      <th>offer_type</th>\n",
       "      <th>desc</th>\n",
       "      <th>size</th>\n",
       "      <th>price</th>\n",
       "    </tr>\n",
       "  </thead>\n",
       "  <tbody>\n",
       "    <tr>\n",
       "      <th>4</th>\n",
       "      <td>BEŽIGRAJSKI DVOR</td>\n",
       "      <td>2.0</td>\n",
       "      <td>15 m2, soba, adaptirana l. 2020, visoko pritli...</td>\n",
       "      <td>15,00 m2</td>\n",
       "      <td>180,00 €/mesec</td>\n",
       "    </tr>\n",
       "    <tr>\n",
       "      <th>5</th>\n",
       "      <td>BEŽIGRAJSKI DVOR, LINHARTOVA CESTA 1</td>\n",
       "      <td>5.5</td>\n",
       "      <td>30 m2, garsonjera, zgrajena l. 1970, adaptiran...</td>\n",
       "      <td>30,00 m2</td>\n",
       "      <td>500,00 €/mesec</td>\n",
       "    </tr>\n",
       "    <tr>\n",
       "      <th>6</th>\n",
       "      <td>BEŽIGRAJSKI DVOR, PERIČEVA ULICA</td>\n",
       "      <td>5.5</td>\n",
       "      <td>25 m2, garsonjera, zgrajena l. 1996, 2/4 nad.,...</td>\n",
       "      <td>25,00 m2</td>\n",
       "      <td>400,00 €/mesec</td>\n",
       "    </tr>\n",
       "    <tr>\n",
       "      <th>7</th>\n",
       "      <td>BEŽIGRAJSKI DVOR, PERIČEVA ULICA</td>\n",
       "      <td>6.0</td>\n",
       "      <td>133 m2, 4-sobno, adaptirano l. 2018, 4/4 nad.,...</td>\n",
       "      <td>133,00 m2</td>\n",
       "      <td>1.800,00 €/mesec</td>\n",
       "    </tr>\n",
       "    <tr>\n",
       "      <th>8</th>\n",
       "      <td>BEŽIGRAJSKI DVOR, PERIČEVA ULICA 1</td>\n",
       "      <td>3.0</td>\n",
       "      <td>28 m2, 1-sobno, zgrajeno l. 1950, adaptirano l...</td>\n",
       "      <td>28,00 m2</td>\n",
       "      <td>400,00 €/mesec</td>\n",
       "    </tr>\n",
       "  </tbody>\n",
       "</table>\n",
       "</div>"
      ],
      "text/plain": [
       "                                  title  offer_type  \\\n",
       "4                      BEŽIGRAJSKI DVOR         2.0   \n",
       "5  BEŽIGRAJSKI DVOR, LINHARTOVA CESTA 1         5.5   \n",
       "6      BEŽIGRAJSKI DVOR, PERIČEVA ULICA         5.5   \n",
       "7      BEŽIGRAJSKI DVOR, PERIČEVA ULICA         6.0   \n",
       "8    BEŽIGRAJSKI DVOR, PERIČEVA ULICA 1         3.0   \n",
       "\n",
       "                                                desc       size  \\\n",
       "4  15 m2, soba, adaptirana l. 2020, visoko pritli...   15,00 m2   \n",
       "5  30 m2, garsonjera, zgrajena l. 1970, adaptiran...   30,00 m2   \n",
       "6  25 m2, garsonjera, zgrajena l. 1996, 2/4 nad.,...   25,00 m2   \n",
       "7  133 m2, 4-sobno, adaptirano l. 2018, 4/4 nad.,...  133,00 m2   \n",
       "8  28 m2, 1-sobno, zgrajeno l. 1950, adaptirano l...   28,00 m2   \n",
       "\n",
       "              price  \n",
       "4    180,00 €/mesec  \n",
       "5    500,00 €/mesec  \n",
       "6    400,00 €/mesec  \n",
       "7  1.800,00 €/mesec  \n",
       "8    400,00 €/mesec  "
      ]
     },
     "execution_count": 323,
     "metadata": {},
     "output_type": "execute_result"
    }
   ],
   "source": [
    "df['offer_type'] = pd.to_numeric(df['offer_type'])\n",
    "df.head()"
   ]
  },
  {
   "cell_type": "code",
   "execution_count": 324,
   "metadata": {},
   "outputs": [
    {
     "data": {
      "text/plain": [
       "414"
      ]
     },
     "execution_count": 324,
     "metadata": {},
     "output_type": "execute_result"
    }
   ],
   "source": [
    "len(df.title.unique())"
   ]
  },
  {
   "cell_type": "markdown",
   "metadata": {},
   "source": [
    "Things to be done:\n",
    "    - lokacija"
   ]
  },
  {
   "cell_type": "code",
   "execution_count": 325,
   "metadata": {},
   "outputs": [
    {
     "data": {
      "text/html": [
       "<div>\n",
       "<style scoped>\n",
       "    .dataframe tbody tr th:only-of-type {\n",
       "        vertical-align: middle;\n",
       "    }\n",
       "\n",
       "    .dataframe tbody tr th {\n",
       "        vertical-align: top;\n",
       "    }\n",
       "\n",
       "    .dataframe thead th {\n",
       "        text-align: right;\n",
       "    }\n",
       "</style>\n",
       "<table border=\"1\" class=\"dataframe\">\n",
       "  <thead>\n",
       "    <tr style=\"text-align: right;\">\n",
       "      <th></th>\n",
       "      <th>title</th>\n",
       "      <th>offer_type</th>\n",
       "      <th>desc</th>\n",
       "      <th>size</th>\n",
       "      <th>price</th>\n",
       "    </tr>\n",
       "  </thead>\n",
       "  <tbody>\n",
       "    <tr>\n",
       "      <th>4</th>\n",
       "      <td>BEŽIGRAJSKI DVOR</td>\n",
       "      <td>2.0</td>\n",
       "      <td>15 m2, soba, adaptirana l. 2020, visoko pritli...</td>\n",
       "      <td>15.00</td>\n",
       "      <td>180.00</td>\n",
       "    </tr>\n",
       "    <tr>\n",
       "      <th>5</th>\n",
       "      <td>BEŽIGRAJSKI DVOR, LINHARTOVA CESTA 1</td>\n",
       "      <td>5.5</td>\n",
       "      <td>30 m2, garsonjera, zgrajena l. 1970, adaptiran...</td>\n",
       "      <td>30.00</td>\n",
       "      <td>500.00</td>\n",
       "    </tr>\n",
       "    <tr>\n",
       "      <th>6</th>\n",
       "      <td>BEŽIGRAJSKI DVOR, PERIČEVA ULICA</td>\n",
       "      <td>5.5</td>\n",
       "      <td>25 m2, garsonjera, zgrajena l. 1996, 2/4 nad.,...</td>\n",
       "      <td>5.00</td>\n",
       "      <td>400.00</td>\n",
       "    </tr>\n",
       "    <tr>\n",
       "      <th>7</th>\n",
       "      <td>BEŽIGRAJSKI DVOR, PERIČEVA ULICA</td>\n",
       "      <td>6.0</td>\n",
       "      <td>133 m2, 4-sobno, adaptirano l. 2018, 4/4 nad.,...</td>\n",
       "      <td>133.00</td>\n",
       "      <td>1.800.00</td>\n",
       "    </tr>\n",
       "    <tr>\n",
       "      <th>8</th>\n",
       "      <td>BEŽIGRAJSKI DVOR, PERIČEVA ULICA 1</td>\n",
       "      <td>3.0</td>\n",
       "      <td>28 m2, 1-sobno, zgrajeno l. 1950, adaptirano l...</td>\n",
       "      <td>8.00</td>\n",
       "      <td>400.00</td>\n",
       "    </tr>\n",
       "  </tbody>\n",
       "</table>\n",
       "</div>"
      ],
      "text/plain": [
       "                                  title  offer_type  \\\n",
       "4                      BEŽIGRAJSKI DVOR         2.0   \n",
       "5  BEŽIGRAJSKI DVOR, LINHARTOVA CESTA 1         5.5   \n",
       "6      BEŽIGRAJSKI DVOR, PERIČEVA ULICA         5.5   \n",
       "7      BEŽIGRAJSKI DVOR, PERIČEVA ULICA         6.0   \n",
       "8    BEŽIGRAJSKI DVOR, PERIČEVA ULICA 1         3.0   \n",
       "\n",
       "                                                desc    size     price  \n",
       "4  15 m2, soba, adaptirana l. 2020, visoko pritli...   15.00    180.00  \n",
       "5  30 m2, garsonjera, zgrajena l. 1970, adaptiran...   30.00    500.00  \n",
       "6  25 m2, garsonjera, zgrajena l. 1996, 2/4 nad.,...    5.00    400.00  \n",
       "7  133 m2, 4-sobno, adaptirano l. 2018, 4/4 nad.,...  133.00  1.800.00  \n",
       "8  28 m2, 1-sobno, zgrajeno l. 1950, adaptirano l...    8.00    400.00  "
      ]
     },
     "execution_count": 325,
     "metadata": {},
     "output_type": "execute_result"
    }
   ],
   "source": [
    "df['size'] = df['size'].str.strip(' m2')\n",
    "df['price'] =df['price'].str.strip(' €/mesec')\n",
    "\n",
    "df['size'] = df['size'].str.replace(',','.')\n",
    "df['price'] =df['price'].str.replace(',', '.')\n",
    "\n",
    "df.head()"
   ]
  },
  {
   "cell_type": "code",
   "execution_count": 326,
   "metadata": {},
   "outputs": [
    {
     "data": {
      "text/plain": [
       "366"
      ]
     },
     "execution_count": 326,
     "metadata": {},
     "output_type": "execute_result"
    }
   ],
   "source": [
    "len(df['size'].unique())"
   ]
  },
  {
   "cell_type": "code",
   "execution_count": 283,
   "metadata": {},
   "outputs": [
    {
     "data": {
      "text/html": [
       "<div>\n",
       "<style scoped>\n",
       "    .dataframe tbody tr th:only-of-type {\n",
       "        vertical-align: middle;\n",
       "    }\n",
       "\n",
       "    .dataframe tbody tr th {\n",
       "        vertical-align: top;\n",
       "    }\n",
       "\n",
       "    .dataframe thead th {\n",
       "        text-align: right;\n",
       "    }\n",
       "</style>\n",
       "<table border=\"1\" class=\"dataframe\">\n",
       "  <thead>\n",
       "    <tr style=\"text-align: right;\">\n",
       "      <th></th>\n",
       "      <th>title</th>\n",
       "      <th>offer_type</th>\n",
       "      <th>desc</th>\n",
       "      <th>size</th>\n",
       "      <th>price</th>\n",
       "    </tr>\n",
       "  </thead>\n",
       "  <tbody>\n",
       "    <tr>\n",
       "      <th>4</th>\n",
       "      <td>BEŽIGRAJSKI DVOR</td>\n",
       "      <td>Soba</td>\n",
       "      <td>15 m2, soba, adaptirana l. 2020, visoko pritli...</td>\n",
       "      <td>15.0</td>\n",
       "      <td>180.00</td>\n",
       "    </tr>\n",
       "    <tr>\n",
       "      <th>5</th>\n",
       "      <td>BEŽIGRAJSKI DVOR, LINHARTOVA CESTA 1</td>\n",
       "      <td>garsonjera</td>\n",
       "      <td>30 m2, garsonjera, zgrajena l. 1970, adaptiran...</td>\n",
       "      <td>30.0</td>\n",
       "      <td>500.00</td>\n",
       "    </tr>\n",
       "    <tr>\n",
       "      <th>6</th>\n",
       "      <td>BEŽIGRAJSKI DVOR, PERIČEVA ULICA</td>\n",
       "      <td>garsonjera</td>\n",
       "      <td>25 m2, garsonjera, zgrajena l. 1996, 2/4 nad.,...</td>\n",
       "      <td>5.0</td>\n",
       "      <td>400.00</td>\n",
       "    </tr>\n",
       "    <tr>\n",
       "      <th>7</th>\n",
       "      <td>BEŽIGRAJSKI DVOR, PERIČEVA ULICA</td>\n",
       "      <td>štirisobno</td>\n",
       "      <td>133 m2, 4-sobno, adaptirano l. 2018, 4/4 nad.,...</td>\n",
       "      <td>133.0</td>\n",
       "      <td>1.800.00</td>\n",
       "    </tr>\n",
       "    <tr>\n",
       "      <th>8</th>\n",
       "      <td>BEŽIGRAJSKI DVOR, PERIČEVA ULICA 1</td>\n",
       "      <td>enosobno</td>\n",
       "      <td>28 m2, 1-sobno, zgrajeno l. 1950, adaptirano l...</td>\n",
       "      <td>8.0</td>\n",
       "      <td>400.00</td>\n",
       "    </tr>\n",
       "  </tbody>\n",
       "</table>\n",
       "</div>"
      ],
      "text/plain": [
       "                                  title  offer_type  \\\n",
       "4                      BEŽIGRAJSKI DVOR        Soba   \n",
       "5  BEŽIGRAJSKI DVOR, LINHARTOVA CESTA 1  garsonjera   \n",
       "6      BEŽIGRAJSKI DVOR, PERIČEVA ULICA  garsonjera   \n",
       "7      BEŽIGRAJSKI DVOR, PERIČEVA ULICA  štirisobno   \n",
       "8    BEŽIGRAJSKI DVOR, PERIČEVA ULICA 1    enosobno   \n",
       "\n",
       "                                                desc   size     price  \n",
       "4  15 m2, soba, adaptirana l. 2020, visoko pritli...   15.0    180.00  \n",
       "5  30 m2, garsonjera, zgrajena l. 1970, adaptiran...   30.0    500.00  \n",
       "6  25 m2, garsonjera, zgrajena l. 1996, 2/4 nad.,...    5.0    400.00  \n",
       "7  133 m2, 4-sobno, adaptirano l. 2018, 4/4 nad.,...  133.0  1.800.00  \n",
       "8  28 m2, 1-sobno, zgrajeno l. 1950, adaptirano l...    8.0    400.00  "
      ]
     },
     "execution_count": 283,
     "metadata": {},
     "output_type": "execute_result"
    }
   ],
   "source": [
    "df['size'] = pd.to_numeric(df['size'])\n",
    "df.head()"
   ]
  },
  {
   "cell_type": "code",
   "execution_count": 288,
   "metadata": {},
   "outputs": [
    {
     "data": {
      "text/html": [
       "<div>\n",
       "<style scoped>\n",
       "    .dataframe tbody tr th:only-of-type {\n",
       "        vertical-align: middle;\n",
       "    }\n",
       "\n",
       "    .dataframe tbody tr th {\n",
       "        vertical-align: top;\n",
       "    }\n",
       "\n",
       "    .dataframe thead th {\n",
       "        text-align: right;\n",
       "    }\n",
       "</style>\n",
       "<table border=\"1\" class=\"dataframe\">\n",
       "  <thead>\n",
       "    <tr style=\"text-align: right;\">\n",
       "      <th></th>\n",
       "      <th>title</th>\n",
       "      <th>offer_type</th>\n",
       "      <th>desc</th>\n",
       "      <th>size</th>\n",
       "      <th>price</th>\n",
       "      <th>enosobno</th>\n",
       "    </tr>\n",
       "  </thead>\n",
       "  <tbody>\n",
       "    <tr>\n",
       "      <th>4</th>\n",
       "      <td>BEŽIGRAJSKI DVOR</td>\n",
       "      <td>Soba</td>\n",
       "      <td>15 m2, soba, adaptirana l. 2020, visoko pritli...</td>\n",
       "      <td>15.0</td>\n",
       "      <td>180.00</td>\n",
       "      <td>NaN</td>\n",
       "    </tr>\n",
       "    <tr>\n",
       "      <th>5</th>\n",
       "      <td>BEŽIGRAJSKI DVOR, LINHARTOVA CESTA 1</td>\n",
       "      <td>garsonjera</td>\n",
       "      <td>30 m2, garsonjera, zgrajena l. 1970, adaptiran...</td>\n",
       "      <td>30.0</td>\n",
       "      <td>500.00</td>\n",
       "      <td>NaN</td>\n",
       "    </tr>\n",
       "    <tr>\n",
       "      <th>6</th>\n",
       "      <td>BEŽIGRAJSKI DVOR, PERIČEVA ULICA</td>\n",
       "      <td>garsonjera</td>\n",
       "      <td>25 m2, garsonjera, zgrajena l. 1996, 2/4 nad.,...</td>\n",
       "      <td>5.0</td>\n",
       "      <td>400.00</td>\n",
       "      <td>NaN</td>\n",
       "    </tr>\n",
       "    <tr>\n",
       "      <th>7</th>\n",
       "      <td>BEŽIGRAJSKI DVOR, PERIČEVA ULICA</td>\n",
       "      <td>štirisobno</td>\n",
       "      <td>133 m2, 4-sobno, adaptirano l. 2018, 4/4 nad.,...</td>\n",
       "      <td>133.0</td>\n",
       "      <td>1.800.00</td>\n",
       "      <td>NaN</td>\n",
       "    </tr>\n",
       "    <tr>\n",
       "      <th>8</th>\n",
       "      <td>BEŽIGRAJSKI DVOR, PERIČEVA ULICA 1</td>\n",
       "      <td>1</td>\n",
       "      <td>28 m2, 1-sobno, zgrajeno l. 1950, adaptirano l...</td>\n",
       "      <td>8.0</td>\n",
       "      <td>400.00</td>\n",
       "      <td>1.0</td>\n",
       "    </tr>\n",
       "  </tbody>\n",
       "</table>\n",
       "</div>"
      ],
      "text/plain": [
       "                                  title  offer_type  \\\n",
       "4                      BEŽIGRAJSKI DVOR        Soba   \n",
       "5  BEŽIGRAJSKI DVOR, LINHARTOVA CESTA 1  garsonjera   \n",
       "6      BEŽIGRAJSKI DVOR, PERIČEVA ULICA  garsonjera   \n",
       "7      BEŽIGRAJSKI DVOR, PERIČEVA ULICA  štirisobno   \n",
       "8    BEŽIGRAJSKI DVOR, PERIČEVA ULICA 1           1   \n",
       "\n",
       "                                                desc   size     price  \\\n",
       "4  15 m2, soba, adaptirana l. 2020, visoko pritli...   15.0    180.00   \n",
       "5  30 m2, garsonjera, zgrajena l. 1970, adaptiran...   30.0    500.00   \n",
       "6  25 m2, garsonjera, zgrajena l. 1996, 2/4 nad.,...    5.0    400.00   \n",
       "7  133 m2, 4-sobno, adaptirano l. 2018, 4/4 nad.,...  133.0  1.800.00   \n",
       "8  28 m2, 1-sobno, zgrajeno l. 1950, adaptirano l...    8.0    400.00   \n",
       "\n",
       "   enosobno  \n",
       "4       NaN  \n",
       "5       NaN  \n",
       "6       NaN  \n",
       "7       NaN  \n",
       "8       1.0  "
      ]
     },
     "execution_count": 288,
     "metadata": {},
     "output_type": "execute_result"
    }
   ],
   "source": []
  },
  {
   "cell_type": "code",
   "execution_count": 16,
   "metadata": {},
   "outputs": [
    {
     "name": "stdout",
     "output_type": "stream",
     "text": [
      "Model: \"sequential_2\"\n",
      "_________________________________________________________________\n",
      "Layer (type)                 Output Shape              Param #   \n",
      "=================================================================\n",
      "dense_6 (Dense)              (None, 5, 128)            768       \n",
      "_________________________________________________________________\n",
      "dropout_2 (Dropout)          (None, 5, 128)            0         \n",
      "_________________________________________________________________\n",
      "dense_7 (Dense)              (None, 5, 64)             8256      \n",
      "_________________________________________________________________\n",
      "dropout_3 (Dropout)          (None, 5, 64)             0         \n",
      "_________________________________________________________________\n",
      "dense_8 (Dense)              (None, 5, 16)             1040      \n",
      "_________________________________________________________________\n",
      "dense_9 (Dense)              (None, 5, 1)              17        \n",
      "=================================================================\n",
      "Total params: 10,081\n",
      "Trainable params: 10,081\n",
      "Non-trainable params: 0\n",
      "_________________________________________________________________\n"
     ]
    }
   ],
   "source": [
    "from tensorflow.keras.layers import Dense, Dropout\n",
    "model = tf.keras.Sequential([\n",
    "    Dense(128, input_shape=(5,5),activation='relu'),\n",
    "    Dropout(0.2),\n",
    "    Dense(64, activation='relu'),\n",
    "    Dropout(0.2),\n",
    "    Dense(16, activation='relu'),\n",
    "    Dense(1,activation='sigmoid')\n",
    "])\n",
    "\n",
    "opt = tf.keras.optimizers.RMSprop(learning_rate=0.05)\n",
    "model.compile(optimizer=opt, loss='mean_squared_error', metrics=['accuracy'])\n",
    "\n",
    "model.summary()"
   ]
  },
  {
   "cell_type": "code",
   "execution_count": null,
   "metadata": {},
   "outputs": [],
   "source": [
    "X =df.drop(['prize'])\n",
    "Y =df['prize']\n",
    "\n",
    "early_stopper = tf.keras.callbacks.EarlyStopping(monitor='acc', patience=3, mode='min', min_delta=0.01)\n",
    "# introduce the model checkpoint callback\n",
    "history = model.fit(X, Y, validation_split=0.2,epochs=20, batch_size=32, callbacks=[early_stopper],verbose=2 )"
   ]
  },
  {
   "cell_type": "code",
   "execution_count": null,
   "metadata": {},
   "outputs": [],
   "source": [
    "results = pd.DataFrame(history.history)\n",
    "acc = results['accuracy']\n",
    "loss = results['loss']\n",
    "val_acc = results['val_accuracy']\n",
    "val_loss = results['val_loss']\n",
    "\n",
    "epochs=range(len(acc))\n",
    "\n",
    "df.plot(x = epochs, y = [acc, val_acc])\n",
    "plt.xlabel(\"Epochs\")\n",
    "plt.ylabel(\"Accuracy\")\n",
    "plt.title(\"Epoch vs Accuracy\")\n",
    "plt.legend()\n",
    "\n",
    "df.plot(x = epochs, y = [loss, val_loss])\n",
    "plt.xlabel(\"Epochs\")\n",
    "plt.ylabel(\"Loss\")\n",
    "plt.title(\"Epoch vs Loss\")\n",
    "plt.legend()\n",
    "plt.show()"
   ]
  }
 ],
 "metadata": {
  "kernelspec": {
   "display_name": "Python 3",
   "language": "python",
   "name": "python3"
  },
  "language_info": {
   "codemirror_mode": {
    "name": "ipython",
    "version": 3
   },
   "file_extension": ".py",
   "mimetype": "text/x-python",
   "name": "python",
   "nbconvert_exporter": "python",
   "pygments_lexer": "ipython3",
   "version": "3.8.5"
  }
 },
 "nbformat": 4,
 "nbformat_minor": 4
}
