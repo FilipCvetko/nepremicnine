{
 "cells": [
  {
   "cell_type": "markdown",
   "metadata": {},
   "source": [
    "# Predicting Ljubljana' s real estate prizes\n",
    "## Coursera EDA Project"
   ]
  },
  {
   "cell_type": "markdown",
   "metadata": {},
   "source": [
    "First we will import all the necessary libraries needed for data preprocessing and visualisation"
   ]
  },
  {
   "cell_type": "code",
   "execution_count": 1,
   "metadata": {},
   "outputs": [
    {
     "name": "stdout",
     "output_type": "stream",
     "text": [
      "2.3.0\n"
     ]
    }
   ],
   "source": [
    "import pandas as pd\n",
    "import tensorflow as tf\n",
    "import matplotlib.pyplot as plt\n",
    "import numpy as np\n",
    "import matplotlib.pyplot as plt\n",
    "import seaborn as sns\n",
    "%matplotlib inline\n",
    "\n",
    "print(tf.__version__)"
   ]
  },
  {
   "cell_type": "markdown",
   "metadata": {},
   "source": [
    "Data is from a website called nepremičnine.net and it was web scrapped."
   ]
  },
  {
   "cell_type": "code",
   "execution_count": 2,
   "metadata": {},
   "outputs": [
    {
     "name": "stdout",
     "output_type": "stream",
     "text": [
      "generated_file.csv  lj.csv\r\n"
     ]
    }
   ],
   "source": [
    "!ls *csv"
   ]
  },
  {
   "cell_type": "code",
   "execution_count": 3,
   "metadata": {},
   "outputs": [
    {
     "data": {
      "text/html": [
       "<div>\n",
       "<style scoped>\n",
       "    .dataframe tbody tr th:only-of-type {\n",
       "        vertical-align: middle;\n",
       "    }\n",
       "\n",
       "    .dataframe tbody tr th {\n",
       "        vertical-align: top;\n",
       "    }\n",
       "\n",
       "    .dataframe thead th {\n",
       "        text-align: right;\n",
       "    }\n",
       "</style>\n",
       "<table border=\"1\" class=\"dataframe\">\n",
       "  <thead>\n",
       "    <tr style=\"text-align: right;\">\n",
       "      <th></th>\n",
       "      <th>title</th>\n",
       "      <th>offer_type</th>\n",
       "      <th>desc</th>\n",
       "      <th>size</th>\n",
       "      <th>price</th>\n",
       "      <th>gradnja</th>\n",
       "      <th>adaptacija</th>\n",
       "    </tr>\n",
       "  </thead>\n",
       "  <tbody>\n",
       "    <tr>\n",
       "      <th>0</th>\n",
       "      <td>Ne spreglejte</td>\n",
       "      <td>trisobno</td>\n",
       "      <td>74,5 m2, 3-sobno, zgrajeno l. 1964, adaptirano...</td>\n",
       "      <td>74,50 m2</td>\n",
       "      <td>890,00 €/mesec</td>\n",
       "      <td>1964.0</td>\n",
       "      <td>2020.0</td>\n",
       "    </tr>\n",
       "    <tr>\n",
       "      <th>1</th>\n",
       "      <td>Ne spreglejte</td>\n",
       "      <td>trisobno</td>\n",
       "      <td>77 m2, 3-sobno, zgrajeno l. 1969, adaptirano l...</td>\n",
       "      <td>77,00 m2</td>\n",
       "      <td>750,00 €/mesec</td>\n",
       "      <td>1969.0</td>\n",
       "      <td>2015.0</td>\n",
       "    </tr>\n",
       "    <tr>\n",
       "      <th>2</th>\n",
       "      <td>Ne spreglejte</td>\n",
       "      <td>dvosobno</td>\n",
       "      <td>60 m2, 2-sobno, zgrajeno l. 1935, adaptirano l...</td>\n",
       "      <td>60,00 m2</td>\n",
       "      <td>850,00 €/mesec</td>\n",
       "      <td>1935.0</td>\n",
       "      <td>2018.0</td>\n",
       "    </tr>\n",
       "    <tr>\n",
       "      <th>3</th>\n",
       "      <td>BEŽIGRAJSKI DVOR, PERIČEVA ULICA 1</td>\n",
       "      <td>enosobno</td>\n",
       "      <td>28 m2, 1-sobno, zgrajeno l. 1950, adaptirano l...</td>\n",
       "      <td>28,00 m2</td>\n",
       "      <td>400,00 €/mesec</td>\n",
       "      <td>1950.0</td>\n",
       "      <td>2007.0</td>\n",
       "    </tr>\n",
       "    <tr>\n",
       "      <th>4</th>\n",
       "      <td>BIZOVIK</td>\n",
       "      <td>trisobno</td>\n",
       "      <td>100 m2, 3-sobno, zgrajeno l. 1977, adaptirano ...</td>\n",
       "      <td>100,00 m2</td>\n",
       "      <td>750,00 €/mesec</td>\n",
       "      <td>1977.0</td>\n",
       "      <td>2020.0</td>\n",
       "    </tr>\n",
       "  </tbody>\n",
       "</table>\n",
       "</div>"
      ],
      "text/plain": [
       "                                title offer_type  \\\n",
       "0                       Ne spreglejte   trisobno   \n",
       "1                       Ne spreglejte   trisobno   \n",
       "2                       Ne spreglejte   dvosobno   \n",
       "3  BEŽIGRAJSKI DVOR, PERIČEVA ULICA 1   enosobno   \n",
       "4                             BIZOVIK   trisobno   \n",
       "\n",
       "                                                desc       size  \\\n",
       "0  74,5 m2, 3-sobno, zgrajeno l. 1964, adaptirano...   74,50 m2   \n",
       "1  77 m2, 3-sobno, zgrajeno l. 1969, adaptirano l...   77,00 m2   \n",
       "2  60 m2, 2-sobno, zgrajeno l. 1935, adaptirano l...   60,00 m2   \n",
       "3  28 m2, 1-sobno, zgrajeno l. 1950, adaptirano l...   28,00 m2   \n",
       "4  100 m2, 3-sobno, zgrajeno l. 1977, adaptirano ...  100,00 m2   \n",
       "\n",
       "            price  gradnja  adaptacija  \n",
       "0  890,00 €/mesec   1964.0      2020.0  \n",
       "1  750,00 €/mesec   1969.0      2015.0  \n",
       "2  850,00 €/mesec   1935.0      2018.0  \n",
       "3  400,00 €/mesec   1950.0      2007.0  \n",
       "4  750,00 €/mesec   1977.0      2020.0  "
      ]
     },
     "execution_count": 3,
     "metadata": {},
     "output_type": "execute_result"
    }
   ],
   "source": [
    "df = pd.read_csv('lj.csv', delimiter ='|' )\n",
    "df.head()"
   ]
  },
  {
   "cell_type": "code",
   "execution_count": 4,
   "metadata": {},
   "outputs": [
    {
     "data": {
      "text/plain": [
       "title         1067\n",
       "offer_type    1067\n",
       "desc          1067\n",
       "size          1067\n",
       "price         1067\n",
       "gradnja        914\n",
       "adaptacija     626\n",
       "dtype: int64"
      ]
     },
     "execution_count": 4,
     "metadata": {},
     "output_type": "execute_result"
    }
   ],
   "source": [
    "df.count()"
   ]
  },
  {
   "cell_type": "code",
   "execution_count": 5,
   "metadata": {},
   "outputs": [
    {
     "data": {
      "text/plain": [
       "153"
      ]
     },
     "execution_count": 5,
     "metadata": {},
     "output_type": "execute_result"
    }
   ],
   "source": [
    "df['gradnja'].isnull().sum()"
   ]
  },
  {
   "cell_type": "code",
   "execution_count": 6,
   "metadata": {},
   "outputs": [
    {
     "data": {
      "text/plain": [
       "441"
      ]
     },
     "execution_count": 6,
     "metadata": {},
     "output_type": "execute_result"
    }
   ],
   "source": [
    "df['adaptacija'].isnull().sum()"
   ]
  },
  {
   "cell_type": "code",
   "execution_count": 7,
   "metadata": {},
   "outputs": [
    {
     "data": {
      "text/plain": [
       "title          object\n",
       "offer_type     object\n",
       "desc           object\n",
       "size           object\n",
       "price          object\n",
       "gradnja       float64\n",
       "adaptacija    float64\n",
       "dtype: object"
      ]
     },
     "execution_count": 7,
     "metadata": {},
     "output_type": "execute_result"
    }
   ],
   "source": [
    "df.dtypes"
   ]
  },
  {
   "cell_type": "code",
   "execution_count": 8,
   "metadata": {},
   "outputs": [
    {
     "data": {
      "text/plain": [
       "(1067, 7)"
      ]
     },
     "execution_count": 8,
     "metadata": {},
     "output_type": "execute_result"
    }
   ],
   "source": [
    "df.shape"
   ]
  },
  {
   "cell_type": "code",
   "execution_count": 9,
   "metadata": {},
   "outputs": [
    {
     "data": {
      "text/html": [
       "<div>\n",
       "<style scoped>\n",
       "    .dataframe tbody tr th:only-of-type {\n",
       "        vertical-align: middle;\n",
       "    }\n",
       "\n",
       "    .dataframe tbody tr th {\n",
       "        vertical-align: top;\n",
       "    }\n",
       "\n",
       "    .dataframe thead th {\n",
       "        text-align: right;\n",
       "    }\n",
       "</style>\n",
       "<table border=\"1\" class=\"dataframe\">\n",
       "  <thead>\n",
       "    <tr style=\"text-align: right;\">\n",
       "      <th></th>\n",
       "      <th>title</th>\n",
       "      <th>offer_type</th>\n",
       "      <th>desc</th>\n",
       "      <th>size</th>\n",
       "      <th>price</th>\n",
       "      <th>gradnja</th>\n",
       "      <th>adaptacija</th>\n",
       "    </tr>\n",
       "  </thead>\n",
       "  <tbody>\n",
       "    <tr>\n",
       "      <th>3</th>\n",
       "      <td>BEŽIGRAJSKI DVOR, PERIČEVA ULICA 1</td>\n",
       "      <td>enosobno</td>\n",
       "      <td>28 m2, 1-sobno, zgrajeno l. 1950, adaptirano l...</td>\n",
       "      <td>28,00 m2</td>\n",
       "      <td>400,00 €/mesec</td>\n",
       "      <td>1950.0</td>\n",
       "      <td>2007.0</td>\n",
       "    </tr>\n",
       "    <tr>\n",
       "      <th>4</th>\n",
       "      <td>BIZOVIK</td>\n",
       "      <td>trisobno</td>\n",
       "      <td>100 m2, 3-sobno, zgrajeno l. 1977, adaptirano ...</td>\n",
       "      <td>100,00 m2</td>\n",
       "      <td>750,00 €/mesec</td>\n",
       "      <td>1977.0</td>\n",
       "      <td>2020.0</td>\n",
       "    </tr>\n",
       "    <tr>\n",
       "      <th>5</th>\n",
       "      <td>BIZOVIK</td>\n",
       "      <td>petsobno</td>\n",
       "      <td>105,5 m2, 5 in večsobno, zgrajeno l. 2005, odd...</td>\n",
       "      <td>105,50 m2</td>\n",
       "      <td>1.500,00 €/mesec</td>\n",
       "      <td>2005.0</td>\n",
       "      <td>NaN</td>\n",
       "    </tr>\n",
       "    <tr>\n",
       "      <th>6</th>\n",
       "      <td>BRDO</td>\n",
       "      <td>Soba</td>\n",
       "      <td>15 m2, soba, zgrajena l. 1970, adaptirana l. 2...</td>\n",
       "      <td>15,00 m2</td>\n",
       "      <td>250,00 €/mesec</td>\n",
       "      <td>1970.0</td>\n",
       "      <td>2003.0</td>\n",
       "    </tr>\n",
       "    <tr>\n",
       "      <th>7</th>\n",
       "      <td>BRDO</td>\n",
       "      <td>Soba</td>\n",
       "      <td>15 m2, soba, zgrajena l. 2002, adaptirana l. 2...</td>\n",
       "      <td>15,00 m2</td>\n",
       "      <td>200,00 €/mesec</td>\n",
       "      <td>2002.0</td>\n",
       "      <td>2020.0</td>\n",
       "    </tr>\n",
       "  </tbody>\n",
       "</table>\n",
       "</div>"
      ],
      "text/plain": [
       "                                title offer_type  \\\n",
       "3  BEŽIGRAJSKI DVOR, PERIČEVA ULICA 1   enosobno   \n",
       "4                             BIZOVIK   trisobno   \n",
       "5                             BIZOVIK   petsobno   \n",
       "6                                BRDO       Soba   \n",
       "7                                BRDO       Soba   \n",
       "\n",
       "                                                desc       size  \\\n",
       "3  28 m2, 1-sobno, zgrajeno l. 1950, adaptirano l...   28,00 m2   \n",
       "4  100 m2, 3-sobno, zgrajeno l. 1977, adaptirano ...  100,00 m2   \n",
       "5  105,5 m2, 5 in večsobno, zgrajeno l. 2005, odd...  105,50 m2   \n",
       "6  15 m2, soba, zgrajena l. 1970, adaptirana l. 2...   15,00 m2   \n",
       "7  15 m2, soba, zgrajena l. 2002, adaptirana l. 2...   15,00 m2   \n",
       "\n",
       "              price  gradnja  adaptacija  \n",
       "3    400,00 €/mesec   1950.0      2007.0  \n",
       "4    750,00 €/mesec   1977.0      2020.0  \n",
       "5  1.500,00 €/mesec   2005.0         NaN  \n",
       "6    250,00 €/mesec   1970.0      2003.0  \n",
       "7    200,00 €/mesec   2002.0      2020.0  "
      ]
     },
     "execution_count": 9,
     "metadata": {},
     "output_type": "execute_result"
    }
   ],
   "source": [
    "index_names = df[df['title'] == 'Ne spreglejte' ].index \n",
    "df.drop(index_names, inplace = True) \n",
    "df.head()"
   ]
  },
  {
   "cell_type": "code",
   "execution_count": 10,
   "metadata": {},
   "outputs": [
    {
     "data": {
      "text/html": [
       "<div>\n",
       "<style scoped>\n",
       "    .dataframe tbody tr th:only-of-type {\n",
       "        vertical-align: middle;\n",
       "    }\n",
       "\n",
       "    .dataframe tbody tr th {\n",
       "        vertical-align: top;\n",
       "    }\n",
       "\n",
       "    .dataframe thead th {\n",
       "        text-align: right;\n",
       "    }\n",
       "</style>\n",
       "<table border=\"1\" class=\"dataframe\">\n",
       "  <thead>\n",
       "    <tr style=\"text-align: right;\">\n",
       "      <th></th>\n",
       "      <th>title</th>\n",
       "      <th>offer_type</th>\n",
       "      <th>desc</th>\n",
       "      <th>size</th>\n",
       "      <th>price</th>\n",
       "      <th>gradnja</th>\n",
       "      <th>adaptacija</th>\n",
       "    </tr>\n",
       "  </thead>\n",
       "  <tbody>\n",
       "    <tr>\n",
       "      <th>0</th>\n",
       "      <td>BEŽIGRAJSKI DVOR, PERIČEVA ULICA 1</td>\n",
       "      <td>enosobno</td>\n",
       "      <td>28 m2, 1-sobno, zgrajeno l. 1950, adaptirano l...</td>\n",
       "      <td>28,00 m2</td>\n",
       "      <td>400,00 €/mesec</td>\n",
       "      <td>1950.0</td>\n",
       "      <td>2007.0</td>\n",
       "    </tr>\n",
       "    <tr>\n",
       "      <th>1</th>\n",
       "      <td>BIZOVIK</td>\n",
       "      <td>trisobno</td>\n",
       "      <td>100 m2, 3-sobno, zgrajeno l. 1977, adaptirano ...</td>\n",
       "      <td>100,00 m2</td>\n",
       "      <td>750,00 €/mesec</td>\n",
       "      <td>1977.0</td>\n",
       "      <td>2020.0</td>\n",
       "    </tr>\n",
       "    <tr>\n",
       "      <th>2</th>\n",
       "      <td>BIZOVIK</td>\n",
       "      <td>petsobno</td>\n",
       "      <td>105,5 m2, 5 in večsobno, zgrajeno l. 2005, odd...</td>\n",
       "      <td>105,50 m2</td>\n",
       "      <td>1.500,00 €/mesec</td>\n",
       "      <td>2005.0</td>\n",
       "      <td>NaN</td>\n",
       "    </tr>\n",
       "    <tr>\n",
       "      <th>3</th>\n",
       "      <td>BRDO</td>\n",
       "      <td>Soba</td>\n",
       "      <td>15 m2, soba, zgrajena l. 1970, adaptirana l. 2...</td>\n",
       "      <td>15,00 m2</td>\n",
       "      <td>250,00 €/mesec</td>\n",
       "      <td>1970.0</td>\n",
       "      <td>2003.0</td>\n",
       "    </tr>\n",
       "    <tr>\n",
       "      <th>4</th>\n",
       "      <td>BRDO</td>\n",
       "      <td>Soba</td>\n",
       "      <td>15 m2, soba, zgrajena l. 2002, adaptirana l. 2...</td>\n",
       "      <td>15,00 m2</td>\n",
       "      <td>200,00 €/mesec</td>\n",
       "      <td>2002.0</td>\n",
       "      <td>2020.0</td>\n",
       "    </tr>\n",
       "    <tr>\n",
       "      <th>...</th>\n",
       "      <td>...</td>\n",
       "      <td>...</td>\n",
       "      <td>...</td>\n",
       "      <td>...</td>\n",
       "      <td>...</td>\n",
       "      <td>...</td>\n",
       "      <td>...</td>\n",
       "    </tr>\n",
       "    <tr>\n",
       "      <th>1059</th>\n",
       "      <td>ZUPANČIČEVA JAMA, AVČINOVA UL. 12</td>\n",
       "      <td>Soba</td>\n",
       "      <td>14 m2, soba, v stavbi zgrajeni l. 1996, adapti...</td>\n",
       "      <td>14,00 m2</td>\n",
       "      <td>200,00 €/mesec</td>\n",
       "      <td>1996.0</td>\n",
       "      <td>2014.0</td>\n",
       "    </tr>\n",
       "    <tr>\n",
       "      <th>1060</th>\n",
       "      <td>ZUPANČIČEVA JAMA, YPSILON</td>\n",
       "      <td>dvosobno</td>\n",
       "      <td>66,4 m2, 2-sobno, zgrajeno l. 2018, 2/6 nad., ...</td>\n",
       "      <td>66,40 m2</td>\n",
       "      <td>780,00 €/mesec</td>\n",
       "      <td>2018.0</td>\n",
       "      <td>NaN</td>\n",
       "    </tr>\n",
       "    <tr>\n",
       "      <th>1061</th>\n",
       "      <td>ZUPANČIČEVA JAMA, YPSILON</td>\n",
       "      <td>triinpolsobno</td>\n",
       "      <td>111 m2, 3,5-sobno, dupleks, zgrajeno l. 2018, ...</td>\n",
       "      <td>111,00 m2</td>\n",
       "      <td>1.800,00 €/mesec</td>\n",
       "      <td>2018.0</td>\n",
       "      <td>NaN</td>\n",
       "    </tr>\n",
       "    <tr>\n",
       "      <th>1062</th>\n",
       "      <td>ZUPANČIČEVA JAMA, ŽELEZNA CESTA 10A</td>\n",
       "      <td>dvosobno</td>\n",
       "      <td>50 m2, 2-sobno, zgrajeno l. 2005, VP/7 nad., o...</td>\n",
       "      <td>50,00 m2</td>\n",
       "      <td>850,00 €/mesec</td>\n",
       "      <td>2005.0</td>\n",
       "      <td>NaN</td>\n",
       "    </tr>\n",
       "    <tr>\n",
       "      <th>1063</th>\n",
       "      <td>ZUPANČIČEVA JAMA, ŽUPANČIČEVA</td>\n",
       "      <td>triinpolsobno</td>\n",
       "      <td>139 m2, 3,5-sobno, zgrajeno l. 2005, 5/6 nad.,...</td>\n",
       "      <td>139,00 m2</td>\n",
       "      <td>1.400,00 €/mesec</td>\n",
       "      <td>2005.0</td>\n",
       "      <td>NaN</td>\n",
       "    </tr>\n",
       "  </tbody>\n",
       "</table>\n",
       "<p>1064 rows × 7 columns</p>\n",
       "</div>"
      ],
      "text/plain": [
       "                                    title     offer_type  \\\n",
       "0      BEŽIGRAJSKI DVOR, PERIČEVA ULICA 1       enosobno   \n",
       "1                                 BIZOVIK       trisobno   \n",
       "2                                 BIZOVIK       petsobno   \n",
       "3                                    BRDO           Soba   \n",
       "4                                    BRDO           Soba   \n",
       "...                                   ...            ...   \n",
       "1059    ZUPANČIČEVA JAMA, AVČINOVA UL. 12           Soba   \n",
       "1060            ZUPANČIČEVA JAMA, YPSILON       dvosobno   \n",
       "1061            ZUPANČIČEVA JAMA, YPSILON  triinpolsobno   \n",
       "1062  ZUPANČIČEVA JAMA, ŽELEZNA CESTA 10A       dvosobno   \n",
       "1063        ZUPANČIČEVA JAMA, ŽUPANČIČEVA  triinpolsobno   \n",
       "\n",
       "                                                   desc       size  \\\n",
       "0     28 m2, 1-sobno, zgrajeno l. 1950, adaptirano l...   28,00 m2   \n",
       "1     100 m2, 3-sobno, zgrajeno l. 1977, adaptirano ...  100,00 m2   \n",
       "2     105,5 m2, 5 in večsobno, zgrajeno l. 2005, odd...  105,50 m2   \n",
       "3     15 m2, soba, zgrajena l. 1970, adaptirana l. 2...   15,00 m2   \n",
       "4     15 m2, soba, zgrajena l. 2002, adaptirana l. 2...   15,00 m2   \n",
       "...                                                 ...        ...   \n",
       "1059  14 m2, soba, v stavbi zgrajeni l. 1996, adapti...   14,00 m2   \n",
       "1060  66,4 m2, 2-sobno, zgrajeno l. 2018, 2/6 nad., ...   66,40 m2   \n",
       "1061  111 m2, 3,5-sobno, dupleks, zgrajeno l. 2018, ...  111,00 m2   \n",
       "1062  50 m2, 2-sobno, zgrajeno l. 2005, VP/7 nad., o...   50,00 m2   \n",
       "1063  139 m2, 3,5-sobno, zgrajeno l. 2005, 5/6 nad.,...  139,00 m2   \n",
       "\n",
       "                 price  gradnja  adaptacija  \n",
       "0       400,00 €/mesec   1950.0      2007.0  \n",
       "1       750,00 €/mesec   1977.0      2020.0  \n",
       "2     1.500,00 €/mesec   2005.0         NaN  \n",
       "3       250,00 €/mesec   1970.0      2003.0  \n",
       "4       200,00 €/mesec   2002.0      2020.0  \n",
       "...                ...      ...         ...  \n",
       "1059    200,00 €/mesec   1996.0      2014.0  \n",
       "1060    780,00 €/mesec   2018.0         NaN  \n",
       "1061  1.800,00 €/mesec   2018.0         NaN  \n",
       "1062    850,00 €/mesec   2005.0         NaN  \n",
       "1063  1.400,00 €/mesec   2005.0         NaN  \n",
       "\n",
       "[1064 rows x 7 columns]"
      ]
     },
     "execution_count": 10,
     "metadata": {},
     "output_type": "execute_result"
    }
   ],
   "source": [
    "df.reset_index(drop=True)"
   ]
  },
  {
   "cell_type": "markdown",
   "metadata": {},
   "source": [
    "# Room factor"
   ]
  },
  {
   "cell_type": "code",
   "execution_count": 11,
   "metadata": {},
   "outputs": [
    {
     "data": {
      "text/plain": [
       "count         1064\n",
       "unique          13\n",
       "top       trisobno\n",
       "freq           228\n",
       "Name: offer_type, dtype: object"
      ]
     },
     "execution_count": 11,
     "metadata": {},
     "output_type": "execute_result"
    }
   ],
   "source": [
    "df['offer_type'].describe()"
   ]
  },
  {
   "cell_type": "markdown",
   "metadata": {},
   "source": [
    "As we can see offer_type is a categorical column which we will tranform into a numerical, but first we have to redo all the data, since there is no innate connection between 'oneroom' and 1 for computers. We will look at all the possible options and rename them accordingly. "
   ]
  },
  {
   "cell_type": "code",
   "execution_count": 12,
   "metadata": {},
   "outputs": [
    {
     "data": {
      "text/plain": [
       "array(['enosobno', 'trisobno', 'petsobno', 'Soba', 'dvosobno',\n",
       "       'dvoinpolsobno', 'garsonjera', 'štirisobno', 'enoinpolsobno',\n",
       "       'triinpolsobno', 'Apartma', 'Drugo', 'štiriinpolsobno'],\n",
       "      dtype=object)"
      ]
     },
     "execution_count": 12,
     "metadata": {},
     "output_type": "execute_result"
    }
   ],
   "source": [
    "df['offer_type'].unique()"
   ]
  },
  {
   "cell_type": "code",
   "execution_count": 13,
   "metadata": {},
   "outputs": [
    {
     "data": {
      "text/html": [
       "<div>\n",
       "<style scoped>\n",
       "    .dataframe tbody tr th:only-of-type {\n",
       "        vertical-align: middle;\n",
       "    }\n",
       "\n",
       "    .dataframe tbody tr th {\n",
       "        vertical-align: top;\n",
       "    }\n",
       "\n",
       "    .dataframe thead th {\n",
       "        text-align: right;\n",
       "    }\n",
       "</style>\n",
       "<table border=\"1\" class=\"dataframe\">\n",
       "  <thead>\n",
       "    <tr style=\"text-align: right;\">\n",
       "      <th></th>\n",
       "      <th>title</th>\n",
       "      <th>offer_type</th>\n",
       "      <th>desc</th>\n",
       "      <th>size</th>\n",
       "      <th>price</th>\n",
       "      <th>gradnja</th>\n",
       "      <th>adaptacija</th>\n",
       "    </tr>\n",
       "  </thead>\n",
       "  <tbody>\n",
       "    <tr>\n",
       "      <th>3</th>\n",
       "      <td>BEŽIGRAJSKI DVOR, PERIČEVA ULICA 1</td>\n",
       "      <td>enosobno</td>\n",
       "      <td>28 m2, 1-sobno, zgrajeno l. 1950, adaptirano l...</td>\n",
       "      <td>28,00 m2</td>\n",
       "      <td>400,00 €/mesec</td>\n",
       "      <td>1950.0</td>\n",
       "      <td>2007.0</td>\n",
       "    </tr>\n",
       "    <tr>\n",
       "      <th>4</th>\n",
       "      <td>BIZOVIK</td>\n",
       "      <td>trisobno</td>\n",
       "      <td>100 m2, 3-sobno, zgrajeno l. 1977, adaptirano ...</td>\n",
       "      <td>100,00 m2</td>\n",
       "      <td>750,00 €/mesec</td>\n",
       "      <td>1977.0</td>\n",
       "      <td>2020.0</td>\n",
       "    </tr>\n",
       "    <tr>\n",
       "      <th>5</th>\n",
       "      <td>BIZOVIK</td>\n",
       "      <td>petsobno</td>\n",
       "      <td>105,5 m2, 5 in večsobno, zgrajeno l. 2005, odd...</td>\n",
       "      <td>105,50 m2</td>\n",
       "      <td>1.500,00 €/mesec</td>\n",
       "      <td>2005.0</td>\n",
       "      <td>NaN</td>\n",
       "    </tr>\n",
       "    <tr>\n",
       "      <th>6</th>\n",
       "      <td>BRDO</td>\n",
       "      <td>Soba</td>\n",
       "      <td>15 m2, soba, zgrajena l. 1970, adaptirana l. 2...</td>\n",
       "      <td>15,00 m2</td>\n",
       "      <td>250,00 €/mesec</td>\n",
       "      <td>1970.0</td>\n",
       "      <td>2003.0</td>\n",
       "    </tr>\n",
       "    <tr>\n",
       "      <th>7</th>\n",
       "      <td>BRDO</td>\n",
       "      <td>Soba</td>\n",
       "      <td>15 m2, soba, zgrajena l. 2002, adaptirana l. 2...</td>\n",
       "      <td>15,00 m2</td>\n",
       "      <td>200,00 €/mesec</td>\n",
       "      <td>2002.0</td>\n",
       "      <td>2020.0</td>\n",
       "    </tr>\n",
       "  </tbody>\n",
       "</table>\n",
       "</div>"
      ],
      "text/plain": [
       "                                title offer_type  \\\n",
       "3  BEŽIGRAJSKI DVOR, PERIČEVA ULICA 1   enosobno   \n",
       "4                             BIZOVIK   trisobno   \n",
       "5                             BIZOVIK   petsobno   \n",
       "6                                BRDO       Soba   \n",
       "7                                BRDO       Soba   \n",
       "\n",
       "                                                desc       size  \\\n",
       "3  28 m2, 1-sobno, zgrajeno l. 1950, adaptirano l...   28,00 m2   \n",
       "4  100 m2, 3-sobno, zgrajeno l. 1977, adaptirano ...  100,00 m2   \n",
       "5  105,5 m2, 5 in večsobno, zgrajeno l. 2005, odd...  105,50 m2   \n",
       "6  15 m2, soba, zgrajena l. 1970, adaptirana l. 2...   15,00 m2   \n",
       "7  15 m2, soba, zgrajena l. 2002, adaptirana l. 2...   15,00 m2   \n",
       "\n",
       "              price  gradnja  adaptacija  \n",
       "3    400,00 €/mesec   1950.0      2007.0  \n",
       "4    750,00 €/mesec   1977.0      2020.0  \n",
       "5  1.500,00 €/mesec   2005.0         NaN  \n",
       "6    250,00 €/mesec   1970.0      2003.0  \n",
       "7    200,00 €/mesec   2002.0      2020.0  "
      ]
     },
     "execution_count": 13,
     "metadata": {},
     "output_type": "execute_result"
    }
   ],
   "source": [
    "index_names = df[df['offer_type'] == 'Drugo' ].index \n",
    "df.drop(index_names, inplace = True) \n",
    "df.head()"
   ]
  },
  {
   "cell_type": "code",
   "execution_count": 14,
   "metadata": {},
   "outputs": [
    {
     "data": {
      "text/html": [
       "<div>\n",
       "<style scoped>\n",
       "    .dataframe tbody tr th:only-of-type {\n",
       "        vertical-align: middle;\n",
       "    }\n",
       "\n",
       "    .dataframe tbody tr th {\n",
       "        vertical-align: top;\n",
       "    }\n",
       "\n",
       "    .dataframe thead th {\n",
       "        text-align: right;\n",
       "    }\n",
       "</style>\n",
       "<table border=\"1\" class=\"dataframe\">\n",
       "  <thead>\n",
       "    <tr style=\"text-align: right;\">\n",
       "      <th></th>\n",
       "      <th>title</th>\n",
       "      <th>offer_type</th>\n",
       "      <th>desc</th>\n",
       "      <th>size</th>\n",
       "      <th>price</th>\n",
       "      <th>gradnja</th>\n",
       "      <th>adaptacija</th>\n",
       "    </tr>\n",
       "  </thead>\n",
       "  <tbody>\n",
       "    <tr>\n",
       "      <th>3</th>\n",
       "      <td>BEŽIGRAJSKI DVOR, PERIČEVA ULICA 1</td>\n",
       "      <td>3</td>\n",
       "      <td>28 m2, 1-sobno, zgrajeno l. 1950, adaptirano l...</td>\n",
       "      <td>28,00 m2</td>\n",
       "      <td>400,00 €/mesec</td>\n",
       "      <td>1950.0</td>\n",
       "      <td>2007.0</td>\n",
       "    </tr>\n",
       "    <tr>\n",
       "      <th>4</th>\n",
       "      <td>BIZOVIK</td>\n",
       "      <td>5</td>\n",
       "      <td>100 m2, 3-sobno, zgrajeno l. 1977, adaptirano ...</td>\n",
       "      <td>100,00 m2</td>\n",
       "      <td>750,00 €/mesec</td>\n",
       "      <td>1977.0</td>\n",
       "      <td>2020.0</td>\n",
       "    </tr>\n",
       "    <tr>\n",
       "      <th>5</th>\n",
       "      <td>BIZOVIK</td>\n",
       "      <td>7</td>\n",
       "      <td>105,5 m2, 5 in večsobno, zgrajeno l. 2005, odd...</td>\n",
       "      <td>105,50 m2</td>\n",
       "      <td>1.500,00 €/mesec</td>\n",
       "      <td>2005.0</td>\n",
       "      <td>NaN</td>\n",
       "    </tr>\n",
       "    <tr>\n",
       "      <th>6</th>\n",
       "      <td>BRDO</td>\n",
       "      <td>2</td>\n",
       "      <td>15 m2, soba, zgrajena l. 1970, adaptirana l. 2...</td>\n",
       "      <td>15,00 m2</td>\n",
       "      <td>250,00 €/mesec</td>\n",
       "      <td>1970.0</td>\n",
       "      <td>2003.0</td>\n",
       "    </tr>\n",
       "    <tr>\n",
       "      <th>7</th>\n",
       "      <td>BRDO</td>\n",
       "      <td>2</td>\n",
       "      <td>15 m2, soba, zgrajena l. 2002, adaptirana l. 2...</td>\n",
       "      <td>15,00 m2</td>\n",
       "      <td>200,00 €/mesec</td>\n",
       "      <td>2002.0</td>\n",
       "      <td>2020.0</td>\n",
       "    </tr>\n",
       "  </tbody>\n",
       "</table>\n",
       "</div>"
      ],
      "text/plain": [
       "                                title offer_type  \\\n",
       "3  BEŽIGRAJSKI DVOR, PERIČEVA ULICA 1          3   \n",
       "4                             BIZOVIK          5   \n",
       "5                             BIZOVIK          7   \n",
       "6                                BRDO          2   \n",
       "7                                BRDO          2   \n",
       "\n",
       "                                                desc       size  \\\n",
       "3  28 m2, 1-sobno, zgrajeno l. 1950, adaptirano l...   28,00 m2   \n",
       "4  100 m2, 3-sobno, zgrajeno l. 1977, adaptirano ...  100,00 m2   \n",
       "5  105,5 m2, 5 in večsobno, zgrajeno l. 2005, odd...  105,50 m2   \n",
       "6  15 m2, soba, zgrajena l. 1970, adaptirana l. 2...   15,00 m2   \n",
       "7  15 m2, soba, zgrajena l. 2002, adaptirana l. 2...   15,00 m2   \n",
       "\n",
       "              price  gradnja  adaptacija  \n",
       "3    400,00 €/mesec   1950.0      2007.0  \n",
       "4    750,00 €/mesec   1977.0      2020.0  \n",
       "5  1.500,00 €/mesec   2005.0         NaN  \n",
       "6    250,00 €/mesec   1970.0      2003.0  \n",
       "7    200,00 €/mesec   2002.0      2020.0  "
      ]
     },
     "execution_count": 14,
     "metadata": {},
     "output_type": "execute_result"
    }
   ],
   "source": [
    "add = 2 \n",
    "\n",
    "df.loc[df['offer_type'] == 'enosobno', 'offer_type'] = 1 + add\n",
    "df.loc[df['offer_type'] == 'dvosobno', 'offer_type'] = 2 + add\n",
    "df.loc[df['offer_type'] == 'trisobno', 'offer_type'] = 3 + add\n",
    "df.loc[df['offer_type'] == 'štirisobno', 'offer_type'] = 4 + add\n",
    "df.loc[df['offer_type'] == 'Soba', 'offer_type'] = 0 + add\n",
    "df.loc[df['offer_type'] == 'enoinpolsobno', 'offer_type'] = 1.5 + add\n",
    "df.loc[df['offer_type'] == 'dvoinpolsobno', 'offer_type'] = 2.5 + add\n",
    "df.loc[df['offer_type'] == 'štiriinpolsobno', 'offer_type'] = 4.5 + add\n",
    "df.loc[df['offer_type'] == 'triinpolsobno', 'offer_type'] = 3.5 + add\n",
    "df.loc[df['offer_type'] == 'garsonjera', 'offer_type'] = 3.5 + add\n",
    "df.loc[df['offer_type'] == 'petsobno', 'offer_type'] = 5 + add\n",
    "df.loc[df['offer_type'] == 'Apartma', 'offer_type'] = 0 + add\n",
    "df.head()"
   ]
  },
  {
   "cell_type": "code",
   "execution_count": 15,
   "metadata": {},
   "outputs": [
    {
     "data": {
      "text/html": [
       "<div>\n",
       "<style scoped>\n",
       "    .dataframe tbody tr th:only-of-type {\n",
       "        vertical-align: middle;\n",
       "    }\n",
       "\n",
       "    .dataframe tbody tr th {\n",
       "        vertical-align: top;\n",
       "    }\n",
       "\n",
       "    .dataframe thead th {\n",
       "        text-align: right;\n",
       "    }\n",
       "</style>\n",
       "<table border=\"1\" class=\"dataframe\">\n",
       "  <thead>\n",
       "    <tr style=\"text-align: right;\">\n",
       "      <th></th>\n",
       "      <th>title</th>\n",
       "      <th>offer_type</th>\n",
       "      <th>desc</th>\n",
       "      <th>size</th>\n",
       "      <th>price</th>\n",
       "      <th>gradnja</th>\n",
       "      <th>adaptacija</th>\n",
       "    </tr>\n",
       "  </thead>\n",
       "  <tbody>\n",
       "    <tr>\n",
       "      <th>3</th>\n",
       "      <td>BEŽIGRAJSKI DVOR, PERIČEVA ULICA 1</td>\n",
       "      <td>3.0</td>\n",
       "      <td>28 m2, 1-sobno, zgrajeno l. 1950, adaptirano l...</td>\n",
       "      <td>28,00 m2</td>\n",
       "      <td>400,00 €/mesec</td>\n",
       "      <td>1950.0</td>\n",
       "      <td>2007.0</td>\n",
       "    </tr>\n",
       "    <tr>\n",
       "      <th>4</th>\n",
       "      <td>BIZOVIK</td>\n",
       "      <td>5.0</td>\n",
       "      <td>100 m2, 3-sobno, zgrajeno l. 1977, adaptirano ...</td>\n",
       "      <td>100,00 m2</td>\n",
       "      <td>750,00 €/mesec</td>\n",
       "      <td>1977.0</td>\n",
       "      <td>2020.0</td>\n",
       "    </tr>\n",
       "    <tr>\n",
       "      <th>5</th>\n",
       "      <td>BIZOVIK</td>\n",
       "      <td>7.0</td>\n",
       "      <td>105,5 m2, 5 in večsobno, zgrajeno l. 2005, odd...</td>\n",
       "      <td>105,50 m2</td>\n",
       "      <td>1.500,00 €/mesec</td>\n",
       "      <td>2005.0</td>\n",
       "      <td>NaN</td>\n",
       "    </tr>\n",
       "    <tr>\n",
       "      <th>6</th>\n",
       "      <td>BRDO</td>\n",
       "      <td>2.0</td>\n",
       "      <td>15 m2, soba, zgrajena l. 1970, adaptirana l. 2...</td>\n",
       "      <td>15,00 m2</td>\n",
       "      <td>250,00 €/mesec</td>\n",
       "      <td>1970.0</td>\n",
       "      <td>2003.0</td>\n",
       "    </tr>\n",
       "    <tr>\n",
       "      <th>7</th>\n",
       "      <td>BRDO</td>\n",
       "      <td>2.0</td>\n",
       "      <td>15 m2, soba, zgrajena l. 2002, adaptirana l. 2...</td>\n",
       "      <td>15,00 m2</td>\n",
       "      <td>200,00 €/mesec</td>\n",
       "      <td>2002.0</td>\n",
       "      <td>2020.0</td>\n",
       "    </tr>\n",
       "  </tbody>\n",
       "</table>\n",
       "</div>"
      ],
      "text/plain": [
       "                                title  offer_type  \\\n",
       "3  BEŽIGRAJSKI DVOR, PERIČEVA ULICA 1         3.0   \n",
       "4                             BIZOVIK         5.0   \n",
       "5                             BIZOVIK         7.0   \n",
       "6                                BRDO         2.0   \n",
       "7                                BRDO         2.0   \n",
       "\n",
       "                                                desc       size  \\\n",
       "3  28 m2, 1-sobno, zgrajeno l. 1950, adaptirano l...   28,00 m2   \n",
       "4  100 m2, 3-sobno, zgrajeno l. 1977, adaptirano ...  100,00 m2   \n",
       "5  105,5 m2, 5 in večsobno, zgrajeno l. 2005, odd...  105,50 m2   \n",
       "6  15 m2, soba, zgrajena l. 1970, adaptirana l. 2...   15,00 m2   \n",
       "7  15 m2, soba, zgrajena l. 2002, adaptirana l. 2...   15,00 m2   \n",
       "\n",
       "              price  gradnja  adaptacija  \n",
       "3    400,00 €/mesec   1950.0      2007.0  \n",
       "4    750,00 €/mesec   1977.0      2020.0  \n",
       "5  1.500,00 €/mesec   2005.0         NaN  \n",
       "6    250,00 €/mesec   1970.0      2003.0  \n",
       "7    200,00 €/mesec   2002.0      2020.0  "
      ]
     },
     "execution_count": 15,
     "metadata": {},
     "output_type": "execute_result"
    }
   ],
   "source": [
    "df['offer_type'] = pd.to_numeric(df['offer_type'])\n",
    "df.head()"
   ]
  },
  {
   "cell_type": "code",
   "execution_count": 16,
   "metadata": {},
   "outputs": [
    {
     "data": {
      "text/html": [
       "<div>\n",
       "<style scoped>\n",
       "    .dataframe tbody tr th:only-of-type {\n",
       "        vertical-align: middle;\n",
       "    }\n",
       "\n",
       "    .dataframe tbody tr th {\n",
       "        vertical-align: top;\n",
       "    }\n",
       "\n",
       "    .dataframe thead th {\n",
       "        text-align: right;\n",
       "    }\n",
       "</style>\n",
       "<table border=\"1\" class=\"dataframe\">\n",
       "  <thead>\n",
       "    <tr style=\"text-align: right;\">\n",
       "      <th></th>\n",
       "      <th>lokacija</th>\n",
       "      <th>room_factor</th>\n",
       "      <th>desc</th>\n",
       "      <th>size</th>\n",
       "      <th>price</th>\n",
       "      <th>gradnja</th>\n",
       "      <th>adaptacija</th>\n",
       "    </tr>\n",
       "  </thead>\n",
       "  <tbody>\n",
       "    <tr>\n",
       "      <th>3</th>\n",
       "      <td>BEŽIGRAJSKI DVOR, PERIČEVA ULICA 1</td>\n",
       "      <td>3.0</td>\n",
       "      <td>28 m2, 1-sobno, zgrajeno l. 1950, adaptirano l...</td>\n",
       "      <td>28,00 m2</td>\n",
       "      <td>400,00 €/mesec</td>\n",
       "      <td>1950.0</td>\n",
       "      <td>2007.0</td>\n",
       "    </tr>\n",
       "    <tr>\n",
       "      <th>4</th>\n",
       "      <td>BIZOVIK</td>\n",
       "      <td>5.0</td>\n",
       "      <td>100 m2, 3-sobno, zgrajeno l. 1977, adaptirano ...</td>\n",
       "      <td>100,00 m2</td>\n",
       "      <td>750,00 €/mesec</td>\n",
       "      <td>1977.0</td>\n",
       "      <td>2020.0</td>\n",
       "    </tr>\n",
       "    <tr>\n",
       "      <th>5</th>\n",
       "      <td>BIZOVIK</td>\n",
       "      <td>7.0</td>\n",
       "      <td>105,5 m2, 5 in večsobno, zgrajeno l. 2005, odd...</td>\n",
       "      <td>105,50 m2</td>\n",
       "      <td>1.500,00 €/mesec</td>\n",
       "      <td>2005.0</td>\n",
       "      <td>NaN</td>\n",
       "    </tr>\n",
       "    <tr>\n",
       "      <th>6</th>\n",
       "      <td>BRDO</td>\n",
       "      <td>2.0</td>\n",
       "      <td>15 m2, soba, zgrajena l. 1970, adaptirana l. 2...</td>\n",
       "      <td>15,00 m2</td>\n",
       "      <td>250,00 €/mesec</td>\n",
       "      <td>1970.0</td>\n",
       "      <td>2003.0</td>\n",
       "    </tr>\n",
       "    <tr>\n",
       "      <th>7</th>\n",
       "      <td>BRDO</td>\n",
       "      <td>2.0</td>\n",
       "      <td>15 m2, soba, zgrajena l. 2002, adaptirana l. 2...</td>\n",
       "      <td>15,00 m2</td>\n",
       "      <td>200,00 €/mesec</td>\n",
       "      <td>2002.0</td>\n",
       "      <td>2020.0</td>\n",
       "    </tr>\n",
       "  </tbody>\n",
       "</table>\n",
       "</div>"
      ],
      "text/plain": [
       "                             lokacija  room_factor  \\\n",
       "3  BEŽIGRAJSKI DVOR, PERIČEVA ULICA 1          3.0   \n",
       "4                             BIZOVIK          5.0   \n",
       "5                             BIZOVIK          7.0   \n",
       "6                                BRDO          2.0   \n",
       "7                                BRDO          2.0   \n",
       "\n",
       "                                                desc       size  \\\n",
       "3  28 m2, 1-sobno, zgrajeno l. 1950, adaptirano l...   28,00 m2   \n",
       "4  100 m2, 3-sobno, zgrajeno l. 1977, adaptirano ...  100,00 m2   \n",
       "5  105,5 m2, 5 in večsobno, zgrajeno l. 2005, odd...  105,50 m2   \n",
       "6  15 m2, soba, zgrajena l. 1970, adaptirana l. 2...   15,00 m2   \n",
       "7  15 m2, soba, zgrajena l. 2002, adaptirana l. 2...   15,00 m2   \n",
       "\n",
       "              price  gradnja  adaptacija  \n",
       "3    400,00 €/mesec   1950.0      2007.0  \n",
       "4    750,00 €/mesec   1977.0      2020.0  \n",
       "5  1.500,00 €/mesec   2005.0         NaN  \n",
       "6    250,00 €/mesec   1970.0      2003.0  \n",
       "7    200,00 €/mesec   2002.0      2020.0  "
      ]
     },
     "execution_count": 16,
     "metadata": {},
     "output_type": "execute_result"
    }
   ],
   "source": [
    "df = df.rename(columns={\"title\": \"lokacija\", \"offer_type\" : \"room_factor\"})\n",
    "df.head()"
   ]
  },
  {
   "cell_type": "markdown",
   "metadata": {},
   "source": [
    "## Location"
   ]
  },
  {
   "cell_type": "code",
   "execution_count": 17,
   "metadata": {},
   "outputs": [
    {
     "data": {
      "text/plain": [
       "3        BEŽIGRAJSKI DVOR, PERIČEVA ULICA 1\n",
       "4                                   BIZOVIK\n",
       "5                                   BIZOVIK\n",
       "6                                      BRDO\n",
       "7                                      BRDO\n",
       "                       ...                 \n",
       "1062      ZUPANČIČEVA JAMA, AVČINOVA UL. 12\n",
       "1063              ZUPANČIČEVA JAMA, YPSILON\n",
       "1064              ZUPANČIČEVA JAMA, YPSILON\n",
       "1065    ZUPANČIČEVA JAMA, ŽELEZNA CESTA 10A\n",
       "1066          ZUPANČIČEVA JAMA, ŽUPANČIČEVA\n",
       "Name: lokacija, Length: 1060, dtype: string"
      ]
     },
     "execution_count": 17,
     "metadata": {},
     "output_type": "execute_result"
    }
   ],
   "source": [
    "df['lokacija'].astype('string')"
   ]
  },
  {
   "cell_type": "code",
   "execution_count": 18,
   "metadata": {},
   "outputs": [
    {
     "data": {
      "text/plain": [
       "array(['BEŽIGRAJSKI DVOR, PERIČEVA ULICA 1', 'BIZOVIK', 'BRDO',\n",
       "       'BRDO, NOVA GRBINA', 'BRDO, ZELENI GAJ', 'BRINJE, BEŽIGRAD',\n",
       "       'BROD', 'BROD, PIPANOVA POT 14', 'BROD, POD ŠMARNO GORO',\n",
       "       'BROD, TACEN', 'BS 3', 'BS 3, BEŽIGRAD', 'BS 3, LJ. BEŽIGRAD',\n",
       "       'BS 3, MAROLTOVA ULICA 2', 'BS 3, VOJKOVA 77',\n",
       "       'BS 3, VOJKOVA CESTA', 'BS 3, VOJKOVA CESTA 91', 'BTC', 'ČRNUČE',\n",
       "       'ČRNUČE, CENETA ŠTUPARJA', 'ČRNUČE, LJ.', 'ČRNUČE, POLANŠKOVA',\n",
       "       'ČRNUČE, SREDNJE GAMELJNE', 'ČRNUŠKA GMAJNA',\n",
       "       'ČRNUŠKA GMAJNA, ČRNUČE, POLANŠKOVA ULICA', 'DOBRUNJE',\n",
       "       'DOLGI MOST', 'DOLGI MOST, NASELJE KOZARJE', 'DRAVELJSKA GMAJNA',\n",
       "       'DRAVLJE', 'DRAVLJE, BLIZU DRAVELJSKE CERKVE',\n",
       "       'DRAVLJE, BRILEJEVA - NASPROTI MERCATOR CENT',\n",
       "       'DRAVLJE, KAMNOGORIŠKA CESTA', 'DRAVLJE, LJ. - DRAVELJSKA GMAJNA',\n",
       "       'DRAVLJE, PILONOVA 8', 'DRAVLJE, UL. BRATOV BABNIK', 'FUŽINE',\n",
       "       'FUŽINE, BRODARJEV TRG', 'FUŽINE, CHENGDUJSKA ULICA 24',\n",
       "       'FUŽINE, OBNOVLJENO 2020, HITRA VSELITEV', 'FUŽINE, POT NA',\n",
       "       'GALJEVICA', 'GALJEVICA, LJ. - RUDNIK', 'JARŠE',\n",
       "       'JARŠE, KODROVA ULICA 9', 'JEŽICA', 'JEŽICA, BEŽIGRAD, RUSKI CAR',\n",
       "       'KODELJEVO', 'KOLEZIJA', 'KOSEZE', 'KOSEZE, PRI OŠ',\n",
       "       'KOSEZE, TERASASTI BLOKI', 'LITOSTROJ', 'LJ. BEŽIGRAD',\n",
       "       'LJ. BEŽIGRAD, 10 MIN HOJE DO CENTRA',\n",
       "       'LJ. BEŽIGRAD, 300 M OD INŠTITUTA SOČA', 'LJ. BEŽIGRAD, ASTRA',\n",
       "       'LJ. BEŽIGRAD, BALKON, DVIGALO', 'LJ. BEŽIGRAD, BEŹIGRAD - CENTER',\n",
       "       'LJ. BEŽIGRAD, BLIŽINA CENTRA - NASPROTI GR',\n",
       "       'LJ. BEŽIGRAD, BLIŽINA LJUBLJANSKIH MLEKARN',\n",
       "       'LJ. BEŽIGRAD, BLIŽINA PLEČNIKOVEGA STADIONA',\n",
       "       'LJ. BEŽIGRAD, BLIŽINA ŠOLE DANILA KUMAR',\n",
       "       'LJ. BEŽIGRAD, BREZ PROVIZIJE, MAŠERA SPASIČEVA',\n",
       "       'LJ. BEŽIGRAD, BREZ PROVIZIJE, TOPNIŠKA ULICA',\n",
       "       'LJ. BEŽIGRAD, BRINJE', 'LJ. BEŽIGRAD, BS4',\n",
       "       'LJ. BEŽIGRAD, ČRNUČE, CESTA 24. JUNIJA',\n",
       "       'LJ. BEŽIGRAD, ČRTOMIROVA ULICA', 'LJ. BEŽIGRAD, DUNAJSKA 184',\n",
       "       'LJ. BEŽIGRAD, DUNAJSKA CESTA MERCATORJEV BLOK',\n",
       "       'LJ. BEŽIGRAD, DUNAJSKA, NASPROTI RAZSTAVIŠČA',\n",
       "       'LJ. BEŽIGRAD, DUNAJSKI KRISTALI',\n",
       "       'LJ. BEŽIGRAD, EKO SREBRNA HIŠA', 'LJ. BEŽIGRAD, GLAVARJEVA ULICA',\n",
       "       'LJ. BEŽIGRAD, GLINŠKOVA PLOŠČAD',\n",
       "       'LJ. BEŽIGRAD, GOSPODARSKO RAZSTAVIŠČE',\n",
       "       'LJ. BEŽIGRAD, JEŽICA, RUSKI CAR', 'LJ. BEŽIGRAD, KADILNIKOVA',\n",
       "       'LJ. BEŽIGRAD, KAMNIŠKA ULICA',\n",
       "       'LJ. BEŽIGRAD, KAMNIŠKA ULICA 26 C',\n",
       "       'LJ. BEŽIGRAD, KARDELJEVA PLOSCAD 10',\n",
       "       'LJ. BEŽIGRAD, KRŽIČEVA ULICA',\n",
       "       'LJ. BEŽIGRAD, LUŽIŠKO SRBSKA ULICA 15',\n",
       "       'LJ. BEŽIGRAD, MED WTC IN RUSKIM CARJEM',\n",
       "       'LJ. BEŽIGRAD, OKOLICA KARDELIJEVE PLOŠČADI',\n",
       "       'LJ. BEŽIGRAD, PODMILŠČAKOVA ULICA', 'LJ. BEŽIGRAD, PRERADOVIČEVA',\n",
       "       'LJ. BEŽIGRAD, PRESETNIKOVA ULICA 9', 'LJ. BEŽIGRAD, PTUJSKA 23',\n",
       "       'LJ. BEŽIGRAD, RUSKI CAR', 'LJ. BEŽIGRAD, SAMOVA ULICA',\n",
       "       'LJ. BEŽIGRAD, SAVLJE', 'LJ. BEŽIGRAD, SAVSKO NASELJE',\n",
       "       'LJ. BEŽIGRAD, STOŽICE', 'LJ. BEŽIGRAD, TOPNIŠKA',\n",
       "       'LJ. BEŽIGRAD, TOPNIŠKA ULICA 13/1',\n",
       "       'LJ. BEŽIGRAD, TRIGLAVSKA ULICA',\n",
       "       'LJ. BEŽIGRAD, ULICA POHORSKEGA BATALJONA',\n",
       "       'LJ. BEŽIGRAD, V EKO SREBRNI HIŠI', 'LJ. BEŽIGRAD, VOJKOVA',\n",
       "       'LJ. BEŽIGRAD, VOJKOVA 20',\n",
       "       'LJ. BEŽIGRAD, VOJKOVA 49 - ŠTUDENTSKE SOBE',\n",
       "       'LJ. BEŽIGRAD, ZUPANČIČEVA JAMA',\n",
       "       'LJ. BEŽIGRAD, ZUPANČIČEVA JAMA - ŽELEZNA CESTA',\n",
       "       'LJ. BEŽIGRAD, ZUPANČIČEVA JAMA, OB ŽELEZNIŠKI', 'LJ. CENTER',\n",
       "       'LJ. CENTER, - CIGALETOVA ULICA', 'LJ. CENTER, - KOMENSKEGA',\n",
       "       'LJ. CENTER, - OSRČJE STARE', 'LJ. CENTER, - POLJANE',\n",
       "       'LJ. CENTER, -, RIMSKA CESTA',\n",
       "       'LJ. CENTER, 50 M OD HOTELA INTERCONTINENTAL',\n",
       "       'LJ. CENTER, BAVARSKI DVOR', 'LJ. CENTER, BEETHOVNOVA ULICA',\n",
       "       'LJ. CENTER, BLIZU ŽELEZNIŠKE POSTAJE, SEMA.',\n",
       "       'LJ. CENTER, BLIŽINA CANKARJEVEGA DOMA',\n",
       "       'LJ. CENTER, BLIŽINA CITY HOTELA',\n",
       "       'LJ. CENTER, BLIŽINA HOTELA UNION',\n",
       "       'LJ. CENTER, BLIŽINA TRŽNICE IN TRUBARJEVE UL',\n",
       "       'LJ. CENTER, BLIŽINA UKC',\n",
       "       'LJ. CENTER, BLIŽINA UKC IN GLAVNE POSTAJE',\n",
       "       'LJ. CENTER, BOHORIČEVA 17, BLIŽINA UKC', 'LJ. CENTER, BREG',\n",
       "       'LJ. CENTER, BREZ PROVIZIJE',\n",
       "       'LJ. CENTER, BREZ PROVIZIJE, BOHORIČEVA ULICA',\n",
       "       'LJ. CENTER, BREZ PROVIZIJE, SALENDROVA ULICA',\n",
       "       'LJ. CENTER, BREZ PROVIZIJE, ZUPANČIČEVA JAMA',\n",
       "       'LJ. CENTER, CANKARJEVA', 'LJ. CENTER, CIRIL METODOV TRG',\n",
       "       'LJ. CENTER, DALMATINOVA ULICA', 'LJ. CENTER, ENKRATNA PRILOŽNOST',\n",
       "       'LJ. CENTER, ERJAVCEVA CESTA', 'LJ. CENTER, ERJAVČEVA CESTA',\n",
       "       'LJ. CENTER, GLONARJEVA ULICA', 'LJ. CENTER, GREGORČIČEVA',\n",
       "       'LJ. CENTER, GREGORČIČEVA ULICA',\n",
       "       'LJ. CENTER, HRVATSKI TRG - BLIŽINA UKC',\n",
       "       'LJ. CENTER, HUDOVERNIKOVA 2', 'LJ. CENTER, IZJEMNA LOKACIJA',\n",
       "       'LJ. CENTER, JANEZA PAVLA II', 'LJ. CENTER, KERSNIKOVA ULICA',\n",
       "       'LJ. CENTER, KOBLARJEVA', 'LJ. CENTER, KOLODVORSKA UL',\n",
       "       'LJ. CENTER, KOMENSKEGA', 'LJ. CENTER, KONGRESNI TRG, PEŠ CONA',\n",
       "       'LJ. CENTER, KOTNIKOVA ULICA', 'LJ. CENTER, KRAKOROČNI NAJEM',\n",
       "       'LJ. CENTER, KRATKOROČNI NAJEM 3 - 4 MESECE',\n",
       "       'LJ. CENTER, KRIŽANKE', 'LJ. CENTER, LEVSTIKOV TRG 8, 1000',\n",
       "       'LJ. CENTER, MALI TRG', 'LJ. CENTER, MESARSKA C., POGLED NA GRAD',\n",
       "       'LJ. CENTER, MESARSKA CESTA', 'LJ. CENTER, MESARSKA ULICA',\n",
       "       'LJ. CENTER, MESTNI TRG',\n",
       "       'LJ. CENTER, MIRNEJŠI DEL CENTRA - TABOR',\n",
       "       'LJ. CENTER, MOŽNOST KRATKOROČNEGA NAJEMA',\n",
       "       'LJ. CENTER, NASPROTI CITY HOTELA',\n",
       "       'LJ. CENTER, NASPROTI RAZSTAVIŠČA, DUNAJSKA',\n",
       "       'LJ. CENTER, NASPROTI RTV', 'LJ. CENTER, NASPROTI RTV SLOVENIJA',\n",
       "       'LJ. CENTER, NEBOTIČNIK',\n",
       "       'LJ. CENTER, NEBOTIČNIK, NARODNA GALERIJA',\n",
       "       'LJ. CENTER, NJEGOŠEVA', 'LJ. CENTER, NJEGOŠEVA, MEKSIKO',\n",
       "       'LJ. CENTER, OB GIMNAZIJI POLJANE', 'LJ. CENTER, OB LJUBLJANICI',\n",
       "       'LJ. CENTER, OB MESTNI TRŽNICI', 'LJ. CENTER, OB RIMSKEM ZIDU',\n",
       "       'LJ. CENTER, ORLOVA ULICA, ZA BOTANIČNIM VRTOM',\n",
       "       'LJ. CENTER, POLJANSKA ULICA 77A', 'LJ. CENTER, POLJANSKI NASIP',\n",
       "       'LJ. CENTER, PRESERNOVA CESTA', 'LJ. CENTER, PREŠERNOV TRG',\n",
       "       'LJ. CENTER, PREŠERNOVA CESTA', 'LJ. CENTER, PRI BOTANIČNEM VRTU',\n",
       "       'LJ. CENTER, PRI ZD - METELKOVA', 'LJ. CENTER, RESLJEVA',\n",
       "       'LJ. CENTER, RESLJEVA CESTA',\n",
       "       'LJ. CENTER, RIMSKA CESTA V BLIŽINI ŽMAUCA',\n",
       "       'LJ. CENTER, S POGLEDOM NA GRAD',\n",
       "       'LJ. CENTER, SHORT RENT TERM PERIOD', 'LJ. CENTER, SITULA',\n",
       "       'LJ. CENTER, SLOMŠKOVA ULICA', 'LJ. CENTER, SLOVENSKA CESTA',\n",
       "       'LJ. CENTER, STARA', 'LJ. CENTER, STARALJ.',\n",
       "       'LJ. CENTER, STARI TRG', 'LJ. CENTER, STARI TRG 9',\n",
       "       'LJ. CENTER, STARO MESTNO JEDRO', 'LJ. CENTER, STRELIŠKA 37A',\n",
       "       'LJ. CENTER, STRELIŠKA ULICA', 'LJ. CENTER, ŠTEFANOVA ULICA',\n",
       "       'LJ. CENTER, TABOR', 'LJ. CENTER, TESARSKA ULICA',\n",
       "       'LJ. CENTER, TIK POD GRADOM', 'LJ. CENTER, TIVOLSKA CESTA',\n",
       "       'LJ. CENTER, TRDINOVA', 'LJ. CENTER, TRNOVO',\n",
       "       'LJ. CENTER, TRNOVSKA VRATA - BARJANSKA ULICA',\n",
       "       'LJ. CENTER, TRNOVSKA VRATA, BARJANSKA',\n",
       "       'LJ. CENTER, TRUBARJEV KVART', 'LJ. CENTER, TRUBARJEVA CESTA',\n",
       "       'LJ. CENTER, TRUBARJEVA ULICA',\n",
       "       'LJ. CENTER, V CENTRU MESTA NA KERSNIKOVI.',\n",
       "       'LJ. CENTER, VEGOVA ULICA', 'LJ. CENTER, VIDOVDANSKA 1',\n",
       "       'LJ. CENTER, VIDOVDANSKA CESTA', 'LJ. CENTER, VILA URBANA',\n",
       "       'LJ. CENTER, VILHARJEVA CESTA 44, SITULA',\n",
       "       'LJ. CENTER, VKLJUCENI STROSKI', 'LJ. CENTER, VKLJUČENI STROŠKI',\n",
       "       'LJ. CENTER, VODMAT',\n",
       "       'LJ. CENTER, VODMATSKA ULICA, POSTELJA V SOBI',\n",
       "       'LJ. CENTER, VODMATSKA ULICA, SOBA S STROŠKI',\n",
       "       'LJ. CENTER, VOŠNJAKOVA 1', 'LJ. CENTER, VRTAČA',\n",
       "       'LJ. CENTER, Z ATRIJEM', 'LJ. CENTER, ZALOŠKA',\n",
       "       'LJ. CENTER, ZARNIKOVA ULICA', 'LJ. CENTER, ZGODOVINSKI DEL MESTA',\n",
       "       'LJ. MOSTE', 'LJ. MOSTE, ATRIUM, ŠMARTINSKA 70',\n",
       "       'LJ. MOSTE, BLIŽINA BTC', 'LJ. MOSTE, BLIŽINA PAPIRNICE VEVČE',\n",
       "       'LJ. MOSTE, BREZ PROVIZIJE, PARTIZANSKA',\n",
       "       'LJ. MOSTE, BREZ PROVIZIJE, POVŠETOVA ULICA',\n",
       "       'LJ. MOSTE, KAJUHOVA ULICA', 'LJ. MOSTE, KODELJEVO, BLIŽINA UKC',\n",
       "       'LJ. MOSTE, MED ŽELEZNIŠKO POSTAJO IN BTC',\n",
       "       'LJ. MOSTE, SAVINOVA UL. 7', 'LJ. MOSTE, ŠTEPANJSKO NASELJE',\n",
       "       'LJ. MOSTE, ZG. HRUŠICA', 'LJ. ŠIŠKA', 'LJ. ŠIŠKA, - TIVOLI',\n",
       "       'LJ. ŠIŠKA, 2 PARKIRNI MESTI', 'LJ. ŠIŠKA, ANDREAŠEVA ULICA 8',\n",
       "       'LJ. ŠIŠKA, BELLE VIE TIVOLI',\n",
       "       'LJ. ŠIŠKA, BLIŽINA KINA, OŠ, POŠTE',\n",
       "       'LJ. ŠIŠKA, BREZ PROVIZIJE, ALEŠOVČEVA ULICA',\n",
       "       'LJ. ŠIŠKA, BREZ PROVIZIJE, PILONOVA',\n",
       "       'LJ. ŠIŠKA, BREZ PROVIZIJE, SCOPOLIJEVA', 'LJ. ŠIŠKA, CELOVŠKA C.',\n",
       "       'LJ. ŠIŠKA, CELOVŠKA CESTA',\n",
       "       'LJ. ŠIŠKA, CELOVŠKA CESTA 103, 1000 LJUBLJA',\n",
       "       'LJ. ŠIŠKA, CELOVŠKI DVORI',\n",
       "       'LJ. ŠIŠKA, CELOVŠKI DVORI NASPROTI ALEJE',\n",
       "       'LJ. ŠIŠKA, GORAZDOVA ULICA', 'LJ. ŠIŠKA, GOTSKA ULICA',\n",
       "       'LJ. ŠIŠKA, KINO', 'LJ. ŠIŠKA, KOGOVŠKOVA ULICA',\n",
       "       'LJ. ŠIŠKA, KOSEZE', 'LJ. ŠIŠKA, LITOSTROJ',\n",
       "       'LJ. ŠIŠKA, LJ CENTER, VODNIKOVA CESTA', 'LJ. ŠIŠKA, MOSTEC',\n",
       "       'LJ. ŠIŠKA, MOSTEC - ČERNIGOJEVA ULICA',\n",
       "       'LJ. ŠIŠKA, NASPROTI ALEJE', 'LJ. ŠIŠKA, NASPROTI PARKA TIVOLI',\n",
       "       'LJ. ŠIŠKA, NASPROTI ZD', 'LJ. ŠIŠKA, OB VODNIKOVI CESTI',\n",
       "       'LJ. ŠIŠKA, PARKIRNO MESTO, DVIGALO',\n",
       "       'LJ. ŠIŠKA, PILON - PILONOVA ULICA',\n",
       "       'LJ. ŠIŠKA, PRI STARI CERKVI BREZ PROVIZIJE',\n",
       "       'LJ. ŠIŠKA, SLOVENIJA', 'LJ. ŠIŠKA, ŠENTVID',\n",
       "       'LJ. ŠIŠKA, ŠIŠENSKA ULICA', 'LJ. ŠIŠKA, TRG KOMANDANTA STANETA',\n",
       "       'LJ. ŠIŠKA, VILA BLOK 2020', 'LJ. ŠIŠKA, VIŽMARJE',\n",
       "       'LJ. ŠIŠKA, VODNIKOVA CESTA', 'LJ. ŠIŠKA, ZGORNJA',\n",
       "       'LJ. ŠIŠKA, ZRAVEN OBVOZNICE', 'LJ. VIČ',\n",
       "       'LJ. VIČ, BIČEVJE - IZREDNA LOKACIJA',\n",
       "       'LJ. VIČ, BLIŽINA INŠ - JOŽEF ŠTEFAN',\n",
       "       'LJ. VIČ, BREZ PROVIZIJE, DOLENJSKA CESTA',\n",
       "       'LJ. VIČ, BREZ PROVIZIJE, ROŽNA DOLINA',\n",
       "       'LJ. VIČ, CESTA DVEH CESARJEV', 'LJ. VIČ, CESTA NA BRDO',\n",
       "       'LJ. VIČ, DOLGI MOST', 'LJ. VIČ, GERBIČEVA ULICA',\n",
       "       'LJ. VIČ, IŽANSKA CESTA', 'LJ. VIČ, KANČEVA ULICA',\n",
       "       'LJ. VIČ, KOPRSKA, BLIZU ŠPARA', 'LJ. VIČ, NOVA GRBINA',\n",
       "       'LJ. VIČ, POD BUKVAMI', 'LJ. VIČ, PRIMERNO ZA ŠTUDENTE',\n",
       "       'LJ. VIČ, RAMOVŠEVA', 'LJ. VIČ, ROŽNA DOLINA',\n",
       "       'LJ. VIČ, ROŽNA DOLINA - CESTA NA BRDO', 'LJ. VIČ, RUDNIK',\n",
       "       'LJ. VIČ, SLO', 'LJ. VIČ, ŠIBENIŠKA ULICA 5',\n",
       "       'LJ. VIČ, TBILISIJSKA', 'LJ. VIČ, TRŽAŠKA CESTA',\n",
       "       'LJ. VIČ, V BLIŽINI INTERŠPARA',\n",
       "       'LJ. VIČ, VILA BLOK BLIZU ROŽNE DOLINE', 'LJ. VIČ, VIŠKA CESTA',\n",
       "       'LJ. VIČ, ZA TOBAČNO', 'LJ. VIČ, ZAHOD',\n",
       "       'LJ. VIČ, ZAVETIŠKA 7, 1000 LJUBLJAN', 'MESTNI LOG, VIČ', 'MIRJE',\n",
       "       'MOSTEC', 'MURGLE', 'NOVE JARŠE',\n",
       "       'NOVE JARŠE, BLIŽINA OBVOZNICE IN BTC - JA', 'NOVE JARŠE, BTC',\n",
       "       'NOVE JARŠE, CLEVELANDSKA', 'NOVE JARŠE, LJ.',\n",
       "       'NOVE JARŠE, STRAŽARJEVA ULICA', 'NOVO POLJE',\n",
       "       'NOVO POLJE, LJ. MOSTE', 'PODUTIK', 'PODUTIK, KUŠTRINOVA',\n",
       "       'PODUTIK, LJ.', 'POLJANE, LJ.', 'POLJANE, MESARSKA ULICA 4',\n",
       "       'POLJANE, POLJANSKI NASIP', 'POLJANE, ROŠKA', 'POLJE',\n",
       "       'POLJE, KAŠELJSKA CESTA 82', 'POLJE, POLEG OBVOZNICE',\n",
       "       'POLJE, RJAVA CESTA', 'PRULE', 'PRULE, IŽANSKA CESTA',\n",
       "       'PRULE, OB BOTANIČNEM VRTU V LJUBLJANI', 'RAKOVA JELŠA',\n",
       "       'RAKOVA JELŠA, KONEC OPEKARSKE, BLIZU J OBVOZ.', 'RAKOVNIK',\n",
       "       'ROŽNA DOLINA', 'ROŽNA DOLINA, BLIŽINA BIVŠE TOBAČNE TOVARNE',\n",
       "       'ROŽNA DOLINA, BLIŽINA ROŽNIKA, TRGOVINE, LPP',\n",
       "       'ROŽNA DOLINA, CESTA IX', 'ROŽNA DOLINA, CESTA V',\n",
       "       'ROŽNA DOLINA, UL. IGA GRUDNA', 'RUDNIK', 'RUDNIK, BARJE',\n",
       "       'RUDNIK, DOLENJSKA CESTA', 'RUDNIK, JURČKOVA CESTA',\n",
       "       'RUDNIK, JURČKOVA CESTA 161', 'RUDNIK, V ZELENEM OKOLJU', 'SAVLJE',\n",
       "       'SAVLJE, KONČNA POSTAJA LPP 14', 'SAVLJE, LJ. BEŽIGRAD',\n",
       "       'SAVSKO NASELJE', 'SAVSKO NASELJE, BLIŽINA CENTRA',\n",
       "       'SAVSKO NASELJE, KNOBLEHARJEVA ULICA',\n",
       "       'SAVSKO NASELJE, LINHARTOVA CESTA 64',\n",
       "       'SAVSKO NASELJE, ODLICNA URBANA POVEZAVA', 'SNEBERJE, LJ.',\n",
       "       'SNEBERJE, SNEBERSKO NABREŽJE 12', 'SP. HRUŠICA', 'SP. KAŠELJ',\n",
       "       'SP. ŠIŠKA', 'SP. ŠIŠKA, ANDREAŠEVA 8',\n",
       "       'SP. ŠIŠKA, BELLE VIE TIVOLI', 'SP. ŠIŠKA, CELOVŠKA 107',\n",
       "       'SP. ŠIŠKA, CELOVŠKA CESTA 34, LJ.', 'SP. ŠIŠKA, MAZIJEVA ULICA',\n",
       "       'SP. ŠIŠKA, NASPROTI PARKA TIVOLI', 'SP. ŠIŠKA, TIVOLI',\n",
       "       'SP. ŠIŠKA, ULICA MILANA MAJCNA', 'STANEŽIČE', 'STARA LJ.',\n",
       "       'STARA LJ., CENTER', 'STARA LJ., REBER', 'STEGNE', 'STOŽICE',\n",
       "       'STOŽICE, HIPODROM', 'ŠENTVID', 'ŠENTVID, LJ.',\n",
       "       'ŠENTVID, NASPROTI KONČNE POSTAJE LPP ŠT. 1', 'ŠMARTNO OB SAVI',\n",
       "       'ŠTEPANJA VAS', 'ŠTEPANJSKO NASELJE',\n",
       "       'ŠTEPANJSKO NASELJE, DERGANČEVA ULICA',\n",
       "       'ŠTEPANJSKO NASELJE, JAKČEVA',\n",
       "       'ŠTEPANJSKO NASELJE, JAKČEVA ULICA 2',\n",
       "       'ŠTEPANJSKO NASELJE, POD GOLOVCEM',\n",
       "       'ŠTEPANJSKO NASELJE, POLONCE ČUDE 5, NAS.', 'TABOR, CENTER',\n",
       "       'TABOR, CENTER, SLOMŠKOVA ULICA', 'TACEN', 'TOMAČEVO', 'TRNOVO',\n",
       "       'TRNOVO, CENTER', 'TRNOVO, LJ.', 'TRNOVO, NAJLEPŠI DEL',\n",
       "       'TRNOVO, OB PARTIZANU', 'TRNOVO, RIHARJEVA ULICA',\n",
       "       'TRNOVO, TRNOVSKA VRATA', 'TRNOVO, TRNOVSKI PRISTAN 12',\n",
       "       'TRNOVO, ZIHERLOVA UL.', 'TRNOVO, ZIHERLOVA ULICA', 'VEVČE',\n",
       "       'VIŽMARJE', 'VIŽMARJE, CESTA NA PREVOJE, LJ.', 'VODMAT', 'VRHOVCI',\n",
       "       'ZALOG', 'ZELENA JAMA', 'ZELENA JAMA, ŠE NEVSELJENO', 'ZG. KAŠELJ',\n",
       "       'ZG. ŠIŠKA', 'ZG. ŠIŠKA, - SLOVENIJA AVTO',\n",
       "       'ZG. ŠIŠKA, BLIZU KOSEŠKE TRŽNICE',\n",
       "       'ZG. ŠIŠKA, CELOVŠKA CESTA 189', 'ZG. ŠIŠKA, LJ.',\n",
       "       'ZG. ŠIŠKA, RAŠIŠKA ULICA', 'ZUPANČIČEVA JAMA',\n",
       "       'ZUPANČIČEVA JAMA, AVČINOVA UL. 12', 'ZUPANČIČEVA JAMA, YPSILON',\n",
       "       'ZUPANČIČEVA JAMA, ŽELEZNA CESTA 10A',\n",
       "       'ZUPANČIČEVA JAMA, ŽUPANČIČEVA'], dtype=object)"
      ]
     },
     "execution_count": 18,
     "metadata": {},
     "output_type": "execute_result"
    }
   ],
   "source": [
    "df['lokacija'].unique()"
   ]
  },
  {
   "cell_type": "code",
   "execution_count": 19,
   "metadata": {},
   "outputs": [
    {
     "data": {
      "text/html": [
       "<div>\n",
       "<style scoped>\n",
       "    .dataframe tbody tr th:only-of-type {\n",
       "        vertical-align: middle;\n",
       "    }\n",
       "\n",
       "    .dataframe tbody tr th {\n",
       "        vertical-align: top;\n",
       "    }\n",
       "\n",
       "    .dataframe thead th {\n",
       "        text-align: right;\n",
       "    }\n",
       "</style>\n",
       "<table border=\"1\" class=\"dataframe\">\n",
       "  <thead>\n",
       "    <tr style=\"text-align: right;\">\n",
       "      <th></th>\n",
       "      <th>lokacija</th>\n",
       "      <th>room_factor</th>\n",
       "      <th>desc</th>\n",
       "      <th>size</th>\n",
       "      <th>price</th>\n",
       "      <th>gradnja</th>\n",
       "      <th>adaptacija</th>\n",
       "    </tr>\n",
       "  </thead>\n",
       "  <tbody>\n",
       "    <tr>\n",
       "      <th>3</th>\n",
       "      <td>BEŽIGRAJSKI DVOR, PERIČEVA ULICA 1</td>\n",
       "      <td>3.0</td>\n",
       "      <td>28 m2, 1-sobno, zgrajeno l. 1950, adaptirano l...</td>\n",
       "      <td>28,00 m2</td>\n",
       "      <td>400,00 €/mesec</td>\n",
       "      <td>1950.0</td>\n",
       "      <td>2007.0</td>\n",
       "    </tr>\n",
       "    <tr>\n",
       "      <th>4</th>\n",
       "      <td>BIZOVIK</td>\n",
       "      <td>5.0</td>\n",
       "      <td>100 m2, 3-sobno, zgrajeno l. 1977, adaptirano ...</td>\n",
       "      <td>100,00 m2</td>\n",
       "      <td>750,00 €/mesec</td>\n",
       "      <td>1977.0</td>\n",
       "      <td>2020.0</td>\n",
       "    </tr>\n",
       "    <tr>\n",
       "      <th>5</th>\n",
       "      <td>BIZOVIK</td>\n",
       "      <td>7.0</td>\n",
       "      <td>105,5 m2, 5 in večsobno, zgrajeno l. 2005, odd...</td>\n",
       "      <td>105,50 m2</td>\n",
       "      <td>1.500,00 €/mesec</td>\n",
       "      <td>2005.0</td>\n",
       "      <td>NaN</td>\n",
       "    </tr>\n",
       "    <tr>\n",
       "      <th>6</th>\n",
       "      <td>BRDO</td>\n",
       "      <td>2.0</td>\n",
       "      <td>15 m2, soba, zgrajena l. 1970, adaptirana l. 2...</td>\n",
       "      <td>15,00 m2</td>\n",
       "      <td>250,00 €/mesec</td>\n",
       "      <td>1970.0</td>\n",
       "      <td>2003.0</td>\n",
       "    </tr>\n",
       "    <tr>\n",
       "      <th>7</th>\n",
       "      <td>BRDO</td>\n",
       "      <td>2.0</td>\n",
       "      <td>15 m2, soba, zgrajena l. 2002, adaptirana l. 2...</td>\n",
       "      <td>15,00 m2</td>\n",
       "      <td>200,00 €/mesec</td>\n",
       "      <td>2002.0</td>\n",
       "      <td>2020.0</td>\n",
       "    </tr>\n",
       "  </tbody>\n",
       "</table>\n",
       "</div>"
      ],
      "text/plain": [
       "                             lokacija  room_factor  \\\n",
       "3  BEŽIGRAJSKI DVOR, PERIČEVA ULICA 1          3.0   \n",
       "4                             BIZOVIK          5.0   \n",
       "5                             BIZOVIK          7.0   \n",
       "6                                BRDO          2.0   \n",
       "7                                BRDO          2.0   \n",
       "\n",
       "                                                desc       size  \\\n",
       "3  28 m2, 1-sobno, zgrajeno l. 1950, adaptirano l...   28,00 m2   \n",
       "4  100 m2, 3-sobno, zgrajeno l. 1977, adaptirano ...  100,00 m2   \n",
       "5  105,5 m2, 5 in večsobno, zgrajeno l. 2005, odd...  105,50 m2   \n",
       "6  15 m2, soba, zgrajena l. 1970, adaptirana l. 2...   15,00 m2   \n",
       "7  15 m2, soba, zgrajena l. 2002, adaptirana l. 2...   15,00 m2   \n",
       "\n",
       "              price  gradnja  adaptacija  \n",
       "3    400,00 €/mesec   1950.0      2007.0  \n",
       "4    750,00 €/mesec   1977.0      2020.0  \n",
       "5  1.500,00 €/mesec   2005.0         NaN  \n",
       "6    250,00 €/mesec   1970.0      2003.0  \n",
       "7    200,00 €/mesec   2002.0      2020.0  "
      ]
     },
     "execution_count": 19,
     "metadata": {},
     "output_type": "execute_result"
    }
   ],
   "source": [
    "df['lokacija'].str.replace('LJ.','')\n",
    "df.head()"
   ]
  },
  {
   "cell_type": "code",
   "execution_count": 20,
   "metadata": {},
   "outputs": [
    {
     "name": "stdout",
     "output_type": "stream",
     "text": [
      "latitude is :- 46.0499803 \n",
      "longtitude is:- 14.5068602\n"
     ]
    }
   ],
   "source": [
    "from geopy.geocoders import Nominatim\n",
    "geolocator = Nominatim(user_agent=\"my_user_agent\")\n",
    "city =\"Ljubljana\"\n",
    "country =\"Slovenia\"\n",
    "loc = geolocator.geocode(city+','+ country)\n",
    "print(\"latitude is :-\" ,loc.latitude,\"\\nlongtitude is:-\" ,loc.longitude)"
   ]
  },
  {
   "cell_type": "code",
   "execution_count": 21,
   "metadata": {},
   "outputs": [
    {
     "data": {
      "text/plain": [
       "(46.0499803, 14.5068602)"
      ]
     },
     "execution_count": 21,
     "metadata": {},
     "output_type": "execute_result"
    }
   ],
   "source": [
    "center = (loc.latitude, loc.longitude)\n",
    "center"
   ]
  },
  {
   "cell_type": "code",
   "execution_count": 22,
   "metadata": {},
   "outputs": [
    {
     "data": {
      "text/plain": [
       "0"
      ]
     },
     "execution_count": 22,
     "metadata": {},
     "output_type": "execute_result"
    }
   ],
   "source": [
    "df['lokacija'].isnull().sum()"
   ]
  },
  {
   "cell_type": "code",
   "execution_count": 23,
   "metadata": {},
   "outputs": [
    {
     "name": "stdout",
     "output_type": "stream",
     "text": [
      "864.2144943393625\n"
     ]
    }
   ],
   "source": [
    "from geopy.distance import great_circle\n",
    "newport_ri = (41.49008, -71.312796)\n",
    "\n",
    "cleveland_oh = (41.499498, -81.695391)\n",
    "print(great_circle(newport_ri, cleveland_oh).km)"
   ]
  },
  {
   "cell_type": "code",
   "execution_count": 24,
   "metadata": {},
   "outputs": [],
   "source": [
    "def create_tuple(x, number):\n",
    "    loc = geolocator.geocode(x)\n",
    "    if loc is not None:\n",
    "        return (loc.latitude, loc.longitude)\n",
    "    else:\n",
    "        return (number, number)"
   ]
  },
  {
   "cell_type": "code",
   "execution_count": 25,
   "metadata": {},
   "outputs": [
    {
     "name": "stdout",
     "output_type": "stream",
     "text": [
      "0.9304784133255821 km\n"
     ]
    }
   ],
   "source": [
    "dun_cesta = geolocator.geocode('DUNAJSKA CESTA')\n",
    "print(great_circle(center, create_tuple(dun_cesta,5)))"
   ]
  },
  {
   "cell_type": "code",
   "execution_count": 26,
   "metadata": {},
   "outputs": [
    {
     "data": {
      "text/html": [
       "<div>\n",
       "<style scoped>\n",
       "    .dataframe tbody tr th:only-of-type {\n",
       "        vertical-align: middle;\n",
       "    }\n",
       "\n",
       "    .dataframe tbody tr th {\n",
       "        vertical-align: top;\n",
       "    }\n",
       "\n",
       "    .dataframe thead th {\n",
       "        text-align: right;\n",
       "    }\n",
       "</style>\n",
       "<table border=\"1\" class=\"dataframe\">\n",
       "  <thead>\n",
       "    <tr style=\"text-align: right;\">\n",
       "      <th></th>\n",
       "      <th>lokacija</th>\n",
       "      <th>room_factor</th>\n",
       "      <th>desc</th>\n",
       "      <th>size</th>\n",
       "      <th>price</th>\n",
       "      <th>gradnja</th>\n",
       "      <th>adaptacija</th>\n",
       "    </tr>\n",
       "  </thead>\n",
       "  <tbody>\n",
       "    <tr>\n",
       "      <th>1062</th>\n",
       "      <td>ZUPANČIČEVA JAMA, AVČINOVA UL. 12</td>\n",
       "      <td>2.0</td>\n",
       "      <td>14 m2, soba, v stavbi zgrajeni l. 1996, adapti...</td>\n",
       "      <td>14,00 m2</td>\n",
       "      <td>200,00 €/mesec</td>\n",
       "      <td>1996.0</td>\n",
       "      <td>2014.0</td>\n",
       "    </tr>\n",
       "    <tr>\n",
       "      <th>1063</th>\n",
       "      <td>ZUPANČIČEVA JAMA, YPSILON</td>\n",
       "      <td>4.0</td>\n",
       "      <td>66,4 m2, 2-sobno, zgrajeno l. 2018, 2/6 nad., ...</td>\n",
       "      <td>66,40 m2</td>\n",
       "      <td>780,00 €/mesec</td>\n",
       "      <td>2018.0</td>\n",
       "      <td>NaN</td>\n",
       "    </tr>\n",
       "    <tr>\n",
       "      <th>1064</th>\n",
       "      <td>ZUPANČIČEVA JAMA, YPSILON</td>\n",
       "      <td>5.5</td>\n",
       "      <td>111 m2, 3,5-sobno, dupleks, zgrajeno l. 2018, ...</td>\n",
       "      <td>111,00 m2</td>\n",
       "      <td>1.800,00 €/mesec</td>\n",
       "      <td>2018.0</td>\n",
       "      <td>NaN</td>\n",
       "    </tr>\n",
       "    <tr>\n",
       "      <th>1065</th>\n",
       "      <td>ZUPANČIČEVA JAMA, ŽELEZNA CESTA 10A</td>\n",
       "      <td>4.0</td>\n",
       "      <td>50 m2, 2-sobno, zgrajeno l. 2005, VP/7 nad., o...</td>\n",
       "      <td>50,00 m2</td>\n",
       "      <td>850,00 €/mesec</td>\n",
       "      <td>2005.0</td>\n",
       "      <td>NaN</td>\n",
       "    </tr>\n",
       "    <tr>\n",
       "      <th>1066</th>\n",
       "      <td>ZUPANČIČEVA JAMA, ŽUPANČIČEVA</td>\n",
       "      <td>5.5</td>\n",
       "      <td>139 m2, 3,5-sobno, zgrajeno l. 2005, 5/6 nad.,...</td>\n",
       "      <td>139,00 m2</td>\n",
       "      <td>1.400,00 €/mesec</td>\n",
       "      <td>2005.0</td>\n",
       "      <td>NaN</td>\n",
       "    </tr>\n",
       "  </tbody>\n",
       "</table>\n",
       "</div>"
      ],
      "text/plain": [
       "                                 lokacija  room_factor  \\\n",
       "1062    ZUPANČIČEVA JAMA, AVČINOVA UL. 12          2.0   \n",
       "1063            ZUPANČIČEVA JAMA, YPSILON          4.0   \n",
       "1064            ZUPANČIČEVA JAMA, YPSILON          5.5   \n",
       "1065  ZUPANČIČEVA JAMA, ŽELEZNA CESTA 10A          4.0   \n",
       "1066        ZUPANČIČEVA JAMA, ŽUPANČIČEVA          5.5   \n",
       "\n",
       "                                                   desc       size  \\\n",
       "1062  14 m2, soba, v stavbi zgrajeni l. 1996, adapti...   14,00 m2   \n",
       "1063  66,4 m2, 2-sobno, zgrajeno l. 2018, 2/6 nad., ...   66,40 m2   \n",
       "1064  111 m2, 3,5-sobno, dupleks, zgrajeno l. 2018, ...  111,00 m2   \n",
       "1065  50 m2, 2-sobno, zgrajeno l. 2005, VP/7 nad., o...   50,00 m2   \n",
       "1066  139 m2, 3,5-sobno, zgrajeno l. 2005, 5/6 nad.,...  139,00 m2   \n",
       "\n",
       "                 price  gradnja  adaptacija  \n",
       "1062    200,00 €/mesec   1996.0      2014.0  \n",
       "1063    780,00 €/mesec   2018.0         NaN  \n",
       "1064  1.800,00 €/mesec   2018.0         NaN  \n",
       "1065    850,00 €/mesec   2005.0         NaN  \n",
       "1066  1.400,00 €/mesec   2005.0         NaN  "
      ]
     },
     "execution_count": 26,
     "metadata": {},
     "output_type": "execute_result"
    }
   ],
   "source": [
    "df.tail()"
   ]
  },
  {
   "cell_type": "code",
   "execution_count": 27,
   "metadata": {},
   "outputs": [
    {
     "data": {
      "text/plain": [
       "1060"
      ]
     },
     "execution_count": 27,
     "metadata": {},
     "output_type": "execute_result"
    }
   ],
   "source": [
    "data_size = df.count()[0]\n",
    "data_size"
   ]
  },
  {
   "cell_type": "code",
   "execution_count": 28,
   "metadata": {},
   "outputs": [],
   "source": [
    "#df = df.assign(latitude = lambda x: create_tuple(x, 5)[0])\n",
    "#df = df.assign(longitude = lambda x: create_tuple(x, 5)[1])"
   ]
  },
  {
   "cell_type": "code",
   "execution_count": 29,
   "metadata": {},
   "outputs": [],
   "source": [
    "df['latitude'] = df['lokacija'].apply(lambda x: create_tuple(x,46)[0])\n",
    "df['longitude'] = df['lokacija'].apply(lambda x: create_tuple(x,14)[1])"
   ]
  },
  {
   "cell_type": "code",
   "execution_count": 30,
   "metadata": {},
   "outputs": [
    {
     "data": {
      "text/html": [
       "<div>\n",
       "<style scoped>\n",
       "    .dataframe tbody tr th:only-of-type {\n",
       "        vertical-align: middle;\n",
       "    }\n",
       "\n",
       "    .dataframe tbody tr th {\n",
       "        vertical-align: top;\n",
       "    }\n",
       "\n",
       "    .dataframe thead th {\n",
       "        text-align: right;\n",
       "    }\n",
       "</style>\n",
       "<table border=\"1\" class=\"dataframe\">\n",
       "  <thead>\n",
       "    <tr style=\"text-align: right;\">\n",
       "      <th></th>\n",
       "      <th>lokacija</th>\n",
       "      <th>room_factor</th>\n",
       "      <th>size</th>\n",
       "      <th>price</th>\n",
       "      <th>gradnja</th>\n",
       "      <th>adaptacija</th>\n",
       "      <th>latitude</th>\n",
       "      <th>longitude</th>\n",
       "    </tr>\n",
       "  </thead>\n",
       "  <tbody>\n",
       "    <tr>\n",
       "      <th>3</th>\n",
       "      <td>BEŽIGRAJSKI DVOR, PERIČEVA ULICA 1</td>\n",
       "      <td>3.0</td>\n",
       "      <td>28,00 m2</td>\n",
       "      <td>400,00 €/mesec</td>\n",
       "      <td>1950.0</td>\n",
       "      <td>2007.0</td>\n",
       "      <td>46.000000</td>\n",
       "      <td>14.000000</td>\n",
       "    </tr>\n",
       "    <tr>\n",
       "      <th>4</th>\n",
       "      <td>BIZOVIK</td>\n",
       "      <td>5.0</td>\n",
       "      <td>100,00 m2</td>\n",
       "      <td>750,00 €/mesec</td>\n",
       "      <td>1977.0</td>\n",
       "      <td>2020.0</td>\n",
       "      <td>46.035486</td>\n",
       "      <td>14.567925</td>\n",
       "    </tr>\n",
       "    <tr>\n",
       "      <th>5</th>\n",
       "      <td>BIZOVIK</td>\n",
       "      <td>7.0</td>\n",
       "      <td>105,50 m2</td>\n",
       "      <td>1.500,00 €/mesec</td>\n",
       "      <td>2005.0</td>\n",
       "      <td>NaN</td>\n",
       "      <td>46.035486</td>\n",
       "      <td>14.567925</td>\n",
       "    </tr>\n",
       "    <tr>\n",
       "      <th>6</th>\n",
       "      <td>BRDO</td>\n",
       "      <td>2.0</td>\n",
       "      <td>15,00 m2</td>\n",
       "      <td>250,00 €/mesec</td>\n",
       "      <td>1970.0</td>\n",
       "      <td>2003.0</td>\n",
       "      <td>45.449571</td>\n",
       "      <td>13.759716</td>\n",
       "    </tr>\n",
       "    <tr>\n",
       "      <th>7</th>\n",
       "      <td>BRDO</td>\n",
       "      <td>2.0</td>\n",
       "      <td>15,00 m2</td>\n",
       "      <td>200,00 €/mesec</td>\n",
       "      <td>2002.0</td>\n",
       "      <td>2020.0</td>\n",
       "      <td>45.449571</td>\n",
       "      <td>13.759716</td>\n",
       "    </tr>\n",
       "  </tbody>\n",
       "</table>\n",
       "</div>"
      ],
      "text/plain": [
       "                             lokacija  room_factor       size  \\\n",
       "3  BEŽIGRAJSKI DVOR, PERIČEVA ULICA 1          3.0   28,00 m2   \n",
       "4                             BIZOVIK          5.0  100,00 m2   \n",
       "5                             BIZOVIK          7.0  105,50 m2   \n",
       "6                                BRDO          2.0   15,00 m2   \n",
       "7                                BRDO          2.0   15,00 m2   \n",
       "\n",
       "              price  gradnja  adaptacija   latitude  longitude  \n",
       "3    400,00 €/mesec   1950.0      2007.0  46.000000  14.000000  \n",
       "4    750,00 €/mesec   1977.0      2020.0  46.035486  14.567925  \n",
       "5  1.500,00 €/mesec   2005.0         NaN  46.035486  14.567925  \n",
       "6    250,00 €/mesec   1970.0      2003.0  45.449571  13.759716  \n",
       "7    200,00 €/mesec   2002.0      2020.0  45.449571  13.759716  "
      ]
     },
     "execution_count": 30,
     "metadata": {},
     "output_type": "execute_result"
    }
   ],
   "source": [
    "df.drop('desc',inplace=True, axis=1)\n",
    "df.head()"
   ]
  },
  {
   "cell_type": "code",
   "execution_count": 31,
   "metadata": {},
   "outputs": [
    {
     "data": {
      "text/plain": [
       "(10, 20)"
      ]
     },
     "execution_count": 31,
     "metadata": {},
     "output_type": "execute_result"
    },
    {
     "data": {
      "image/png": "[encoded data removed]",
      "text/plain": [
       "<Figure size 432x288 with 1 Axes>"
      ]
     },
     "metadata": {
      "needs_background": "light"
     },
     "output_type": "display_data"
    }
   ],
   "source": [
    "plt.scatter(df['latitude'],df['longitude'], label='Position')\n",
    "axes = plt.gca()\n",
    "axes.set_xlim([40,50])\n",
    "axes.set_ylim([10,20])"
   ]
  },
  {
   "cell_type": "code",
   "execution_count": 32,
   "metadata": {},
   "outputs": [
    {
     "data": {
      "text/plain": [
       "<matplotlib.axes._subplots.AxesSubplot at 0x7fbf53cebee0>"
      ]
     },
     "execution_count": 32,
     "metadata": {},
     "output_type": "execute_result"
    },
    {
     "data": {
      "image/png": "[encoded data removed]",
      "text/plain": [
       "<Figure size 432x288 with 1 Axes>"
      ]
     },
     "metadata": {
      "needs_background": "light"
     },
     "output_type": "display_data"
    }
   ],
   "source": [
    "sns.scatterplot(df['longitude'], df['latitude'])"
   ]
  },
  {
   "cell_type": "code",
   "execution_count": 33,
   "metadata": {},
   "outputs": [
    {
     "data": {
      "text/plain": [
       "count    1060.000000\n",
       "mean       31.345949\n",
       "std        24.967975\n",
       "min       -38.197548\n",
       "25%        -4.052851\n",
       "50%        46.000000\n",
       "75%        46.060013\n",
       "max        50.103967\n",
       "Name: latitude, dtype: float64"
      ]
     },
     "execution_count": 33,
     "metadata": {},
     "output_type": "execute_result"
    }
   ],
   "source": [
    "df['latitude'].describe()"
   ]
  },
  {
   "cell_type": "code",
   "execution_count": 34,
   "metadata": {},
   "outputs": [
    {
     "data": {
      "text/plain": [
       "lokacija       1060\n",
       "room_factor    1060\n",
       "size           1060\n",
       "price          1060\n",
       "gradnja         909\n",
       "adaptacija      621\n",
       "latitude       1060\n",
       "longitude      1060\n",
       "dtype: int64"
      ]
     },
     "execution_count": 34,
     "metadata": {},
     "output_type": "execute_result"
    }
   ],
   "source": [
    "df.count()"
   ]
  },
  {
   "cell_type": "code",
   "execution_count": 35,
   "metadata": {},
   "outputs": [
    {
     "data": {
      "text/plain": [
       "0"
      ]
     },
     "execution_count": 35,
     "metadata": {},
     "output_type": "execute_result"
    }
   ],
   "source": [
    "df['latitude'].isnull().sum()"
   ]
  },
  {
   "cell_type": "code",
   "execution_count": 36,
   "metadata": {},
   "outputs": [],
   "source": [
    "from sklearn.cluster import KMeans\n",
    "lat, lon = df['latitude'], df['longitude']\n",
    "lat = lat.to_numpy().reshape((-1,1))\n",
    "lon = lon.to_numpy().reshape((-1,1))"
   ]
  },
  {
   "cell_type": "code",
   "execution_count": 37,
   "metadata": {},
   "outputs": [],
   "source": [
    "X=df.loc[:,['latitude','longitude']]"
   ]
  },
  {
   "cell_type": "code",
   "execution_count": 38,
   "metadata": {},
   "outputs": [
    {
     "data": {
      "text/plain": [
       "KMeans(n_clusters=10)"
      ]
     },
     "execution_count": 38,
     "metadata": {},
     "output_type": "execute_result"
    }
   ],
   "source": [
    "clusters = 10\n",
    "kmeans = KMeans(n_clusters=clusters)\n",
    "kmeans.fit(X)"
   ]
  },
  {
   "cell_type": "code",
   "execution_count": null,
   "metadata": {},
   "outputs": [],
   "source": []
  },
  {
   "cell_type": "code",
   "execution_count": 39,
   "metadata": {},
   "outputs": [
    {
     "name": "stdout",
     "output_type": "stream",
     "text": [
      "[0 0 0 ... 0 0 0]\n"
     ]
    }
   ],
   "source": [
    "print(kmeans.labels_)"
   ]
  },
  {
   "cell_type": "code",
   "execution_count": 40,
   "metadata": {},
   "outputs": [
    {
     "name": "stdout",
     "output_type": "stream",
     "text": [
      "<class 'numpy.ndarray'>\n"
     ]
    }
   ],
   "source": [
    "print(type(kmeans.labels_))"
   ]
  },
  {
   "cell_type": "code",
   "execution_count": 41,
   "metadata": {},
   "outputs": [
    {
     "data": {
      "text/plain": [
       "array([[ 46.04874879,  14.24272256],\n",
       "       [ -4.0528506 , -79.8053425 ],\n",
       "       [-38.197548  , 146.5375551 ],\n",
       "       [ 39.21241765, -94.53397894],\n",
       "       [ 43.0820584 ,  25.6321312 ],\n",
       "       [  4.2886254 ,  41.5168965 ],\n",
       "       [ 49.992985  ,  36.230523  ],\n",
       "       [ 48.6921841 ,  21.0078226 ],\n",
       "       [ 44.62849583,  -3.75910989],\n",
       "       [ 44.57513556,  18.59276162]])"
      ]
     },
     "execution_count": 41,
     "metadata": {},
     "output_type": "execute_result"
    }
   ],
   "source": [
    "kmeans.cluster_centers_"
   ]
  },
  {
   "cell_type": "code",
   "execution_count": 42,
   "metadata": {},
   "outputs": [
    {
     "data": {
      "image/png": "[encoded data removed]",
      "text/plain": [
       "<Figure size 432x288 with 1 Axes>"
      ]
     },
     "metadata": {
      "needs_background": "light"
     },
     "output_type": "display_data"
    }
   ],
   "source": [
    "plt.scatter(df['latitude'],df['longitude'], c= kmeans.labels_, cmap='rainbow')\n",
    "plt.title(\"K-Means Clusters\")\n",
    "plt.show()"
   ]
  },
  {
   "cell_type": "code",
   "execution_count": 43,
   "metadata": {},
   "outputs": [
    {
     "data": {
      "image/png": "[encoded data removed]",
      "text/plain": [
       "<Figure size 432x288 with 1 Axes>"
      ]
     },
     "metadata": {
      "needs_background": "light"
     },
     "output_type": "display_data"
    }
   ],
   "source": [
    "plt.scatter(df['latitude'], df['longitude'], c=kmeans.labels_, cmap='rainbow')\n",
    "plt.scatter(kmeans.cluster_centers_[0], kmeans.cluster_centers_[1], color='black')\n",
    "plt.show()"
   ]
  },
  {
   "cell_type": "code",
   "execution_count": 44,
   "metadata": {},
   "outputs": [
    {
     "data": {
      "text/html": [
       "<div>\n",
       "<style scoped>\n",
       "    .dataframe tbody tr th:only-of-type {\n",
       "        vertical-align: middle;\n",
       "    }\n",
       "\n",
       "    .dataframe tbody tr th {\n",
       "        vertical-align: top;\n",
       "    }\n",
       "\n",
       "    .dataframe thead th {\n",
       "        text-align: right;\n",
       "    }\n",
       "</style>\n",
       "<table border=\"1\" class=\"dataframe\">\n",
       "  <thead>\n",
       "    <tr style=\"text-align: right;\">\n",
       "      <th></th>\n",
       "      <th>0</th>\n",
       "    </tr>\n",
       "  </thead>\n",
       "  <tbody>\n",
       "    <tr>\n",
       "      <th>count</th>\n",
       "      <td>1060.000000</td>\n",
       "    </tr>\n",
       "    <tr>\n",
       "      <th>mean</th>\n",
       "      <td>0.652830</td>\n",
       "    </tr>\n",
       "    <tr>\n",
       "      <th>std</th>\n",
       "      <td>1.430889</td>\n",
       "    </tr>\n",
       "    <tr>\n",
       "      <th>min</th>\n",
       "      <td>0.000000</td>\n",
       "    </tr>\n",
       "    <tr>\n",
       "      <th>25%</th>\n",
       "      <td>0.000000</td>\n",
       "    </tr>\n",
       "    <tr>\n",
       "      <th>50%</th>\n",
       "      <td>0.000000</td>\n",
       "    </tr>\n",
       "    <tr>\n",
       "      <th>75%</th>\n",
       "      <td>1.000000</td>\n",
       "    </tr>\n",
       "    <tr>\n",
       "      <th>max</th>\n",
       "      <td>9.000000</td>\n",
       "    </tr>\n",
       "  </tbody>\n",
       "</table>\n",
       "</div>"
      ],
      "text/plain": [
       "                 0\n",
       "count  1060.000000\n",
       "mean      0.652830\n",
       "std       1.430889\n",
       "min       0.000000\n",
       "25%       0.000000\n",
       "50%       0.000000\n",
       "75%       1.000000\n",
       "max       9.000000"
      ]
     },
     "execution_count": 44,
     "metadata": {},
     "output_type": "execute_result"
    }
   ],
   "source": [
    "ed = pd.DataFrame(kmeans.labels_)\n",
    "ed.dropna()\n",
    "ed.describe()"
   ]
  },
  {
   "cell_type": "code",
   "execution_count": 77,
   "metadata": {},
   "outputs": [
    {
     "data": {
      "text/html": [
       "<div>\n",
       "<style scoped>\n",
       "    .dataframe tbody tr th:only-of-type {\n",
       "        vertical-align: middle;\n",
       "    }\n",
       "\n",
       "    .dataframe tbody tr th {\n",
       "        vertical-align: top;\n",
       "    }\n",
       "\n",
       "    .dataframe thead th {\n",
       "        text-align: right;\n",
       "    }\n",
       "</style>\n",
       "<table border=\"1\" class=\"dataframe\">\n",
       "  <thead>\n",
       "    <tr style=\"text-align: right;\">\n",
       "      <th></th>\n",
       "      <th>room_factor</th>\n",
       "      <th>size</th>\n",
       "      <th>price</th>\n",
       "      <th>gradnja</th>\n",
       "      <th>adaptacija</th>\n",
       "      <th>labels</th>\n",
       "    </tr>\n",
       "  </thead>\n",
       "  <tbody>\n",
       "    <tr>\n",
       "      <th>0</th>\n",
       "      <td>3.0</td>\n",
       "      <td>8</td>\n",
       "      <td>400</td>\n",
       "      <td>70</td>\n",
       "      <td>13</td>\n",
       "      <td>0</td>\n",
       "    </tr>\n",
       "    <tr>\n",
       "      <th>1</th>\n",
       "      <td>5.0</td>\n",
       "      <td>100</td>\n",
       "      <td>750</td>\n",
       "      <td>43</td>\n",
       "      <td>0</td>\n",
       "      <td>0</td>\n",
       "    </tr>\n",
       "    <tr>\n",
       "      <th>2</th>\n",
       "      <td>7.0</td>\n",
       "      <td>105</td>\n",
       "      <td>1500</td>\n",
       "      <td>15</td>\n",
       "      <td>0</td>\n",
       "      <td>0</td>\n",
       "    </tr>\n",
       "    <tr>\n",
       "      <th>3</th>\n",
       "      <td>2.0</td>\n",
       "      <td>15</td>\n",
       "      <td>250</td>\n",
       "      <td>50</td>\n",
       "      <td>17</td>\n",
       "      <td>0</td>\n",
       "    </tr>\n",
       "    <tr>\n",
       "      <th>4</th>\n",
       "      <td>2.0</td>\n",
       "      <td>15</td>\n",
       "      <td>200</td>\n",
       "      <td>18</td>\n",
       "      <td>0</td>\n",
       "      <td>0</td>\n",
       "    </tr>\n",
       "  </tbody>\n",
       "</table>\n",
       "</div>"
      ],
      "text/plain": [
       "   room_factor  size  price  gradnja  adaptacija  labels\n",
       "0          3.0     8    400       70          13       0\n",
       "1          5.0   100    750       43           0       0\n",
       "2          7.0   105   1500       15           0       0\n",
       "3          2.0    15    250       50          17       0\n",
       "4          2.0    15    200       18           0       0"
      ]
     },
     "execution_count": 77,
     "metadata": {},
     "output_type": "execute_result"
    }
   ],
   "source": [
    "df['labels'] = ed\n",
    "df.head()"
   ]
  },
  {
   "cell_type": "code",
   "execution_count": 145,
   "metadata": {},
   "outputs": [
    {
     "name": "stdout",
     "output_type": "stream",
     "text": [
      "5.821094976138486 km\n",
      "10664.538533522522 km\n",
      "16026.837031750589 km\n",
      "4655.92697809215 km\n",
      "8201.399773856612 km\n",
      "940.105585818147 km\n",
      "5326.152404331471 km\n",
      "1667.4494256034438 km\n",
      "1433.18751667491 km\n"
     ]
    }
   ],
   "source": [
    "distances = []\n",
    "for i in range(0,clusters-1):\n",
    "    distance = great_circle(center, kmeans.cluster_centers_[i])\n",
    "    print(distance)\n",
    "    distances.append(distance)"
   ]
  },
  {
   "cell_type": "code",
   "execution_count": 146,
   "metadata": {},
   "outputs": [
    {
     "data": {
      "text/html": [
       "<div>\n",
       "<style scoped>\n",
       "    .dataframe tbody tr th:only-of-type {\n",
       "        vertical-align: middle;\n",
       "    }\n",
       "\n",
       "    .dataframe tbody tr th {\n",
       "        vertical-align: top;\n",
       "    }\n",
       "\n",
       "    .dataframe thead th {\n",
       "        text-align: right;\n",
       "    }\n",
       "</style>\n",
       "<table border=\"1\" class=\"dataframe\">\n",
       "  <thead>\n",
       "    <tr style=\"text-align: right;\">\n",
       "      <th></th>\n",
       "      <th>title</th>\n",
       "      <th>offer_type</th>\n",
       "      <th>desc</th>\n",
       "      <th>size</th>\n",
       "      <th>price</th>\n",
       "      <th>gradnja</th>\n",
       "      <th>adaptacija</th>\n",
       "      <th>labels</th>\n",
       "    </tr>\n",
       "  </thead>\n",
       "  <tbody>\n",
       "    <tr>\n",
       "      <th>0</th>\n",
       "      <td>Ne spreglejte</td>\n",
       "      <td>trisobno</td>\n",
       "      <td>74,5 m2, 3-sobno, zgrajeno l. 1964, adaptirano...</td>\n",
       "      <td>74,50 m2</td>\n",
       "      <td>890,00 €/mesec</td>\n",
       "      <td>1964</td>\n",
       "      <td>2020</td>\n",
       "      <td>1667.4494256034438 km</td>\n",
       "    </tr>\n",
       "    <tr>\n",
       "      <th>1</th>\n",
       "      <td>Ne spreglejte</td>\n",
       "      <td>trisobno</td>\n",
       "      <td>77 m2, 3-sobno, zgrajeno l. 1969, adaptirano l...</td>\n",
       "      <td>77,00 m2</td>\n",
       "      <td>750,00 €/mesec</td>\n",
       "      <td>1969</td>\n",
       "      <td>2015</td>\n",
       "      <td>1667.4494256034438 km</td>\n",
       "    </tr>\n",
       "    <tr>\n",
       "      <th>2</th>\n",
       "      <td>Ne spreglejte</td>\n",
       "      <td>dvosobno</td>\n",
       "      <td>60 m2, 2-sobno, zgrajeno l. 1935, adaptirano l...</td>\n",
       "      <td>60,00 m2</td>\n",
       "      <td>850,00 €/mesec</td>\n",
       "      <td>1935</td>\n",
       "      <td>2018</td>\n",
       "      <td>1667.4494256034438 km</td>\n",
       "    </tr>\n",
       "    <tr>\n",
       "      <th>3</th>\n",
       "      <td>BEŽIGRAJSKI DVOR, PERIČEVA ULICA 1</td>\n",
       "      <td>enosobno</td>\n",
       "      <td>28 m2, 1-sobno, zgrajeno l. 1950, adaptirano l...</td>\n",
       "      <td>28,00 m2</td>\n",
       "      <td>400,00 €/mesec</td>\n",
       "      <td>1950</td>\n",
       "      <td>2007</td>\n",
       "      <td>1667.4494256034438 km</td>\n",
       "    </tr>\n",
       "    <tr>\n",
       "      <th>4</th>\n",
       "      <td>BIZOVIK</td>\n",
       "      <td>trisobno</td>\n",
       "      <td>100 m2, 3-sobno, zgrajeno l. 1977, adaptirano ...</td>\n",
       "      <td>100,00 m2</td>\n",
       "      <td>750,00 €/mesec</td>\n",
       "      <td>1977</td>\n",
       "      <td>2020</td>\n",
       "      <td>1667.4494256034438 km</td>\n",
       "    </tr>\n",
       "  </tbody>\n",
       "</table>\n",
       "</div>"
      ],
      "text/plain": [
       "                                title offer_type  \\\n",
       "0                       Ne spreglejte   trisobno   \n",
       "1                       Ne spreglejte   trisobno   \n",
       "2                       Ne spreglejte   dvosobno   \n",
       "3  BEŽIGRAJSKI DVOR, PERIČEVA ULICA 1   enosobno   \n",
       "4                             BIZOVIK   trisobno   \n",
       "\n",
       "                                                desc       size  \\\n",
       "0  74,5 m2, 3-sobno, zgrajeno l. 1964, adaptirano...   74,50 m2   \n",
       "1  77 m2, 3-sobno, zgrajeno l. 1969, adaptirano l...   77,00 m2   \n",
       "2  60 m2, 2-sobno, zgrajeno l. 1935, adaptirano l...   60,00 m2   \n",
       "3  28 m2, 1-sobno, zgrajeno l. 1950, adaptirano l...   28,00 m2   \n",
       "4  100 m2, 3-sobno, zgrajeno l. 1977, adaptirano ...  100,00 m2   \n",
       "\n",
       "            price gradnja adaptacija                 labels  \n",
       "0  890,00 €/mesec    1964       2020  1667.4494256034438 km  \n",
       "1  750,00 €/mesec    1969       2015  1667.4494256034438 km  \n",
       "2  850,00 €/mesec    1935       2018  1667.4494256034438 km  \n",
       "3  400,00 €/mesec    1950       2007  1667.4494256034438 km  \n",
       "4  750,00 €/mesec    1977       2020  1667.4494256034438 km  "
      ]
     },
     "execution_count": 146,
     "metadata": {},
     "output_type": "execute_result"
    }
   ],
   "source": [
    "for i in range(0,len(distances)-1):\n",
    "    df['labels'] = df.loc[df.labels == i] = distances[i]\n",
    "\n",
    "df.head()"
   ]
  },
  {
   "cell_type": "code",
   "execution_count": 147,
   "metadata": {},
   "outputs": [],
   "source": []
  },
  {
   "cell_type": "code",
   "execution_count": 307,
   "metadata": {},
   "outputs": [],
   "source": [
    "def truncate(x, decimals):\n",
    "    return (x*10**decimals)/10*decimals"
   ]
  },
  {
   "cell_type": "code",
   "execution_count": 46,
   "metadata": {},
   "outputs": [
    {
     "name": "stdout",
     "output_type": "stream",
     "text": [
      "1.2113615767197619 km\n"
     ]
    }
   ],
   "source": [
    "df.reset_index()\n",
    "print(great_circle(center, (df.at[150,'latitude'], df.at[150,'longitude'])))"
   ]
  },
  {
   "cell_type": "code",
   "execution_count": 47,
   "metadata": {},
   "outputs": [
    {
     "data": {
      "text/html": [
       "<div>\n",
       "<style scoped>\n",
       "    .dataframe tbody tr th:only-of-type {\n",
       "        vertical-align: middle;\n",
       "    }\n",
       "\n",
       "    .dataframe tbody tr th {\n",
       "        vertical-align: top;\n",
       "    }\n",
       "\n",
       "    .dataframe thead th {\n",
       "        text-align: right;\n",
       "    }\n",
       "</style>\n",
       "<table border=\"1\" class=\"dataframe\">\n",
       "  <thead>\n",
       "    <tr style=\"text-align: right;\">\n",
       "      <th></th>\n",
       "      <th>lokacija</th>\n",
       "      <th>room_factor</th>\n",
       "      <th>size</th>\n",
       "      <th>price</th>\n",
       "      <th>gradnja</th>\n",
       "      <th>adaptacija</th>\n",
       "      <th>latitude</th>\n",
       "      <th>longitude</th>\n",
       "      <th>labels</th>\n",
       "    </tr>\n",
       "  </thead>\n",
       "  <tbody>\n",
       "    <tr>\n",
       "      <th>3</th>\n",
       "      <td>BEŽIGRAJSKI DVOR, PERIČEVA ULICA 1</td>\n",
       "      <td>3.0</td>\n",
       "      <td>28,00 m2</td>\n",
       "      <td>400,00 €/mesec</td>\n",
       "      <td>1950.0</td>\n",
       "      <td>2007.0</td>\n",
       "      <td>46.000000</td>\n",
       "      <td>14.000000</td>\n",
       "      <td>0.0</td>\n",
       "    </tr>\n",
       "    <tr>\n",
       "      <th>4</th>\n",
       "      <td>BIZOVIK</td>\n",
       "      <td>5.0</td>\n",
       "      <td>100,00 m2</td>\n",
       "      <td>750,00 €/mesec</td>\n",
       "      <td>1977.0</td>\n",
       "      <td>2020.0</td>\n",
       "      <td>46.035486</td>\n",
       "      <td>14.567925</td>\n",
       "      <td>0.0</td>\n",
       "    </tr>\n",
       "    <tr>\n",
       "      <th>5</th>\n",
       "      <td>BIZOVIK</td>\n",
       "      <td>7.0</td>\n",
       "      <td>105,50 m2</td>\n",
       "      <td>1.500,00 €/mesec</td>\n",
       "      <td>2005.0</td>\n",
       "      <td>NaN</td>\n",
       "      <td>46.035486</td>\n",
       "      <td>14.567925</td>\n",
       "      <td>0.0</td>\n",
       "    </tr>\n",
       "    <tr>\n",
       "      <th>6</th>\n",
       "      <td>BRDO</td>\n",
       "      <td>2.0</td>\n",
       "      <td>15,00 m2</td>\n",
       "      <td>250,00 €/mesec</td>\n",
       "      <td>1970.0</td>\n",
       "      <td>2003.0</td>\n",
       "      <td>45.449571</td>\n",
       "      <td>13.759716</td>\n",
       "      <td>0.0</td>\n",
       "    </tr>\n",
       "    <tr>\n",
       "      <th>7</th>\n",
       "      <td>BRDO</td>\n",
       "      <td>2.0</td>\n",
       "      <td>15,00 m2</td>\n",
       "      <td>200,00 €/mesec</td>\n",
       "      <td>2002.0</td>\n",
       "      <td>2020.0</td>\n",
       "      <td>45.449571</td>\n",
       "      <td>13.759716</td>\n",
       "      <td>0.0</td>\n",
       "    </tr>\n",
       "  </tbody>\n",
       "</table>\n",
       "</div>"
      ],
      "text/plain": [
       "                             lokacija  room_factor       size  \\\n",
       "3  BEŽIGRAJSKI DVOR, PERIČEVA ULICA 1          3.0   28,00 m2   \n",
       "4                             BIZOVIK          5.0  100,00 m2   \n",
       "5                             BIZOVIK          7.0  105,50 m2   \n",
       "6                                BRDO          2.0   15,00 m2   \n",
       "7                                BRDO          2.0   15,00 m2   \n",
       "\n",
       "              price  gradnja  adaptacija   latitude  longitude  labels  \n",
       "3    400,00 €/mesec   1950.0      2007.0  46.000000  14.000000     0.0  \n",
       "4    750,00 €/mesec   1977.0      2020.0  46.035486  14.567925     0.0  \n",
       "5  1.500,00 €/mesec   2005.0         NaN  46.035486  14.567925     0.0  \n",
       "6    250,00 €/mesec   1970.0      2003.0  45.449571  13.759716     0.0  \n",
       "7    200,00 €/mesec   2002.0      2020.0  45.449571  13.759716     0.0  "
      ]
     },
     "execution_count": 47,
     "metadata": {},
     "output_type": "execute_result"
    }
   ],
   "source": [
    "df.head()"
   ]
  },
  {
   "cell_type": "markdown",
   "metadata": {},
   "source": [
    "## Size and price preprocessing"
   ]
  },
  {
   "cell_type": "markdown",
   "metadata": {},
   "source": [
    "Again, size and price are string containing the values and units. First we will strip the columns of all data so we can transform them into numerical columns."
   ]
  },
  {
   "cell_type": "code",
   "execution_count": 48,
   "metadata": {},
   "outputs": [
    {
     "data": {
      "text/html": [
       "<div>\n",
       "<style scoped>\n",
       "    .dataframe tbody tr th:only-of-type {\n",
       "        vertical-align: middle;\n",
       "    }\n",
       "\n",
       "    .dataframe tbody tr th {\n",
       "        vertical-align: top;\n",
       "    }\n",
       "\n",
       "    .dataframe thead th {\n",
       "        text-align: right;\n",
       "    }\n",
       "</style>\n",
       "<table border=\"1\" class=\"dataframe\">\n",
       "  <thead>\n",
       "    <tr style=\"text-align: right;\">\n",
       "      <th></th>\n",
       "      <th>lokacija</th>\n",
       "      <th>room_factor</th>\n",
       "      <th>size</th>\n",
       "      <th>price</th>\n",
       "      <th>gradnja</th>\n",
       "      <th>adaptacija</th>\n",
       "      <th>latitude</th>\n",
       "      <th>longitude</th>\n",
       "      <th>labels</th>\n",
       "    </tr>\n",
       "  </thead>\n",
       "  <tbody>\n",
       "    <tr>\n",
       "      <th>3</th>\n",
       "      <td>BEŽIGRAJSKI DVOR, PERIČEVA ULICA 1</td>\n",
       "      <td>3.0</td>\n",
       "      <td>8.00</td>\n",
       "      <td>400</td>\n",
       "      <td>1950.0</td>\n",
       "      <td>2007.0</td>\n",
       "      <td>46.000000</td>\n",
       "      <td>14.000000</td>\n",
       "      <td>0.0</td>\n",
       "    </tr>\n",
       "    <tr>\n",
       "      <th>4</th>\n",
       "      <td>BIZOVIK</td>\n",
       "      <td>5.0</td>\n",
       "      <td>100.00</td>\n",
       "      <td>750</td>\n",
       "      <td>1977.0</td>\n",
       "      <td>2020.0</td>\n",
       "      <td>46.035486</td>\n",
       "      <td>14.567925</td>\n",
       "      <td>0.0</td>\n",
       "    </tr>\n",
       "    <tr>\n",
       "      <th>5</th>\n",
       "      <td>BIZOVIK</td>\n",
       "      <td>7.0</td>\n",
       "      <td>105.50</td>\n",
       "      <td>1500</td>\n",
       "      <td>2005.0</td>\n",
       "      <td>NaN</td>\n",
       "      <td>46.035486</td>\n",
       "      <td>14.567925</td>\n",
       "      <td>0.0</td>\n",
       "    </tr>\n",
       "    <tr>\n",
       "      <th>6</th>\n",
       "      <td>BRDO</td>\n",
       "      <td>2.0</td>\n",
       "      <td>15.00</td>\n",
       "      <td>250</td>\n",
       "      <td>1970.0</td>\n",
       "      <td>2003.0</td>\n",
       "      <td>45.449571</td>\n",
       "      <td>13.759716</td>\n",
       "      <td>0.0</td>\n",
       "    </tr>\n",
       "    <tr>\n",
       "      <th>7</th>\n",
       "      <td>BRDO</td>\n",
       "      <td>2.0</td>\n",
       "      <td>15.00</td>\n",
       "      <td>200</td>\n",
       "      <td>2002.0</td>\n",
       "      <td>2020.0</td>\n",
       "      <td>45.449571</td>\n",
       "      <td>13.759716</td>\n",
       "      <td>0.0</td>\n",
       "    </tr>\n",
       "  </tbody>\n",
       "</table>\n",
       "</div>"
      ],
      "text/plain": [
       "                             lokacija  room_factor    size price  gradnja  \\\n",
       "3  BEŽIGRAJSKI DVOR, PERIČEVA ULICA 1          3.0    8.00   400   1950.0   \n",
       "4                             BIZOVIK          5.0  100.00   750   1977.0   \n",
       "5                             BIZOVIK          7.0  105.50  1500   2005.0   \n",
       "6                                BRDO          2.0   15.00   250   1970.0   \n",
       "7                                BRDO          2.0   15.00   200   2002.0   \n",
       "\n",
       "   adaptacija   latitude  longitude  labels  \n",
       "3      2007.0  46.000000  14.000000     0.0  \n",
       "4      2020.0  46.035486  14.567925     0.0  \n",
       "5         NaN  46.035486  14.567925     0.0  \n",
       "6      2003.0  45.449571  13.759716     0.0  \n",
       "7      2020.0  45.449571  13.759716     0.0  "
      ]
     },
     "execution_count": 48,
     "metadata": {},
     "output_type": "execute_result"
    }
   ],
   "source": [
    "df['size'] = df['size'].str.strip(' m2')\n",
    "df['price'] =df['price'].str.strip(' €/mesec')\n",
    "\n",
    "df['size'] = df['size'].str.replace(',','.')\n",
    "\n",
    "df['price'] = df['price'].str.replace('.','')\n",
    "df['price'] = df['price'].str.replace(',00','')\n",
    "df['price'] = df['price'].str.replace(' €/m2','')\n",
    "\n",
    "df.head()"
   ]
  },
  {
   "cell_type": "code",
   "execution_count": 49,
   "metadata": {},
   "outputs": [
    {
     "data": {
      "text/plain": [
       "361"
      ]
     },
     "execution_count": 49,
     "metadata": {},
     "output_type": "execute_result"
    }
   ],
   "source": [
    "len(df['size'].unique())"
   ]
  },
  {
   "cell_type": "code",
   "execution_count": 50,
   "metadata": {},
   "outputs": [
    {
     "data": {
      "text/html": [
       "<div>\n",
       "<style scoped>\n",
       "    .dataframe tbody tr th:only-of-type {\n",
       "        vertical-align: middle;\n",
       "    }\n",
       "\n",
       "    .dataframe tbody tr th {\n",
       "        vertical-align: top;\n",
       "    }\n",
       "\n",
       "    .dataframe thead th {\n",
       "        text-align: right;\n",
       "    }\n",
       "</style>\n",
       "<table border=\"1\" class=\"dataframe\">\n",
       "  <thead>\n",
       "    <tr style=\"text-align: right;\">\n",
       "      <th></th>\n",
       "      <th>lokacija</th>\n",
       "      <th>room_factor</th>\n",
       "      <th>size</th>\n",
       "      <th>price</th>\n",
       "      <th>gradnja</th>\n",
       "      <th>adaptacija</th>\n",
       "      <th>latitude</th>\n",
       "      <th>longitude</th>\n",
       "      <th>labels</th>\n",
       "    </tr>\n",
       "  </thead>\n",
       "  <tbody>\n",
       "    <tr>\n",
       "      <th>3</th>\n",
       "      <td>BEŽIGRAJSKI DVOR, PERIČEVA ULICA 1</td>\n",
       "      <td>3.0</td>\n",
       "      <td>8.0</td>\n",
       "      <td>400</td>\n",
       "      <td>1950.0</td>\n",
       "      <td>2007.0</td>\n",
       "      <td>46.000000</td>\n",
       "      <td>14.000000</td>\n",
       "      <td>0.0</td>\n",
       "    </tr>\n",
       "    <tr>\n",
       "      <th>4</th>\n",
       "      <td>BIZOVIK</td>\n",
       "      <td>5.0</td>\n",
       "      <td>100.0</td>\n",
       "      <td>750</td>\n",
       "      <td>1977.0</td>\n",
       "      <td>2020.0</td>\n",
       "      <td>46.035486</td>\n",
       "      <td>14.567925</td>\n",
       "      <td>0.0</td>\n",
       "    </tr>\n",
       "    <tr>\n",
       "      <th>5</th>\n",
       "      <td>BIZOVIK</td>\n",
       "      <td>7.0</td>\n",
       "      <td>105.5</td>\n",
       "      <td>1500</td>\n",
       "      <td>2005.0</td>\n",
       "      <td>NaN</td>\n",
       "      <td>46.035486</td>\n",
       "      <td>14.567925</td>\n",
       "      <td>0.0</td>\n",
       "    </tr>\n",
       "    <tr>\n",
       "      <th>6</th>\n",
       "      <td>BRDO</td>\n",
       "      <td>2.0</td>\n",
       "      <td>15.0</td>\n",
       "      <td>250</td>\n",
       "      <td>1970.0</td>\n",
       "      <td>2003.0</td>\n",
       "      <td>45.449571</td>\n",
       "      <td>13.759716</td>\n",
       "      <td>0.0</td>\n",
       "    </tr>\n",
       "    <tr>\n",
       "      <th>7</th>\n",
       "      <td>BRDO</td>\n",
       "      <td>2.0</td>\n",
       "      <td>15.0</td>\n",
       "      <td>200</td>\n",
       "      <td>2002.0</td>\n",
       "      <td>2020.0</td>\n",
       "      <td>45.449571</td>\n",
       "      <td>13.759716</td>\n",
       "      <td>0.0</td>\n",
       "    </tr>\n",
       "  </tbody>\n",
       "</table>\n",
       "</div>"
      ],
      "text/plain": [
       "                             lokacija  room_factor   size  price  gradnja  \\\n",
       "3  BEŽIGRAJSKI DVOR, PERIČEVA ULICA 1          3.0    8.0    400   1950.0   \n",
       "4                             BIZOVIK          5.0  100.0    750   1977.0   \n",
       "5                             BIZOVIK          7.0  105.5   1500   2005.0   \n",
       "6                                BRDO          2.0   15.0    250   1970.0   \n",
       "7                                BRDO          2.0   15.0    200   2002.0   \n",
       "\n",
       "   adaptacija   latitude  longitude  labels  \n",
       "3      2007.0  46.000000  14.000000     0.0  \n",
       "4      2020.0  46.035486  14.567925     0.0  \n",
       "5         NaN  46.035486  14.567925     0.0  \n",
       "6      2003.0  45.449571  13.759716     0.0  \n",
       "7      2020.0  45.449571  13.759716     0.0  "
      ]
     },
     "execution_count": 50,
     "metadata": {},
     "output_type": "execute_result"
    }
   ],
   "source": [
    "df['size'] = pd.to_numeric(df['size'])\n",
    "df['price'] = pd.to_numeric(df['price'])\n",
    "\n",
    "df.head()"
   ]
  },
  {
   "cell_type": "code",
   "execution_count": 51,
   "metadata": {},
   "outputs": [
    {
     "data": {
      "text/plain": [
       "lokacija        object\n",
       "room_factor    float64\n",
       "size           float64\n",
       "price            int64\n",
       "gradnja        float64\n",
       "adaptacija     float64\n",
       "latitude       float64\n",
       "longitude      float64\n",
       "labels         float64\n",
       "dtype: object"
      ]
     },
     "execution_count": 51,
     "metadata": {},
     "output_type": "execute_result"
    }
   ],
   "source": [
    "df.dtypes"
   ]
  },
  {
   "cell_type": "markdown",
   "metadata": {},
   "source": [
    "## Gradnja in adaptacija"
   ]
  },
  {
   "cell_type": "code",
   "execution_count": 52,
   "metadata": {},
   "outputs": [
    {
     "data": {
      "text/plain": [
       "lokacija         0\n",
       "room_factor      0\n",
       "size             0\n",
       "price            0\n",
       "gradnja        151\n",
       "adaptacija     439\n",
       "latitude         0\n",
       "longitude        0\n",
       "labels           7\n",
       "dtype: int64"
      ]
     },
     "execution_count": 52,
     "metadata": {},
     "output_type": "execute_result"
    }
   ],
   "source": [
    "df.isnull().sum()"
   ]
  },
  {
   "cell_type": "code",
   "execution_count": 53,
   "metadata": {},
   "outputs": [],
   "source": [
    "def truncate(n):\n",
    "    return int(n * 10) / 10"
   ]
  },
  {
   "cell_type": "code",
   "execution_count": 54,
   "metadata": {},
   "outputs": [
    {
     "data": {
      "text/plain": [
       "(1977.0, 2017.0)"
      ]
     },
     "execution_count": 54,
     "metadata": {},
     "output_type": "execute_result"
    }
   ],
   "source": [
    "gradnja_median = df['gradnja'].median()\n",
    "adapt_median = df['adaptacija'].median()\n",
    "\n",
    "gradnja_median, adapt_median"
   ]
  },
  {
   "cell_type": "code",
   "execution_count": 55,
   "metadata": {},
   "outputs": [
    {
     "data": {
      "text/html": [
       "<div>\n",
       "<style scoped>\n",
       "    .dataframe tbody tr th:only-of-type {\n",
       "        vertical-align: middle;\n",
       "    }\n",
       "\n",
       "    .dataframe tbody tr th {\n",
       "        vertical-align: top;\n",
       "    }\n",
       "\n",
       "    .dataframe thead th {\n",
       "        text-align: right;\n",
       "    }\n",
       "</style>\n",
       "<table border=\"1\" class=\"dataframe\">\n",
       "  <thead>\n",
       "    <tr style=\"text-align: right;\">\n",
       "      <th></th>\n",
       "      <th>lokacija</th>\n",
       "      <th>room_factor</th>\n",
       "      <th>size</th>\n",
       "      <th>price</th>\n",
       "      <th>gradnja</th>\n",
       "      <th>adaptacija</th>\n",
       "      <th>latitude</th>\n",
       "      <th>longitude</th>\n",
       "      <th>labels</th>\n",
       "      <th>perSquaredMeter</th>\n",
       "    </tr>\n",
       "  </thead>\n",
       "  <tbody>\n",
       "    <tr>\n",
       "      <th>3</th>\n",
       "      <td>BEŽIGRAJSKI DVOR, PERIČEVA ULICA 1</td>\n",
       "      <td>3.0</td>\n",
       "      <td>8.0</td>\n",
       "      <td>400</td>\n",
       "      <td>1950.0</td>\n",
       "      <td>2007.0</td>\n",
       "      <td>46.000000</td>\n",
       "      <td>14.000000</td>\n",
       "      <td>0.0</td>\n",
       "      <td>50.000000</td>\n",
       "    </tr>\n",
       "    <tr>\n",
       "      <th>4</th>\n",
       "      <td>BIZOVIK</td>\n",
       "      <td>5.0</td>\n",
       "      <td>100.0</td>\n",
       "      <td>750</td>\n",
       "      <td>1977.0</td>\n",
       "      <td>2020.0</td>\n",
       "      <td>46.035486</td>\n",
       "      <td>14.567925</td>\n",
       "      <td>0.0</td>\n",
       "      <td>7.500000</td>\n",
       "    </tr>\n",
       "    <tr>\n",
       "      <th>5</th>\n",
       "      <td>BIZOVIK</td>\n",
       "      <td>7.0</td>\n",
       "      <td>105.5</td>\n",
       "      <td>1500</td>\n",
       "      <td>2005.0</td>\n",
       "      <td>2020.0</td>\n",
       "      <td>46.035486</td>\n",
       "      <td>14.567925</td>\n",
       "      <td>0.0</td>\n",
       "      <td>14.218009</td>\n",
       "    </tr>\n",
       "    <tr>\n",
       "      <th>6</th>\n",
       "      <td>BRDO</td>\n",
       "      <td>2.0</td>\n",
       "      <td>15.0</td>\n",
       "      <td>250</td>\n",
       "      <td>1970.0</td>\n",
       "      <td>2003.0</td>\n",
       "      <td>45.449571</td>\n",
       "      <td>13.759716</td>\n",
       "      <td>0.0</td>\n",
       "      <td>16.666667</td>\n",
       "    </tr>\n",
       "    <tr>\n",
       "      <th>7</th>\n",
       "      <td>BRDO</td>\n",
       "      <td>2.0</td>\n",
       "      <td>15.0</td>\n",
       "      <td>200</td>\n",
       "      <td>2002.0</td>\n",
       "      <td>2020.0</td>\n",
       "      <td>45.449571</td>\n",
       "      <td>13.759716</td>\n",
       "      <td>0.0</td>\n",
       "      <td>13.333333</td>\n",
       "    </tr>\n",
       "  </tbody>\n",
       "</table>\n",
       "</div>"
      ],
      "text/plain": [
       "                             lokacija  room_factor   size  price  gradnja  \\\n",
       "3  BEŽIGRAJSKI DVOR, PERIČEVA ULICA 1          3.0    8.0    400   1950.0   \n",
       "4                             BIZOVIK          5.0  100.0    750   1977.0   \n",
       "5                             BIZOVIK          7.0  105.5   1500   2005.0   \n",
       "6                                BRDO          2.0   15.0    250   1970.0   \n",
       "7                                BRDO          2.0   15.0    200   2002.0   \n",
       "\n",
       "   adaptacija   latitude  longitude  labels  perSquaredMeter  \n",
       "3      2007.0  46.000000  14.000000     0.0        50.000000  \n",
       "4      2020.0  46.035486  14.567925     0.0         7.500000  \n",
       "5      2020.0  46.035486  14.567925     0.0        14.218009  \n",
       "6      2003.0  45.449571  13.759716     0.0        16.666667  \n",
       "7      2020.0  45.449571  13.759716     0.0        13.333333  "
      ]
     },
     "execution_count": 55,
     "metadata": {},
     "output_type": "execute_result"
    }
   ],
   "source": [
    "df = df.assign(perSquaredMeter = lambda x: (x['price'] /x['size'])) \n",
    "df['adaptacija'].fillna(method='pad',axis=0, inplace=True)\n",
    "df['gradnja'].fillna(method='pad',axis=0, inplace=True)\n",
    "\n",
    "df.head()"
   ]
  },
  {
   "cell_type": "code",
   "execution_count": 56,
   "metadata": {},
   "outputs": [
    {
     "data": {
      "text/html": [
       "<div>\n",
       "<style scoped>\n",
       "    .dataframe tbody tr th:only-of-type {\n",
       "        vertical-align: middle;\n",
       "    }\n",
       "\n",
       "    .dataframe tbody tr th {\n",
       "        vertical-align: top;\n",
       "    }\n",
       "\n",
       "    .dataframe thead th {\n",
       "        text-align: right;\n",
       "    }\n",
       "</style>\n",
       "<table border=\"1\" class=\"dataframe\">\n",
       "  <thead>\n",
       "    <tr style=\"text-align: right;\">\n",
       "      <th></th>\n",
       "      <th>lokacija</th>\n",
       "      <th>room_factor</th>\n",
       "      <th>size</th>\n",
       "      <th>price</th>\n",
       "      <th>gradnja</th>\n",
       "      <th>adaptacija</th>\n",
       "      <th>latitude</th>\n",
       "      <th>longitude</th>\n",
       "      <th>labels</th>\n",
       "      <th>perSquaredMeter</th>\n",
       "    </tr>\n",
       "  </thead>\n",
       "  <tbody>\n",
       "    <tr>\n",
       "      <th>3</th>\n",
       "      <td>BEŽIGRAJSKI DVOR, PERIČEVA ULICA 1</td>\n",
       "      <td>3.0</td>\n",
       "      <td>8</td>\n",
       "      <td>400</td>\n",
       "      <td>1950</td>\n",
       "      <td>13</td>\n",
       "      <td>46.000000</td>\n",
       "      <td>14.000000</td>\n",
       "      <td>0.0</td>\n",
       "      <td>50.0</td>\n",
       "    </tr>\n",
       "    <tr>\n",
       "      <th>4</th>\n",
       "      <td>BIZOVIK</td>\n",
       "      <td>5.0</td>\n",
       "      <td>100</td>\n",
       "      <td>750</td>\n",
       "      <td>1977</td>\n",
       "      <td>0</td>\n",
       "      <td>46.035486</td>\n",
       "      <td>14.567925</td>\n",
       "      <td>0.0</td>\n",
       "      <td>7.5</td>\n",
       "    </tr>\n",
       "    <tr>\n",
       "      <th>5</th>\n",
       "      <td>BIZOVIK</td>\n",
       "      <td>7.0</td>\n",
       "      <td>105</td>\n",
       "      <td>1500</td>\n",
       "      <td>2005</td>\n",
       "      <td>0</td>\n",
       "      <td>46.035486</td>\n",
       "      <td>14.567925</td>\n",
       "      <td>0.0</td>\n",
       "      <td>14.2</td>\n",
       "    </tr>\n",
       "    <tr>\n",
       "      <th>6</th>\n",
       "      <td>BRDO</td>\n",
       "      <td>2.0</td>\n",
       "      <td>15</td>\n",
       "      <td>250</td>\n",
       "      <td>1970</td>\n",
       "      <td>17</td>\n",
       "      <td>45.449571</td>\n",
       "      <td>13.759716</td>\n",
       "      <td>0.0</td>\n",
       "      <td>16.7</td>\n",
       "    </tr>\n",
       "    <tr>\n",
       "      <th>7</th>\n",
       "      <td>BRDO</td>\n",
       "      <td>2.0</td>\n",
       "      <td>15</td>\n",
       "      <td>200</td>\n",
       "      <td>2002</td>\n",
       "      <td>0</td>\n",
       "      <td>45.449571</td>\n",
       "      <td>13.759716</td>\n",
       "      <td>0.0</td>\n",
       "      <td>13.3</td>\n",
       "    </tr>\n",
       "  </tbody>\n",
       "</table>\n",
       "</div>"
      ],
      "text/plain": [
       "                             lokacija  room_factor  size  price  gradnja  \\\n",
       "3  BEŽIGRAJSKI DVOR, PERIČEVA ULICA 1          3.0     8    400     1950   \n",
       "4                             BIZOVIK          5.0   100    750     1977   \n",
       "5                             BIZOVIK          7.0   105   1500     2005   \n",
       "6                                BRDO          2.0    15    250     1970   \n",
       "7                                BRDO          2.0    15    200     2002   \n",
       "\n",
       "   adaptacija   latitude  longitude  labels  perSquaredMeter  \n",
       "3          13  46.000000  14.000000     0.0             50.0  \n",
       "4           0  46.035486  14.567925     0.0              7.5  \n",
       "5           0  46.035486  14.567925     0.0             14.2  \n",
       "6          17  45.449571  13.759716     0.0             16.7  \n",
       "7           0  45.449571  13.759716     0.0             13.3  "
      ]
     },
     "execution_count": 56,
     "metadata": {},
     "output_type": "execute_result"
    }
   ],
   "source": [
    "df['size'] = df['size'].apply(lambda x : round(x,1))\n",
    "\n",
    "df['gradnja'] = df['gradnja'].astype('int')\n",
    "df['adaptacija'] = df['adaptacija'].astype('int')\n",
    "df['size'] = df['size'].astype('int')\n",
    "\n",
    "df['perSquaredMeter'] = df['perSquaredMeter'].apply(lambda x : round(x,1))\n",
    "df['adaptacija'] = df['adaptacija'].apply(lambda x: 2020 - x)\n",
    "\n",
    "df.head()"
   ]
  },
  {
   "cell_type": "code",
   "execution_count": 57,
   "metadata": {},
   "outputs": [
    {
     "data": {
      "text/plain": [
       "lokacija           0\n",
       "room_factor        0\n",
       "size               0\n",
       "price              0\n",
       "gradnja            0\n",
       "adaptacija         0\n",
       "latitude           0\n",
       "longitude          0\n",
       "labels             7\n",
       "perSquaredMeter    0\n",
       "dtype: int64"
      ]
     },
     "execution_count": 57,
     "metadata": {},
     "output_type": "execute_result"
    }
   ],
   "source": [
    "df['gradnja'] = df['gradnja'].apply(lambda x: 2020 - x)\n",
    "\n",
    "df.isnull().sum()"
   ]
  },
  {
   "cell_type": "code",
   "execution_count": 58,
   "metadata": {},
   "outputs": [],
   "source": [
    "room_max = df['room_factor'].max()\n",
    "size_max = df['size'].max()\n",
    "gradnja_max = df['gradnja'].max()\n",
    "adaptacija_max = df['adaptacija'].max()\n",
    "\n",
    "\n",
    "#df['size'] = df['size'].apply(lambda x : x/size_max)\n",
    "#df['room_factor'] = df['room_factor'].apply(lambda x : x/room_max)\n",
    "#df['gradnja'] = df['gradnja'].apply(lambda x : x/gradnja_max)\n",
    "#df['adaptacija'] = df['adaptacija'].apply(lambda x : x/adaptacija_max)\n"
   ]
  },
  {
   "cell_type": "code",
   "execution_count": 59,
   "metadata": {},
   "outputs": [
    {
     "data": {
      "text/html": [
       "<div>\n",
       "<style scoped>\n",
       "    .dataframe tbody tr th:only-of-type {\n",
       "        vertical-align: middle;\n",
       "    }\n",
       "\n",
       "    .dataframe tbody tr th {\n",
       "        vertical-align: top;\n",
       "    }\n",
       "\n",
       "    .dataframe thead th {\n",
       "        text-align: right;\n",
       "    }\n",
       "</style>\n",
       "<table border=\"1\" class=\"dataframe\">\n",
       "  <thead>\n",
       "    <tr style=\"text-align: right;\">\n",
       "      <th></th>\n",
       "      <th>lokacija</th>\n",
       "      <th>room_factor</th>\n",
       "      <th>size</th>\n",
       "      <th>price</th>\n",
       "      <th>gradnja</th>\n",
       "      <th>adaptacija</th>\n",
       "      <th>latitude</th>\n",
       "      <th>longitude</th>\n",
       "      <th>labels</th>\n",
       "      <th>perSquaredMeter</th>\n",
       "    </tr>\n",
       "  </thead>\n",
       "  <tbody>\n",
       "    <tr>\n",
       "      <th>3</th>\n",
       "      <td>BEŽIGRAJSKI DVOR, PERIČEVA ULICA 1</td>\n",
       "      <td>3.0</td>\n",
       "      <td>8</td>\n",
       "      <td>400</td>\n",
       "      <td>70</td>\n",
       "      <td>13</td>\n",
       "      <td>46.000000</td>\n",
       "      <td>14.000000</td>\n",
       "      <td>0.0</td>\n",
       "      <td>50.0</td>\n",
       "    </tr>\n",
       "    <tr>\n",
       "      <th>4</th>\n",
       "      <td>BIZOVIK</td>\n",
       "      <td>5.0</td>\n",
       "      <td>100</td>\n",
       "      <td>750</td>\n",
       "      <td>43</td>\n",
       "      <td>0</td>\n",
       "      <td>46.035486</td>\n",
       "      <td>14.567925</td>\n",
       "      <td>0.0</td>\n",
       "      <td>7.5</td>\n",
       "    </tr>\n",
       "    <tr>\n",
       "      <th>5</th>\n",
       "      <td>BIZOVIK</td>\n",
       "      <td>7.0</td>\n",
       "      <td>105</td>\n",
       "      <td>1500</td>\n",
       "      <td>15</td>\n",
       "      <td>0</td>\n",
       "      <td>46.035486</td>\n",
       "      <td>14.567925</td>\n",
       "      <td>0.0</td>\n",
       "      <td>14.2</td>\n",
       "    </tr>\n",
       "    <tr>\n",
       "      <th>6</th>\n",
       "      <td>BRDO</td>\n",
       "      <td>2.0</td>\n",
       "      <td>15</td>\n",
       "      <td>250</td>\n",
       "      <td>50</td>\n",
       "      <td>17</td>\n",
       "      <td>45.449571</td>\n",
       "      <td>13.759716</td>\n",
       "      <td>0.0</td>\n",
       "      <td>16.7</td>\n",
       "    </tr>\n",
       "    <tr>\n",
       "      <th>7</th>\n",
       "      <td>BRDO</td>\n",
       "      <td>2.0</td>\n",
       "      <td>15</td>\n",
       "      <td>200</td>\n",
       "      <td>18</td>\n",
       "      <td>0</td>\n",
       "      <td>45.449571</td>\n",
       "      <td>13.759716</td>\n",
       "      <td>0.0</td>\n",
       "      <td>13.3</td>\n",
       "    </tr>\n",
       "  </tbody>\n",
       "</table>\n",
       "</div>"
      ],
      "text/plain": [
       "                             lokacija  room_factor  size  price  gradnja  \\\n",
       "3  BEŽIGRAJSKI DVOR, PERIČEVA ULICA 1          3.0     8    400       70   \n",
       "4                             BIZOVIK          5.0   100    750       43   \n",
       "5                             BIZOVIK          7.0   105   1500       15   \n",
       "6                                BRDO          2.0    15    250       50   \n",
       "7                                BRDO          2.0    15    200       18   \n",
       "\n",
       "   adaptacija   latitude  longitude  labels  perSquaredMeter  \n",
       "3          13  46.000000  14.000000     0.0             50.0  \n",
       "4           0  46.035486  14.567925     0.0              7.5  \n",
       "5           0  46.035486  14.567925     0.0             14.2  \n",
       "6          17  45.449571  13.759716     0.0             16.7  \n",
       "7           0  45.449571  13.759716     0.0             13.3  "
      ]
     },
     "execution_count": 59,
     "metadata": {},
     "output_type": "execute_result"
    }
   ],
   "source": [
    "df.head()"
   ]
  },
  {
   "cell_type": "code",
   "execution_count": 60,
   "metadata": {},
   "outputs": [
    {
     "data": {
      "text/plain": [
       "60"
      ]
     },
     "execution_count": 60,
     "metadata": {},
     "output_type": "execute_result"
    }
   ],
   "source": [
    "df['adaptacija'].max()"
   ]
  },
  {
   "cell_type": "markdown",
   "metadata": {},
   "source": [
    "## Correlation"
   ]
  },
  {
   "cell_type": "code",
   "execution_count": 61,
   "metadata": {},
   "outputs": [
    {
     "data": {
      "image/png": "[encoded data removed]",
      "text/plain": [
       "<Figure size 432x288 with 1 Axes>"
      ]
     },
     "metadata": {
      "needs_background": "light"
     },
     "output_type": "display_data"
    }
   ],
   "source": [
    "df.plot(x='latitude',y='longitude')\n",
    "plt.xlabel(\"latitude\")\n",
    "plt.ylabel('longitude')\n",
    "plt.legend()\n",
    "plt.title(\"latitude vs longitude\")\n",
    "plt.show()"
   ]
  },
  {
   "cell_type": "code",
   "execution_count": 62,
   "metadata": {},
   "outputs": [
    {
     "data": {
      "image/png": "[encoded data removed]",
      "text/plain": [
       "<Figure size 432x288 with 1 Axes>"
      ]
     },
     "metadata": {
      "needs_background": "light"
     },
     "output_type": "display_data"
    }
   ],
   "source": [
    "df.plot(x='perSquaredMeter',y='size')\n",
    "plt.xlabel(\"Size\")\n",
    "plt.ylabel('Price')\n",
    "plt.legend()\n",
    "plt.title(\"Size vs Price\")\n",
    "plt.show()"
   ]
  },
  {
   "cell_type": "code",
   "execution_count": 63,
   "metadata": {},
   "outputs": [
    {
     "data": {
      "image/png": "[encoded data removed]",
      "text/plain": [
       "<Figure size 432x288 with 1 Axes>"
      ]
     },
     "metadata": {
      "needs_background": "light"
     },
     "output_type": "display_data"
    }
   ],
   "source": [
    "df.plot(x='gradnja',y='adaptacija')\n",
    "plt.xlabel(\"Size\")\n",
    "plt.ylabel('Price')\n",
    "plt.legend()\n",
    "plt.title(\"Size vs Price\")\n",
    "plt.show()"
   ]
  },
  {
   "cell_type": "code",
   "execution_count": 64,
   "metadata": {},
   "outputs": [
    {
     "data": {
      "text/html": [
       "<div>\n",
       "<style scoped>\n",
       "    .dataframe tbody tr th:only-of-type {\n",
       "        vertical-align: middle;\n",
       "    }\n",
       "\n",
       "    .dataframe tbody tr th {\n",
       "        vertical-align: top;\n",
       "    }\n",
       "\n",
       "    .dataframe thead th {\n",
       "        text-align: right;\n",
       "    }\n",
       "</style>\n",
       "<table border=\"1\" class=\"dataframe\">\n",
       "  <thead>\n",
       "    <tr style=\"text-align: right;\">\n",
       "      <th></th>\n",
       "      <th>room_factor</th>\n",
       "      <th>size</th>\n",
       "      <th>price</th>\n",
       "      <th>gradnja</th>\n",
       "      <th>adaptacija</th>\n",
       "      <th>latitude</th>\n",
       "      <th>longitude</th>\n",
       "      <th>labels</th>\n",
       "      <th>perSquaredMeter</th>\n",
       "    </tr>\n",
       "  </thead>\n",
       "  <tbody>\n",
       "    <tr>\n",
       "      <th>room_factor</th>\n",
       "      <td>1.000000</td>\n",
       "      <td>0.485472</td>\n",
       "      <td>0.574251</td>\n",
       "      <td>0.037892</td>\n",
       "      <td>-0.011488</td>\n",
       "      <td>-0.179685</td>\n",
       "      <td>-0.089063</td>\n",
       "      <td>-0.018586</td>\n",
       "      <td>0.084331</td>\n",
       "    </tr>\n",
       "    <tr>\n",
       "      <th>size</th>\n",
       "      <td>0.485472</td>\n",
       "      <td>1.000000</td>\n",
       "      <td>0.563543</td>\n",
       "      <td>0.093332</td>\n",
       "      <td>0.097227</td>\n",
       "      <td>-0.242963</td>\n",
       "      <td>-0.195081</td>\n",
       "      <td>-0.041403</td>\n",
       "      <td>-0.077210</td>\n",
       "    </tr>\n",
       "    <tr>\n",
       "      <th>price</th>\n",
       "      <td>0.574251</td>\n",
       "      <td>0.563543</td>\n",
       "      <td>1.000000</td>\n",
       "      <td>0.100078</td>\n",
       "      <td>0.037884</td>\n",
       "      <td>-0.265671</td>\n",
       "      <td>-0.165624</td>\n",
       "      <td>-0.052944</td>\n",
       "      <td>0.340071</td>\n",
       "    </tr>\n",
       "    <tr>\n",
       "      <th>gradnja</th>\n",
       "      <td>0.037892</td>\n",
       "      <td>0.093332</td>\n",
       "      <td>0.100078</td>\n",
       "      <td>1.000000</td>\n",
       "      <td>0.084989</td>\n",
       "      <td>-0.234754</td>\n",
       "      <td>-0.296122</td>\n",
       "      <td>-0.009658</td>\n",
       "      <td>0.012050</td>\n",
       "    </tr>\n",
       "    <tr>\n",
       "      <th>adaptacija</th>\n",
       "      <td>-0.011488</td>\n",
       "      <td>0.097227</td>\n",
       "      <td>0.037884</td>\n",
       "      <td>0.084989</td>\n",
       "      <td>1.000000</td>\n",
       "      <td>-0.032066</td>\n",
       "      <td>-0.023603</td>\n",
       "      <td>-0.098711</td>\n",
       "      <td>0.017859</td>\n",
       "    </tr>\n",
       "    <tr>\n",
       "      <th>latitude</th>\n",
       "      <td>-0.179685</td>\n",
       "      <td>-0.242963</td>\n",
       "      <td>-0.265671</td>\n",
       "      <td>-0.234754</td>\n",
       "      <td>-0.032066</td>\n",
       "      <td>1.000000</td>\n",
       "      <td>0.318829</td>\n",
       "      <td>-0.198016</td>\n",
       "      <td>0.018420</td>\n",
       "    </tr>\n",
       "    <tr>\n",
       "      <th>longitude</th>\n",
       "      <td>-0.089063</td>\n",
       "      <td>-0.195081</td>\n",
       "      <td>-0.165624</td>\n",
       "      <td>-0.296122</td>\n",
       "      <td>-0.023603</td>\n",
       "      <td>0.318829</td>\n",
       "      <td>1.000000</td>\n",
       "      <td>-0.028117</td>\n",
       "      <td>0.008694</td>\n",
       "    </tr>\n",
       "    <tr>\n",
       "      <th>labels</th>\n",
       "      <td>-0.018586</td>\n",
       "      <td>-0.041403</td>\n",
       "      <td>-0.052944</td>\n",
       "      <td>-0.009658</td>\n",
       "      <td>-0.098711</td>\n",
       "      <td>-0.198016</td>\n",
       "      <td>-0.028117</td>\n",
       "      <td>1.000000</td>\n",
       "      <td>-0.022223</td>\n",
       "    </tr>\n",
       "    <tr>\n",
       "      <th>perSquaredMeter</th>\n",
       "      <td>0.084331</td>\n",
       "      <td>-0.077210</td>\n",
       "      <td>0.340071</td>\n",
       "      <td>0.012050</td>\n",
       "      <td>0.017859</td>\n",
       "      <td>0.018420</td>\n",
       "      <td>0.008694</td>\n",
       "      <td>-0.022223</td>\n",
       "      <td>1.000000</td>\n",
       "    </tr>\n",
       "  </tbody>\n",
       "</table>\n",
       "</div>"
      ],
      "text/plain": [
       "                 room_factor      size     price   gradnja  adaptacija  \\\n",
       "room_factor         1.000000  0.485472  0.574251  0.037892   -0.011488   \n",
       "size                0.485472  1.000000  0.563543  0.093332    0.097227   \n",
       "price               0.574251  0.563543  1.000000  0.100078    0.037884   \n",
       "gradnja             0.037892  0.093332  0.100078  1.000000    0.084989   \n",
       "adaptacija         -0.011488  0.097227  0.037884  0.084989    1.000000   \n",
       "latitude           -0.179685 -0.242963 -0.265671 -0.234754   -0.032066   \n",
       "longitude          -0.089063 -0.195081 -0.165624 -0.296122   -0.023603   \n",
       "labels             -0.018586 -0.041403 -0.052944 -0.009658   -0.098711   \n",
       "perSquaredMeter     0.084331 -0.077210  0.340071  0.012050    0.017859   \n",
       "\n",
       "                 latitude  longitude    labels  perSquaredMeter  \n",
       "room_factor     -0.179685  -0.089063 -0.018586         0.084331  \n",
       "size            -0.242963  -0.195081 -0.041403        -0.077210  \n",
       "price           -0.265671  -0.165624 -0.052944         0.340071  \n",
       "gradnja         -0.234754  -0.296122 -0.009658         0.012050  \n",
       "adaptacija      -0.032066  -0.023603 -0.098711         0.017859  \n",
       "latitude         1.000000   0.318829 -0.198016         0.018420  \n",
       "longitude        0.318829   1.000000 -0.028117         0.008694  \n",
       "labels          -0.198016  -0.028117  1.000000        -0.022223  \n",
       "perSquaredMeter  0.018420   0.008694 -0.022223         1.000000  "
      ]
     },
     "execution_count": 64,
     "metadata": {},
     "output_type": "execute_result"
    }
   ],
   "source": [
    "corrmap = df.corr()\n",
    "corrmap"
   ]
  },
  {
   "cell_type": "code",
   "execution_count": 65,
   "metadata": {},
   "outputs": [
    {
     "data": {
      "image/png": "[encoded data removed]",
      "text/plain": [
       "<Figure size 720x504 with 2 Axes>"
      ]
     },
     "metadata": {
      "needs_background": "light"
     },
     "output_type": "display_data"
    }
   ],
   "source": [
    "fig, ax = plt.subplots(figsize = (10, 7))\n",
    "sns.heatmap(corrmap, annot = True, annot_kws = {'size': 7})\n",
    "bottom, top = ax.get_ylim()\n",
    "ax.set_ylim(bottom+0.5, top-.5)\n",
    "plt. show()"
   ]
  },
  {
   "cell_type": "code",
   "execution_count": 66,
   "metadata": {},
   "outputs": [],
   "source": [
    "def getCorrelatedFeature(corrdata, threshold):\n",
    "    feature = []\n",
    "    value = []\n",
    "    for i, index in enumerate(corrdata.index):\n",
    "        if abs(corrdata[index]) > threshold:\n",
    "            feature.append(index)\n",
    "            value.append(corrdata[index])\n",
    "    df = pd.DataFrame(data = value, index=feature, columns=['corr value'])\n",
    "    return df"
   ]
  },
  {
   "cell_type": "code",
   "execution_count": 67,
   "metadata": {},
   "outputs": [
    {
     "data": {
      "text/html": [
       "<div>\n",
       "<style scoped>\n",
       "    .dataframe tbody tr th:only-of-type {\n",
       "        vertical-align: middle;\n",
       "    }\n",
       "\n",
       "    .dataframe tbody tr th {\n",
       "        vertical-align: top;\n",
       "    }\n",
       "\n",
       "    .dataframe thead th {\n",
       "        text-align: right;\n",
       "    }\n",
       "</style>\n",
       "<table border=\"1\" class=\"dataframe\">\n",
       "  <thead>\n",
       "    <tr style=\"text-align: right;\">\n",
       "      <th></th>\n",
       "      <th>corr value</th>\n",
       "    </tr>\n",
       "  </thead>\n",
       "  <tbody>\n",
       "    <tr>\n",
       "      <th>size</th>\n",
       "      <td>1.000000</td>\n",
       "    </tr>\n",
       "    <tr>\n",
       "      <th>price</th>\n",
       "      <td>0.563543</td>\n",
       "    </tr>\n",
       "  </tbody>\n",
       "</table>\n",
       "</div>"
      ],
      "text/plain": [
       "       corr value\n",
       "size     1.000000\n",
       "price    0.563543"
      ]
     },
     "execution_count": 67,
     "metadata": {},
     "output_type": "execute_result"
    }
   ],
   "source": [
    "corr_df = getCorrelatedFeature(corrmap['size'],0.5)\n",
    "corr_df"
   ]
  },
  {
   "cell_type": "code",
   "execution_count": 68,
   "metadata": {},
   "outputs": [
    {
     "name": "stdout",
     "output_type": "stream",
     "text": [
      "stat=0.574, p=0.000\n",
      "Probably dependent\n"
     ]
    }
   ],
   "source": [
    "from scipy.stats import pearsonr\n",
    "stat, p = pearsonr(df.room_factor, df.price)\n",
    "print('stat=%.3f, p=%.3f' % (stat, p))\n",
    "if p > 0.05:\n",
    "    print('Probably independent')\n",
    "else:\n",
    "    print('Probably dependent')"
   ]
  },
  {
   "cell_type": "code",
   "execution_count": 69,
   "metadata": {},
   "outputs": [
    {
     "name": "stdout",
     "output_type": "stream",
     "text": [
      "stat=1.000, p=0.000\n",
      "Probably dependent\n"
     ]
    }
   ],
   "source": [
    "stat, p = pearsonr(df.price, df.price)\n",
    "print('stat=%.3f, p=%.3f' % (stat, p))\n",
    "if p > 0.05:\n",
    "    print('Probably independent')\n",
    "else:\n",
    "    print('Probably dependent')"
   ]
  },
  {
   "cell_type": "markdown",
   "metadata": {},
   "source": [
    "## Getting ready for model training"
   ]
  },
  {
   "cell_type": "code",
   "execution_count": 89,
   "metadata": {},
   "outputs": [],
   "source": [
    "#Y = df['price']\n",
    "df.drop('index', axis=1, inplace=True)"
   ]
  },
  {
   "cell_type": "code",
   "execution_count": 90,
   "metadata": {},
   "outputs": [],
   "source": [
    "#df.drop(['lokacija', 'latitude', 'longitude','perSquaredMeter','price'], inplace=True, axis=1)"
   ]
  },
  {
   "cell_type": "code",
   "execution_count": 91,
   "metadata": {},
   "outputs": [],
   "source": [
    "#df.dropna(inplace = True, axis=1)\n"
   ]
  },
  {
   "cell_type": "code",
   "execution_count": 92,
   "metadata": {},
   "outputs": [
    {
     "data": {
      "text/html": [
       "<div>\n",
       "<style scoped>\n",
       "    .dataframe tbody tr th:only-of-type {\n",
       "        vertical-align: middle;\n",
       "    }\n",
       "\n",
       "    .dataframe tbody tr th {\n",
       "        vertical-align: top;\n",
       "    }\n",
       "\n",
       "    .dataframe thead th {\n",
       "        text-align: right;\n",
       "    }\n",
       "</style>\n",
       "<table border=\"1\" class=\"dataframe\">\n",
       "  <thead>\n",
       "    <tr style=\"text-align: right;\">\n",
       "      <th></th>\n",
       "      <th>room_factor</th>\n",
       "      <th>size</th>\n",
       "      <th>gradnja</th>\n",
       "      <th>adaptacija</th>\n",
       "      <th>labels</th>\n",
       "    </tr>\n",
       "  </thead>\n",
       "  <tbody>\n",
       "    <tr>\n",
       "      <th>0</th>\n",
       "      <td>3.0</td>\n",
       "      <td>8</td>\n",
       "      <td>70</td>\n",
       "      <td>13</td>\n",
       "      <td>0</td>\n",
       "    </tr>\n",
       "    <tr>\n",
       "      <th>1</th>\n",
       "      <td>5.0</td>\n",
       "      <td>100</td>\n",
       "      <td>43</td>\n",
       "      <td>0</td>\n",
       "      <td>0</td>\n",
       "    </tr>\n",
       "    <tr>\n",
       "      <th>2</th>\n",
       "      <td>7.0</td>\n",
       "      <td>105</td>\n",
       "      <td>15</td>\n",
       "      <td>0</td>\n",
       "      <td>0</td>\n",
       "    </tr>\n",
       "    <tr>\n",
       "      <th>3</th>\n",
       "      <td>2.0</td>\n",
       "      <td>15</td>\n",
       "      <td>50</td>\n",
       "      <td>17</td>\n",
       "      <td>0</td>\n",
       "    </tr>\n",
       "    <tr>\n",
       "      <th>4</th>\n",
       "      <td>2.0</td>\n",
       "      <td>15</td>\n",
       "      <td>18</td>\n",
       "      <td>0</td>\n",
       "      <td>0</td>\n",
       "    </tr>\n",
       "  </tbody>\n",
       "</table>\n",
       "</div>"
      ],
      "text/plain": [
       "   room_factor  size  gradnja  adaptacija  labels\n",
       "0          3.0     8       70          13       0\n",
       "1          5.0   100       43           0       0\n",
       "2          7.0   105       15           0       0\n",
       "3          2.0    15       50          17       0\n",
       "4          2.0    15       18           0       0"
      ]
     },
     "execution_count": 92,
     "metadata": {},
     "output_type": "execute_result"
    }
   ],
   "source": [
    "df.head()"
   ]
  },
  {
   "cell_type": "code",
   "execution_count": 93,
   "metadata": {},
   "outputs": [
    {
     "data": {
      "text/plain": [
       "room_factor    float64\n",
       "size             int64\n",
       "gradnja          int64\n",
       "adaptacija       int64\n",
       "labels           int32\n",
       "dtype: object"
      ]
     },
     "execution_count": 93,
     "metadata": {},
     "output_type": "execute_result"
    }
   ],
   "source": [
    "df.dtypes"
   ]
  },
  {
   "cell_type": "markdown",
   "metadata": {},
   "source": [
    "TODO: \n",
    "    - hyperparameter tuning"
   ]
  },
  {
   "cell_type": "markdown",
   "metadata": {},
   "source": [
    "## Model training"
   ]
  },
  {
   "cell_type": "code",
   "execution_count": null,
   "metadata": {},
   "outputs": [],
   "source": [
    "from tensorboard.plugins.hparams import api as hp\n",
    "\n",
    "HP_NUM_UNITS = hp.HParam('num_units', hp.Discrete([16, 32]))\n",
    "HP_DROPOUT = hp.HParam('dropout', hp.RealInterval(0.1, 0.2))\n",
    "HP_OPTIMIZER = hp.HParam('optimizer', hp.Discrete(['adam', 'sgd']))\n",
    "\n",
    "METRIC_ACCURACY = 'RootMeanSquaredError'\n",
    "\n",
    "with tf.summary.create_file_writer('logs/hparam_tuning').as_default():\n",
    "    hp.hparams_config(\n",
    "        hparams=[HP_NUM_UNITS, HP_DROPOUT, HP_OPTIMIZER],\n",
    "        metrics=[hp.Metric(METRIC_ACCURACY, display_name='Accuracy')],\n",
    "    )"
   ]
  },
  {
   "cell_type": "code",
   "execution_count": null,
   "metadata": {},
   "outputs": [],
   "source": [
    "from tensorflow.keras.layers import Dense, Dropout, BatchNormalization\n",
    "from tensorflow.keras.regularizers import l1\n",
    "\n",
    "def create_model(hparams):\n",
    "    model = tf.keras.Sequential([\n",
    "        Dense(512),\n",
    "        Dense(128,activation='relu'),\n",
    "        Dropout(0.2),\n",
    "        Dense(hparams[HP_NUM_UNITS], activation='relu'),\n",
    "        Dense(16,activation='relu'),    \n",
    "        Dense(1)\n",
    "    ])\n",
    "    opt = tf.keras.optimizers.Adam(learning_rate=0.001)\n",
    "    model.compile(optimizer = hparams[HP_OPTIMIZER], loss ='mae', metrics=['RootMeanSquaredError'])\n",
    "    \n",
    "    return model"
   ]
  },
  {
   "cell_type": "code",
   "execution_count": null,
   "metadata": {},
   "outputs": [],
   "source": [
    "from tensorflow.keras.callbacks import ModelCheckpoint, EarlyStopping,TensorBoard\n",
    "\n",
    "checkpoint_best = .ModelCheckpoint('checkpoint', monitor='val_loss', save_freq='epoch', save_best_only=True)\n",
    "early_stopper = EarlyStopping(monitor='val_loss', patience=10, mode='auto', min_delta = 0.001)\n",
    "tensorboard = TensorBoard(histogram_freq=1)\n",
    "hyperparameter = hp.KerasCallback(logdir, hparams)\n",
    "cbs = [checkpoint_best,early_stopper, tensorboard, hyperparameter]\n",
    "\n",
    "model = create_model(hparams)\n",
    "history = model.fit(df,Y, validation_split=0.15, epochs=100, callbacks=cbs, shuffle = True, verbose=1)"
   ]
  },
  {
   "cell_type": "code",
   "execution_count": null,
   "metadata": {},
   "outputs": [],
   "source": [
    "session_num = 0\n",
    "\n",
    "for num_units in HP_NUM_UNITS.domain.values:\n",
    "    \n",
    "    for dropout_rate in (HP_DROPOUT.domain.min_value, HP_DROPOUT.domain.max_value):\n",
    "        for optimizer in HP_OPTIMIZER.domain.values:\n",
    "              hparams = {\n",
    "                  HP_NUM_UNITS: num_units,\n",
    "                  HP_DROPOUT: dropout_rate,\n",
    "                    HP_OPTIMIZER: optimizer,\n",
    "                }\n",
    "                run_name = \"run-%d\" % session_num\n",
    "                print('--- Starting trial: %s' % run_name)\n",
    "                print({h.name: hparams[h] for h in hparams})\n",
    "                run('logs/hparam_tuning/' + run_name, hparams)\n",
    "                session_num += 1"
   ]
  },
  {
   "cell_type": "code",
   "execution_count": null,
   "metadata": {},
   "outputs": [],
   "source": [
    "%tensorboard --logdir logs/hparam_tuning"
   ]
  },
  {
   "cell_type": "code",
   "execution_count": 131,
   "metadata": {},
   "outputs": [
    {
     "name": "stdout",
     "output_type": "stream",
     "text": [
      "assets\tsaved_model.pb\tvariables\r\n"
     ]
    }
   ],
   "source": [
    "!ls checkpoint"
   ]
  },
  {
   "cell_type": "code",
   "execution_count": 138,
   "metadata": {},
   "outputs": [
    {
     "data": {
      "text/html": [
       "<div>\n",
       "<style scoped>\n",
       "    .dataframe tbody tr th:only-of-type {\n",
       "        vertical-align: middle;\n",
       "    }\n",
       "\n",
       "    .dataframe tbody tr th {\n",
       "        vertical-align: top;\n",
       "    }\n",
       "\n",
       "    .dataframe thead th {\n",
       "        text-align: right;\n",
       "    }\n",
       "</style>\n",
       "<table border=\"1\" class=\"dataframe\">\n",
       "  <thead>\n",
       "    <tr style=\"text-align: right;\">\n",
       "      <th></th>\n",
       "      <th>room_factor</th>\n",
       "      <th>size</th>\n",
       "      <th>gradnja</th>\n",
       "      <th>adaptacija</th>\n",
       "      <th>labels</th>\n",
       "    </tr>\n",
       "  </thead>\n",
       "  <tbody>\n",
       "    <tr>\n",
       "      <th>2</th>\n",
       "      <td>7.0</td>\n",
       "      <td>105</td>\n",
       "      <td>15</td>\n",
       "      <td>0</td>\n",
       "      <td>0</td>\n",
       "    </tr>\n",
       "    <tr>\n",
       "      <th>3</th>\n",
       "      <td>2.0</td>\n",
       "      <td>15</td>\n",
       "      <td>50</td>\n",
       "      <td>17</td>\n",
       "      <td>0</td>\n",
       "    </tr>\n",
       "    <tr>\n",
       "      <th>4</th>\n",
       "      <td>2.0</td>\n",
       "      <td>15</td>\n",
       "      <td>18</td>\n",
       "      <td>0</td>\n",
       "      <td>0</td>\n",
       "    </tr>\n",
       "  </tbody>\n",
       "</table>\n",
       "</div>"
      ],
      "text/plain": [
       "   room_factor  size  gradnja  adaptacija  labels\n",
       "2          7.0   105       15           0       0\n",
       "3          2.0    15       50          17       0\n",
       "4          2.0    15       18           0       0"
      ]
     },
     "execution_count": 138,
     "metadata": {},
     "output_type": "execute_result"
    }
   ],
   "source": [
    "df[2:5]"
   ]
  },
  {
   "cell_type": "code",
   "execution_count": 151,
   "metadata": {},
   "outputs": [
    {
     "name": "stdout",
     "output_type": "stream",
     "text": [
      "WARNING:tensorflow:9 out of the last 9 calls to <function Model.make_predict_function.<locals>.predict_function at 0x7fbf51d26550> triggered tf.function retracing. Tracing is expensive and the excessive number of tracings could be due to (1) creating @tf.function repeatedly in a loop, (2) passing tensors with different shapes, (3) passing Python objects instead of tensors. For (1), please define your @tf.function outside of the loop. For (2), @tf.function has experimental_relax_shapes=True option that relaxes argument shapes that can avoid unnecessary retracing. For (3), please refer to https://www.tensorflow.org/tutorials/customization/performance#python_or_tensor_args and https://www.tensorflow.org/api_docs/python/tf/function for  more details.\n"
     ]
    },
    {
     "data": {
      "text/plain": [
       "array([[1468.5427 ],\n",
       "       [ 239.18153],\n",
       "       [ 229.37875]], dtype=float32)"
      ]
     },
     "execution_count": 151,
     "metadata": {},
     "output_type": "execute_result"
    }
   ],
   "source": [
    "model.predict(df[2:5])"
   ]
  },
  {
   "cell_type": "code",
   "execution_count": 140,
   "metadata": {},
   "outputs": [
    {
     "data": {
      "text/plain": [
       "Index(['loss', 'root_mean_squared_error', 'val_loss',\n",
       "       'val_root_mean_squared_error'],\n",
       "      dtype='object')"
      ]
     },
     "execution_count": 140,
     "metadata": {},
     "output_type": "execute_result"
    }
   ],
   "source": [
    "results = pd.DataFrame(history.history)\n",
    "results.keys()"
   ]
  },
  {
   "cell_type": "code",
   "execution_count": 159,
   "metadata": {},
   "outputs": [
    {
     "data": {
      "image/png": "[encoded data removed]",
      "text/plain": [
       "<Figure size 432x288 with 1 Axes>"
      ]
     },
     "metadata": {
      "needs_background": "light"
     },
     "output_type": "display_data"
    },
    {
     "data": {
      "image/png": "[encoded data removed]",
      "text/plain": [
       "<Figure size 432x288 with 1 Axes>"
      ]
     },
     "metadata": {
      "needs_background": "light"
     },
     "output_type": "display_data"
    }
   ],
   "source": [
    "acc = results['root_mean_squared_error']\n",
    "val_acc = results['val_root_mean_squared_error']\n",
    "loss = results['loss']\n",
    "val_loss = results['val_loss']\n",
    "\n",
    "\n",
    "# Accuracy plots\n",
    "plt.plot(acc)\n",
    "plt.plot(val_acc)\n",
    "plt.title('Root mean squared error')\n",
    "plt.ylabel('accuracy')\n",
    "plt.xlabel('epoch')\n",
    "plt.legend(['train', 'test'], loc='upper left')\n",
    "plt.show()\n",
    "\n",
    "# Loss plots\n",
    "plt.plot(loss)\n",
    "plt.plot(val_loss)\n",
    "plt.title('Loss')\n",
    "plt.ylabel('loss')\n",
    "plt.xlabel('epoch')\n",
    "plt.legend(['train', 'test'], loc='upper left')\n",
    "plt.show()"
   ]
  },
  {
   "cell_type": "code",
   "execution_count": null,
   "metadata": {},
   "outputs": [],
   "source": [
    "lr_range = range(1e-3, 1e-6)\n",
    "plt.plot(lr_range, loss)\n",
    "plt.title(\"Learning rate per loss\")\n",
    "plt.legend(loc='upper left')\n",
    "plt.show()"
   ]
  },
  {
   "cell_type": "code",
   "execution_count": null,
   "metadata": {},
   "outputs": [],
   "source": [
    "%load_ext tensorboard"
   ]
  },
  {
   "cell_type": "code",
   "execution_count": null,
   "metadata": {},
   "outputs": [],
   "source": [
    "!rm -rf ./logs/"
   ]
  },
  {
   "cell_type": "markdown",
   "metadata": {},
   "source": [
    "The hypotesis for this data are :\n",
    "1. Ho: there is strong corelation between offer_type and price.\n",
    "there is no corelation between Y House price and distance the nearest MRT station\n",
    "2. Ho : there is strong corelation between Y House price and size the number of size\n",
    "store, H1 : there is no corelation between Y House price and distance the number of convinenet\n",
    "store\n",
    "3. Ho : there is strong corelation between Y House price and house age H1 : there is no corelation\n",
    "between Y House price and house age\n",
    "Testing the hypotesis using pearson corelation test"
   ]
  },
  {
   "cell_type": "markdown",
   "metadata": {},
   "source": [
    "hp for learning rate"
   ]
  },
  {
   "cell_type": "code",
   "execution_count": null,
   "metadata": {},
   "outputs": [],
   "source": [
    "plt.semilogx(history.history[\"lr\"], history.history[\"loss\"])\n",
    "plt.axis([1e-8, 1e-4, 0, 30])"
   ]
  },
  {
   "cell_type": "code",
   "execution_count": null,
   "metadata": {},
   "outputs": [
    {
     "name": "stdout",
     "output_type": "stream",
     "text": [
      "2020-10-26 08:22:14.906770: W tensorflow/stream_executor/platform/default/dso_loader.cc:59] Could not load dynamic library 'libcudart.so.10.1'; dlerror: libcudart.so.10.1: cannot open shared object file: No such file or directory\n",
      "2020-10-26 08:22:14.906801: I tensorflow/stream_executor/cuda/cudart_stub.cc:29] Ignore above cudart dlerror if you do not have a GPU set up on your machine.\n",
      "Serving TensorBoard on localhost; to expose to the network, use a proxy or pass --bind_all\n",
      "TensorBoard 2.3.0 at http://localhost:6007/ (Press CTRL+C to quit)\n",
      "WARNING:tensorflow:FailedPreconditionError: checkpoint; Is a directory\n",
      "W1026 08:22:20.112598 140080425465600 checkpoint_management.py:295] FailedPreconditionError: checkpoint; Is a directory\n",
      "WARNING:tensorflow:logs/../checkpoint: Checkpoint ignored\n",
      "W1026 08:22:20.112838 140080425465600 checkpoint_management.py:296] logs/../checkpoint: Checkpoint ignored\n",
      "WARNING:tensorflow:FailedPreconditionError: checkpoint; Is a directory\n",
      "W1026 08:22:48.691108 140080636917504 checkpoint_management.py:295] FailedPreconditionError: checkpoint; Is a directory\n",
      "WARNING:tensorflow:logs/../checkpoint: Checkpoint ignored\n",
      "W1026 08:22:48.691354 140080636917504 checkpoint_management.py:296] logs/../checkpoint: Checkpoint ignored\n",
      "WARNING:tensorflow:FailedPreconditionError: checkpoint; Is a directory\n",
      "W1026 08:23:30.633194 140080425465600 checkpoint_management.py:295] FailedPreconditionError: checkpoint; Is a directory\n",
      "WARNING:tensorflow:logs/../checkpoint: Checkpoint ignored\n",
      "W1026 08:23:30.633379 140080425465600 checkpoint_management.py:296] logs/../checkpoint: Checkpoint ignored\n",
      "WARNING:tensorflow:FailedPreconditionError: checkpoint; Is a directory\n",
      "W1026 08:23:31.314851 140080425465600 checkpoint_management.py:295] FailedPreconditionError: checkpoint; Is a directory\n",
      "WARNING:tensorflow:logs/../checkpoint: Checkpoint ignored\n",
      "W1026 08:23:31.315062 140080425465600 checkpoint_management.py:296] logs/../checkpoint: Checkpoint ignored\n",
      "WARNING:tensorflow:FailedPreconditionError: checkpoint; Is a directory\n",
      "W1026 08:23:46.637456 140080417072896 checkpoint_management.py:295] FailedPreconditionError: checkpoint; Is a directory\n",
      "WARNING:tensorflow:logs/../checkpoint: Checkpoint ignored\n",
      "W1026 08:23:46.638459 140080417072896 checkpoint_management.py:296] logs/../checkpoint: Checkpoint ignored\n",
      "WARNING:tensorflow:FailedPreconditionError: checkpoint; Is a directory\n",
      "W1026 08:25:16.404406 140080417072896 checkpoint_management.py:295] FailedPreconditionError: checkpoint; Is a directory\n",
      "WARNING:tensorflow:logs/../checkpoint: Checkpoint ignored\n",
      "W1026 08:25:16.404555 140080417072896 checkpoint_management.py:296] logs/../checkpoint: Checkpoint ignored\n"
     ]
    }
   ],
   "source": [
    "#!python3 -m tensorboard.main --logdir=\"logs\""
   ]
  },
  {
   "cell_type": "code",
   "execution_count": null,
   "metadata": {},
   "outputs": [],
   "source": [
    "%tensorboard --logdir logs/fit"
   ]
  },
  {
   "cell_type": "code",
   "execution_count": null,
   "metadata": {},
   "outputs": [],
   "source": [
    "!tensorboard dev upload --logdir \\\n",
    "    'logs'"
   ]
  },
  {
   "cell_type": "markdown",
   "metadata": {},
   "source": [
    "\n"
   ]
  }
 ],
 "metadata": {
  "kernelspec": {
   "display_name": "Python 3",
   "language": "python",
   "name": "python3"
  },
  "language_info": {
   "codemirror_mode": {
    "name": "ipython",
    "version": 3
   },
   "file_extension": ".py",
   "mimetype": "text/x-python",
   "name": "python",
   "nbconvert_exporter": "python",
   "pygments_lexer": "ipython3",
   "version": "3.8.5"
  }
 },
 "nbformat": 4,
 "nbformat_minor": 4
}
